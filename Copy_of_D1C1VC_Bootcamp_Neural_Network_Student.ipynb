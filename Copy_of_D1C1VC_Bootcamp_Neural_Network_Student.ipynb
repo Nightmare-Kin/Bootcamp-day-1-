{
  "cells": [
    {
      "cell_type": "markdown",
      "metadata": {
        "id": "view-in-github",
        "colab_type": "text"
      },
      "source": [
        "<a href=\"https://colab.research.google.com/github/Nightmare-Kin/Bootcamp-day-1-/blob/main/Copy_of_D1C1VC_Bootcamp_Neural_Network_Student.ipynb\" target=\"_parent\"><img src=\"https://colab.research.google.com/assets/colab-badge.svg\" alt=\"Open In Colab\"/></a>"
      ]
    },
    {
      "cell_type": "markdown",
      "metadata": {
        "id": "dBrou3thi5L5"
      },
      "source": [
        "# Introduction to PyTorch\n",
        "\n",
        "Harvard AI Bootcamp"
      ]
    },
    {
      "cell_type": "markdown",
      "source": [
        "## Make a copy of this notebook! Editing directly will not be saved."
      ],
      "metadata": {
        "id": "rdR8-cp-9aGh"
      }
    },
    {
      "cell_type": "markdown",
      "metadata": {
        "id": "XmNmznXfi5L7"
      },
      "source": [
        "This notebook introduces you to PyTorch, an open source ML framework that allows you to build neural networks. PyTorch is the most widely used framework in research and has a huge developer community. Alternatives include [TensorFlow](https://www.tensorflow.org/), [JAX](https://github.com/google/jax#quickstart-colab-in-the-cloud) and [Caffe](http://caffe.berkeleyvision.org/).\n",
        "\n",
        "We will use a set of standard libraries that are often used in machine learning projects. If you are running this notebook on Google Colab, all libraries should be pre-installed."
      ]
    },
    {
      "cell_type": "markdown",
      "source": [
        "BEFORE WE START!\n",
        "\n",
        "At the top go to **Runtime** -> **Change Runtime Type** and make sure T4 GPU is selected (select it if not) and click **Save**. This will be important for later in the notebook so we don't have to restart the code."
      ],
      "metadata": {
        "id": "GIBkENqoxcfR"
      }
    },
    {
      "cell_type": "markdown",
      "source": [
        "# Format\n",
        "\n",
        "\n",
        "1.   PyTorch Basics\n",
        "2.   Models and Activation Functions\n",
        "3.   Gradients\n",
        "\n",
        "\n"
      ],
      "metadata": {
        "id": "Ad63Cg1CX1e4"
      }
    },
    {
      "cell_type": "code",
      "execution_count": null,
      "metadata": {
        "id": "ud5fbk0li5L8",
        "colab": {
          "base_uri": "https://localhost:8080/"
        },
        "outputId": "b5ee6825-54fd-42a6-e7e4-2dfa60904f4c"
      },
      "outputs": [
        {
          "output_type": "stream",
          "name": "stderr",
          "text": [
            "<ipython-input-1-47578708>:11: DeprecationWarning: `set_matplotlib_formats` is deprecated since IPython 7.23, directly use `matplotlib_inline.backend_inline.set_matplotlib_formats()`\n",
            "  set_matplotlib_formats('svg', 'pdf') # For export\n"
          ]
        }
      ],
      "source": [
        "## Standard libraries\n",
        "import os\n",
        "import math\n",
        "import numpy as np\n",
        "import time\n",
        "\n",
        "## Imports for plotting\n",
        "import matplotlib.pyplot as plt\n",
        "%matplotlib inline\n",
        "from IPython.display import set_matplotlib_formats\n",
        "set_matplotlib_formats('svg', 'pdf') # For export\n",
        "from matplotlib.colors import to_rgba\n",
        "import seaborn as sns\n",
        "sns.set()\n",
        "\n",
        "## Progress bar\n",
        "from tqdm.notebook import tqdm"
      ]
    },
    {
      "cell_type": "markdown",
      "metadata": {
        "id": "0AupeGw3i5L9"
      },
      "source": [
        "## The Basics of PyTorch\n",
        "\n",
        "Let's start with importing PyTorch. The package is called `torch`, based on its original framework [Torch](http://torch.ch/). As a first step, we can check its version:"
      ]
    },
    {
      "cell_type": "code",
      "execution_count": null,
      "metadata": {
        "id": "EIKiOeW8i5L9",
        "colab": {
          "base_uri": "https://localhost:8080/"
        },
        "outputId": "2b15b2f8-7e3c-423f-9456-99b9ce9f61ec"
      },
      "outputs": [
        {
          "output_type": "stream",
          "name": "stdout",
          "text": [
            "Using torch 2.6.0+cu124\n"
          ]
        }
      ],
      "source": [
        "import torch\n",
        "print(\"Using torch\", torch.__version__)"
      ]
    },
    {
      "cell_type": "markdown",
      "metadata": {
        "id": "4TlnR0QSi5L9"
      },
      "source": [
        "As in every machine learning framework, PyTorch provides functions that are stochastic like generating random numbers. However, a very good practice is to setup your code to be reproducible with the exact same random numbers. This is why we set a seed below."
      ]
    },
    {
      "cell_type": "code",
      "execution_count": null,
      "metadata": {
        "id": "bNpIaMn9i5L9"
      },
      "outputs": [],
      "source": [
        "torch.manual_seed(42) # Setting the seed"
      ]
    },
    {
      "cell_type": "markdown",
      "metadata": {
        "id": "iBDxekHCi5L9"
      },
      "source": [
        "### Tensors\n",
        "\n",
        "Tensors are the PyTorch equivalent to Numpy arrays, with the addition to also have support for GPU acceleration (more on that later).\n",
        "\n",
        "The name \"tensor\" is a generalization of familiar concepts. A vector is a 1-D tensor; a matrix a 2-D tensor.\n",
        "\n",
        "Most common functions from numpy can be used on tensors. Since numpy arrays are so similar to tensors, we can convert most tensors to numpy arrays (and back).\n",
        "\n",
        "#### Initialization\n",
        "\n",
        "Let's first start by looking at different ways of creating a tensor. There are many possible options, the simplest one is to call `torch.Tensor` passing the desired shape as input argument:"
      ]
    },
    {
      "cell_type": "code",
      "execution_count": null,
      "metadata": {
        "id": "9V8K5IfYi5L-",
        "colab": {
          "base_uri": "https://localhost:8080/"
        },
        "outputId": "efeee8c5-06fc-4ac7-83aa-52b245ab5759"
      },
      "outputs": [
        {
          "output_type": "stream",
          "name": "stdout",
          "text": [
            "tensor([[[-1.6886e-18,  4.5219e-41, -1.6898e-18,  4.5219e-41],\n",
            "         [-1.6880e-18,  4.5219e-41, -2.2323e-09,  4.5219e-41],\n",
            "         [-1.6925e-18,  4.5219e-41,  1.1433e+20,  4.5219e-41]],\n",
            "\n",
            "        [[-1.6901e-18,  4.5219e-41, -4.8176e-09,  4.5219e-41],\n",
            "         [-1.6901e-18,  4.5219e-41, -1.6878e-18,  4.5219e-41],\n",
            "         [ 1.7347e+20,  4.5219e-41, -1.6878e-18,  4.5219e-41]]])\n"
          ]
        }
      ],
      "source": [
        "# Create a 3-dimensional tensor with dimensions 2x3x4\n",
        "# torch.Tensor takes as input the dimensions of the desired tensor, and outputs an allocated tensor object. torch.Tensor(2,2) creates a 2-D square tensor.\n",
        "# Print the tensor\n",
        "\n",
        "# TODO\n",
        "x = torch.Tensor(2,3,4)\n",
        "print(x)"
      ]
    },
    {
      "cell_type": "markdown",
      "metadata": {
        "id": "jANxnx75i5L-"
      },
      "source": [
        "`torch.Tensor` allocates memory for the desired tensor, but reuses any values that have already been in the memory (hence the random numbers printed). To directly assign values to the tensor during initialization, there are many alternatives including:\n",
        "\n",
        "* `torch.zeros`: Creates a tensor filled with zeros\n",
        "* `torch.ones`: Creates a tensor filled with ones\n",
        "* `torch.rand`: Creates a tensor with random values uniformly sampled between 0 and 1\n",
        "* `torch.randn`: Creates a tensor with random values sampled from a normal distribution with mean 0 and variance 1\n",
        "* `torch.arange`: Creates a tensor containing the values $N,N+1,N+2,...,M$\n",
        "* `torch.Tensor` (input list): Creates a tensor from the list elements you provide"
      ]
    },
    {
      "cell_type": "code",
      "source": [
        "# TODO: Create a zero-valued tensor with 6 by 6 dimensions\n",
        "x = torch.zeros(6,6)\n",
        "print(x)"
      ],
      "metadata": {
        "id": "FUI-HEb2ykmt",
        "colab": {
          "base_uri": "https://localhost:8080/"
        },
        "outputId": "f4b08dce-8901-41ae-98c4-d06b4819f3ba"
      },
      "execution_count": null,
      "outputs": [
        {
          "output_type": "stream",
          "name": "stdout",
          "text": [
            "tensor([[0., 0., 0., 0., 0., 0.],\n",
            "        [0., 0., 0., 0., 0., 0.],\n",
            "        [0., 0., 0., 0., 0., 0.],\n",
            "        [0., 0., 0., 0., 0., 0.],\n",
            "        [0., 0., 0., 0., 0., 0.],\n",
            "        [0., 0., 0., 0., 0., 0.]])\n"
          ]
        }
      ]
    },
    {
      "cell_type": "code",
      "execution_count": null,
      "metadata": {
        "id": "edDPqfJai5L-",
        "colab": {
          "base_uri": "https://localhost:8080/"
        },
        "outputId": "e84a6341-e374-4a53-957e-2ba5175d3ce1"
      },
      "outputs": [
        {
          "output_type": "stream",
          "name": "stdout",
          "text": [
            "tensor([[1., 2.],\n",
            "        [3., 4.]])\n"
          ]
        }
      ],
      "source": [
        "# Create a tensor equivalent to\n",
        "# [[1, 2],\n",
        "#  [3, 4]]\n",
        "# TODO\n",
        "x = torch.Tensor([[1,2],[3,4]])\n",
        "print(x)"
      ]
    },
    {
      "cell_type": "code",
      "execution_count": null,
      "metadata": {
        "id": "q22PbEl8i5L-",
        "colab": {
          "base_uri": "https://localhost:8080/"
        },
        "outputId": "0b281d87-5b67-47e0-f106-6e018f4fff78"
      },
      "outputs": [
        {
          "output_type": "stream",
          "name": "stdout",
          "text": [
            "tensor([[[0.6612, 0.5366, 0.7784, 0.4935],\n",
            "         [0.7485, 0.4066, 0.5543, 0.7722],\n",
            "         [0.6238, 0.6195, 0.8319, 0.5912]],\n",
            "\n",
            "        [[0.4096, 0.9754, 0.5603, 0.7539],\n",
            "         [0.2692, 0.4237, 0.4051, 0.8292],\n",
            "         [0.8139, 0.5738, 0.4099, 0.8047]]])\n"
          ]
        }
      ],
      "source": [
        "# TODO: Create a tensor with random values between 0 and 1 with the shape [2, 3, 4]\n",
        "x = torch.rand(2,3,4)\n",
        "print(x)"
      ]
    },
    {
      "cell_type": "markdown",
      "source": [],
      "metadata": {
        "id": "XKGgpGdmddYR"
      }
    },
    {
      "cell_type": "markdown",
      "metadata": {
        "id": "a5zYQQeKi5ME"
      },
      "source": [
        "### GPU support\n",
        "\n",
        "A crucial feature of PyTorch is the support of GPUs, short for Graphics Processing Unit. A GPU can perform many thousands of small operations in parallel, making it very well suitable for performing large matrix operations in neural networks. When comparing GPUs to CPUs, we can list the following main differences (credit: [Kevin Krewell, 2009](https://blogs.nvidia.com/blog/2009/12/16/whats-the-difference-between-a-cpu-and-a-gpu/))\n",
        "\n",
        "<center style=\"width: 100%\"><img src=\"https://github.com/phlippe/uvadlc_notebooks/blob/master/docs/tutorial_notebooks/tutorial2/comparison_CPU_GPU.png?raw=1\" width=\"700px\"></center>\n",
        "\n",
        "GPUs can accelerate the training of your network up to a factor of $100$ which is essential for large neural networks. PyTorch implements a lot of functionality for supporting GPUs (mostly those of NVIDIA due to the libraries [CUDA](https://developer.nvidia.com/cuda-zone) and [cuDNN](https://developer.nvidia.com/cudnn)). First, let's check whether you have a GPU available:"
      ]
    },
    {
      "cell_type": "code",
      "source": [
        "gpu_avail = torch.cuda.is_available()\n",
        "print(f\"Is the GPU available? {gpu_avail}\")"
      ],
      "metadata": {
        "id": "-fizvVRk6RkU",
        "colab": {
          "base_uri": "https://localhost:8080/"
        },
        "outputId": "fa214e97-523e-489f-9223-6cc7847046cd"
      },
      "execution_count": null,
      "outputs": [
        {
          "output_type": "stream",
          "name": "stdout",
          "text": [
            "Is the GPU available? True\n"
          ]
        }
      ]
    },
    {
      "cell_type": "code",
      "source": [
        "device = torch.device(\"cuda\") if torch.cuda.is_available() else torch.device(\"cpu\")\n",
        "print(\"Device\", device)"
      ],
      "metadata": {
        "id": "uVFkMFJN6S-2",
        "colab": {
          "base_uri": "https://localhost:8080/"
        },
        "outputId": "13e0c4c9-750e-4fbb-d6a8-75a79281d864"
      },
      "execution_count": null,
      "outputs": [
        {
          "output_type": "stream",
          "name": "stdout",
          "text": [
            "Device cuda\n"
          ]
        }
      ]
    },
    {
      "cell_type": "markdown",
      "source": [
        "Now let's create a tensor and push it to the device:"
      ],
      "metadata": {
        "id": "cMWn67HZ6YeL"
      }
    },
    {
      "cell_type": "code",
      "source": [
        "x = torch.zeros(2, 3, device=device)\n",
        "x = x.to(device) # same thing\n",
        "print(\"X\", x)"
      ],
      "metadata": {
        "id": "YlJ345pl6bJS",
        "colab": {
          "base_uri": "https://localhost:8080/"
        },
        "outputId": "07f28dc5-065b-441b-b433-fe7246745b29"
      },
      "execution_count": null,
      "outputs": [
        {
          "output_type": "stream",
          "name": "stdout",
          "text": [
            "X tensor([[0., 0., 0.],\n",
            "        [0., 0., 0.]], device='cuda:0')\n"
          ]
        }
      ]
    },
    {
      "cell_type": "code",
      "source": [
        "x = torch.randn(5000, 5000)\n",
        "\n",
        "## CPU version\n",
        "start_time = time.time()\n",
        "_ = torch.matmul(x, x)\n",
        "end_time = time.time()\n",
        "print(f\"CPU time: {(end_time - start_time):6.5f}s\")\n",
        "\n",
        "## GPU version\n",
        "x = x.to(device)\n",
        "_ = torch.matmul(x, x)  # First operation to 'burn in' GPU\n",
        "# CUDA is asynchronous, so we need to use different timing functions\n",
        "start = torch.cuda.Event(enable_timing=True)\n",
        "end = torch.cuda.Event(enable_timing=True)\n",
        "start.record()\n",
        "_ = torch.matmul(x, x)\n",
        "end.record()\n",
        "torch.cuda.synchronize()  # Waits for everything to finish running on the GPU\n",
        "print(f\"GPU time: {0.001 * start.elapsed_time(end):6.5f}s\")  # Milliseconds to seconds"
      ],
      "metadata": {
        "id": "wQQ9UrEG6cQy",
        "colab": {
          "base_uri": "https://localhost:8080/"
        },
        "outputId": "db1cb4a8-42c5-4063-d291-f89e7a56ddda"
      },
      "execution_count": null,
      "outputs": [
        {
          "output_type": "stream",
          "name": "stdout",
          "text": [
            "CPU time: 2.41226s\n",
            "GPU time: 0.08761s\n"
          ]
        }
      ]
    },
    {
      "cell_type": "markdown",
      "source": [
        "Depending on the size of the operation and the CPU/GPU in your system, the speedup of this operation can be >50x."
      ],
      "metadata": {
        "id": "u3TOqA3R6gtQ"
      }
    },
    {
      "cell_type": "code",
      "source": [
        "# GPU operations have a separate seed we also want to set\n",
        "if torch.cuda.is_available():\n",
        "    torch.cuda.manual_seed(42)\n",
        "    torch.cuda.manual_seed_all(42)\n",
        "\n",
        "# Additionally, some operations on a GPU are implemented stochastic for efficiency\n",
        "# We want to ensure that all operations are deterministic on GPU (if used) for reproducibility\n",
        "torch.backends.cudnn.deterministic = True\n",
        "torch.backends.cudnn.benchmark = False"
      ],
      "metadata": {
        "id": "nE22bWV76iAo"
      },
      "execution_count": null,
      "outputs": []
    },
    {
      "cell_type": "markdown",
      "source": [
        "## Loss Functions — How a Network Learns *Anything*\n",
        "\n",
        "A **loss function** (sometimes called a cost or objective) turns the model’s raw\n",
        "predictions  into a single number that expresses “how bad” they are.\n",
        "During training we *minimise* this number, nudging the network’s parameters so\n",
        "future predictions move closer to the targets.\n",
        "\n",
        "PyTorch ships with dozens of ready-made loss modules (`torch.nn.*Loss`), but in\n",
        "practice a small handful covers the vast majority of problems:\n",
        "\n",
        "| Task type | Typical loss | Shape of penalty |\n",
        "|-----------|--------------|------------------|\n",
        "| **Regression** (predicting a real value) | *Mean-Squared Error* (MSE) | Quadratic: stronger penalty for large errors |\n",
        "| | *Mean-Absolute Error* (MAE / L1) | Linear: treats all errors proportionally |\n",
        "| | *Huber* (“Smooth L1”) | Quadratic when error is small, linear when large (robust to outliers) |\n",
        "| **Binary classification** | *Binary Cross-Entropy with Logits* (BCEWithLogits) | Steeply punishes confident wrong predictions |\n",
        "| **Multi-class classification** | *Cross-Entropy* | Same idea as BCE but for 2 + classes |\n",
        "\n",
        "> **Why so many?**  \n",
        "> Different losses encode different assumptions.  \n",
        "> • MSE assumes Gaussian noise and discourages large deviations harshly.  \n",
        "> • MAE is *robust*: one big outlier won’t dominate the gradient.  \n",
        "> • Cross-entropy lines up perfectly with maximum-likelihood estimation for\n",
        "> categorical targets and delivers well-behaved gradients near 0 / 1.\n",
        "\n",
        "### Common regression losses (math)\n",
        "\n",
        "$$\n",
        "L_{\\text{MSE}}(\\hat{y},y)=\\frac{1}{N}\\sum_{i=1}^{N}(\\hat{y}_i-y_i)^2\n",
        "$$\n",
        "\n",
        "$$\n",
        "L_{\\text{MAE}}(\\hat{y},y)=\\frac{1}{N}\\sum_{i=1}^{N}\\left|\\,\\hat{y}_i-y_i\\,\\right|\n",
        "$$\n",
        "\n",
        "$$\n",
        "L_{\\text{Huber}}^{(\\delta)}(\\hat{y},y)=\\frac{1}{N}\\sum_{i=1}^{N}\n",
        "\\begin{cases}\n",
        "\\dfrac{1}{2}\\,(\\hat{y}_i-y_i)^2 & \\text{if } \\left|\\,\\hat{y}_i-y_i\\,\\right|\\le\\delta,\\\\[6pt]\n",
        "\\delta\\left|\\,\\hat{y}_i-y_i\\,\\right|-\\dfrac{1}{2}\\,\\delta^{2} & \\text{otherwise.}\n",
        "\\end{cases}\n",
        "$$\n",
        "\n",
        "---\n",
        "\n",
        "### ✏️ Your turn – implement the losses\n",
        "\n",
        "Complete the two TODOs below. Note that the equations above show loss averaged over all errors in a vector of predictions; however, the examples below ask you to compute element-level loss (*before* averaging). The `huber` implementation is given as an example."
      ],
      "metadata": {
        "id": "CrQOLapJRku8"
      }
    },
    {
      "cell_type": "code",
      "source": [
        "# The following vector stores the errors, y^hat_i - y_i, for each data point\n",
        "errors = torch.linspace(-3, 3, steps=400)      # prediction - target\n",
        "\n",
        "# Here's an example of how you would compute element-level Huber error\n",
        "huber = torch.where(errors.abs() < 1, 0.5 * errors**2, errors.abs() - 0.5)\n",
        "\n",
        "# TODO: Compute element-level MSE\n",
        "mse = errors**2\n",
        "\n",
        "# TODO: Compute element-level MAE\n",
        "mae = errors.abs()\n",
        "\n",
        "plt.figure(figsize=(6, 4), dpi=120)\n",
        "plt.plot(errors, mse, label='MSE (L2)', lw=2)\n",
        "plt.plot(errors, mae, label='MAE (L1)', lw=2)\n",
        "plt.plot(errors, huber, label='Huber (δ=1)', lw=2)\n",
        "plt.axvline(0, color='k', lw=.7)\n",
        "plt.title('Penalty vs. error for common regression losses')\n",
        "plt.xlabel('Prediction error  (ŷ – y)')\n",
        "plt.ylabel('Loss')\n",
        "plt.legend()\n",
        "plt.tight_layout()\n",
        "plt.show()"
      ],
      "metadata": {
        "id": "K5UP_1_1RnOk",
        "colab": {
          "base_uri": "https://localhost:8080/",
          "height": 390
        },
        "outputId": "19e6f745-369b-40ee-a7ed-ebe81f9f3364"
      },
      "execution_count": null,
      "outputs": [
        {
          "output_type": "display_data",
          "data": {
            "text/plain": [
              "<Figure size 720x480 with 1 Axes>"
            ],
            "image/svg+xml": "<?xml version=\"1.0\" encoding=\"utf-8\" standalone=\"no\"?>\n<!DOCTYPE svg PUBLIC \"-//W3C//DTD SVG 1.1//EN\"\n  \"http://www.w3.org/Graphics/SVG/1.1/DTD/svg11.dtd\">\n<svg xmlns:xlink=\"http://www.w3.org/1999/xlink\" width=\"420.6425pt\" height=\"276.537813pt\" viewBox=\"0 0 420.6425 276.537813\" xmlns=\"http://www.w3.org/2000/svg\" version=\"1.1\">\n <metadata>\n  <rdf:RDF xmlns:dc=\"http://purl.org/dc/elements/1.1/\" xmlns:cc=\"http://creativecommons.org/ns#\" xmlns:rdf=\"http://www.w3.org/1999/02/22-rdf-syntax-ns#\">\n   <cc:Work>\n    <dc:type rdf:resource=\"http://purl.org/dc/dcmitype/StillImage\"/>\n    <dc:date>2025-06-16T22:10:50.547573</dc:date>\n    <dc:format>image/svg+xml</dc:format>\n    <dc:creator>\n     <cc:Agent>\n      <dc:title>Matplotlib v3.10.0, https://matplotlib.org/</dc:title>\n     </cc:Agent>\n    </dc:creator>\n   </cc:Work>\n  </rdf:RDF>\n </metadata>\n <defs>\n  <style type=\"text/css\">*{stroke-linejoin: round; stroke-linecap: butt}</style>\n </defs>\n <g id=\"figure_1\">\n  <g id=\"patch_1\">\n   <path d=\"M 0 276.537813 \nL 420.6425 276.537813 \nL 420.6425 0 \nL 0 0 \nz\n\" style=\"fill: #ffffff\"/>\n  </g>\n  <g id=\"axes_1\">\n   <g id=\"patch_2\">\n    <path d=\"M 39.3125 233.098125 \nL 413.4425 233.098125 \nL 413.4425 22.318125 \nL 39.3125 22.318125 \nz\n\" style=\"fill: #eaeaf2\"/>\n   </g>\n   <g id=\"matplotlib.axis_1\">\n    <g id=\"xtick_1\">\n     <g id=\"line2d_1\">\n      <path d=\"M 56.318409 233.098125 \nL 56.318409 22.318125 \n\" clip-path=\"url(#p6e39fb0e9a)\" style=\"fill: none; stroke: #ffffff; stroke-linecap: round\"/>\n     </g>\n     <g id=\"text_1\">\n      <!-- −3 -->\n      <g style=\"fill: #262626\" transform=\"translate(48.210206 250.956406) scale(0.11 -0.11)\">\n       <defs>\n        <path id=\"DejaVuSans-2212\" d=\"M 678 2272 \nL 4684 2272 \nL 4684 1741 \nL 678 1741 \nL 678 2272 \nz\n\" transform=\"scale(0.015625)\"/>\n        <path id=\"DejaVuSans-33\" d=\"M 2597 2516 \nQ 3050 2419 3304 2112 \nQ 3559 1806 3559 1356 \nQ 3559 666 3084 287 \nQ 2609 -91 1734 -91 \nQ 1441 -91 1130 -33 \nQ 819 25 488 141 \nL 488 750 \nQ 750 597 1062 519 \nQ 1375 441 1716 441 \nQ 2309 441 2620 675 \nQ 2931 909 2931 1356 \nQ 2931 1769 2642 2001 \nQ 2353 2234 1838 2234 \nL 1294 2234 \nL 1294 2753 \nL 1863 2753 \nQ 2328 2753 2575 2939 \nQ 2822 3125 2822 3475 \nQ 2822 3834 2567 4026 \nQ 2313 4219 1838 4219 \nQ 1578 4219 1281 4162 \nQ 984 4106 628 3988 \nL 628 4550 \nQ 988 4650 1302 4700 \nQ 1616 4750 1894 4750 \nQ 2613 4750 3031 4423 \nQ 3450 4097 3450 3541 \nQ 3450 3153 3228 2886 \nQ 3006 2619 2597 2516 \nz\n\" transform=\"scale(0.015625)\"/>\n       </defs>\n       <use xlink:href=\"#DejaVuSans-2212\"/>\n       <use xlink:href=\"#DejaVuSans-33\" transform=\"translate(83.789062 0)\"/>\n      </g>\n     </g>\n    </g>\n    <g id=\"xtick_2\">\n     <g id=\"line2d_2\">\n      <path d=\"M 113.004773 233.098125 \nL 113.004773 22.318125 \n\" clip-path=\"url(#p6e39fb0e9a)\" style=\"fill: none; stroke: #ffffff; stroke-linecap: round\"/>\n     </g>\n     <g id=\"text_2\">\n      <!-- −2 -->\n      <g style=\"fill: #262626\" transform=\"translate(104.89657 250.956406) scale(0.11 -0.11)\">\n       <defs>\n        <path id=\"DejaVuSans-32\" d=\"M 1228 531 \nL 3431 531 \nL 3431 0 \nL 469 0 \nL 469 531 \nQ 828 903 1448 1529 \nQ 2069 2156 2228 2338 \nQ 2531 2678 2651 2914 \nQ 2772 3150 2772 3378 \nQ 2772 3750 2511 3984 \nQ 2250 4219 1831 4219 \nQ 1534 4219 1204 4116 \nQ 875 4013 500 3803 \nL 500 4441 \nQ 881 4594 1212 4672 \nQ 1544 4750 1819 4750 \nQ 2544 4750 2975 4387 \nQ 3406 4025 3406 3419 \nQ 3406 3131 3298 2873 \nQ 3191 2616 2906 2266 \nQ 2828 2175 2409 1742 \nQ 1991 1309 1228 531 \nz\n\" transform=\"scale(0.015625)\"/>\n       </defs>\n       <use xlink:href=\"#DejaVuSans-2212\"/>\n       <use xlink:href=\"#DejaVuSans-32\" transform=\"translate(83.789062 0)\"/>\n      </g>\n     </g>\n    </g>\n    <g id=\"xtick_3\">\n     <g id=\"line2d_3\">\n      <path d=\"M 169.691136 233.098125 \nL 169.691136 22.318125 \n\" clip-path=\"url(#p6e39fb0e9a)\" style=\"fill: none; stroke: #ffffff; stroke-linecap: round\"/>\n     </g>\n     <g id=\"text_3\">\n      <!-- −1 -->\n      <g style=\"fill: #262626\" transform=\"translate(161.582933 250.956406) scale(0.11 -0.11)\">\n       <defs>\n        <path id=\"DejaVuSans-31\" d=\"M 794 531 \nL 1825 531 \nL 1825 4091 \nL 703 3866 \nL 703 4441 \nL 1819 4666 \nL 2450 4666 \nL 2450 531 \nL 3481 531 \nL 3481 0 \nL 794 0 \nL 794 531 \nz\n\" transform=\"scale(0.015625)\"/>\n       </defs>\n       <use xlink:href=\"#DejaVuSans-2212\"/>\n       <use xlink:href=\"#DejaVuSans-31\" transform=\"translate(83.789062 0)\"/>\n      </g>\n     </g>\n    </g>\n    <g id=\"xtick_4\">\n     <g id=\"line2d_4\">\n      <path d=\"M 226.3775 233.098125 \nL 226.3775 22.318125 \n\" clip-path=\"url(#p6e39fb0e9a)\" style=\"fill: none; stroke: #ffffff; stroke-linecap: round\"/>\n     </g>\n     <g id=\"text_4\">\n      <!-- 0 -->\n      <g style=\"fill: #262626\" transform=\"translate(222.878125 250.956406) scale(0.11 -0.11)\">\n       <defs>\n        <path id=\"DejaVuSans-30\" d=\"M 2034 4250 \nQ 1547 4250 1301 3770 \nQ 1056 3291 1056 2328 \nQ 1056 1369 1301 889 \nQ 1547 409 2034 409 \nQ 2525 409 2770 889 \nQ 3016 1369 3016 2328 \nQ 3016 3291 2770 3770 \nQ 2525 4250 2034 4250 \nz\nM 2034 4750 \nQ 2819 4750 3233 4129 \nQ 3647 3509 3647 2328 \nQ 3647 1150 3233 529 \nQ 2819 -91 2034 -91 \nQ 1250 -91 836 529 \nQ 422 1150 422 2328 \nQ 422 3509 836 4129 \nQ 1250 4750 2034 4750 \nz\n\" transform=\"scale(0.015625)\"/>\n       </defs>\n       <use xlink:href=\"#DejaVuSans-30\"/>\n      </g>\n     </g>\n    </g>\n    <g id=\"xtick_5\">\n     <g id=\"line2d_5\">\n      <path d=\"M 283.063864 233.098125 \nL 283.063864 22.318125 \n\" clip-path=\"url(#p6e39fb0e9a)\" style=\"fill: none; stroke: #ffffff; stroke-linecap: round\"/>\n     </g>\n     <g id=\"text_5\">\n      <!-- 1 -->\n      <g style=\"fill: #262626\" transform=\"translate(279.564489 250.956406) scale(0.11 -0.11)\">\n       <use xlink:href=\"#DejaVuSans-31\"/>\n      </g>\n     </g>\n    </g>\n    <g id=\"xtick_6\">\n     <g id=\"line2d_6\">\n      <path d=\"M 339.750227 233.098125 \nL 339.750227 22.318125 \n\" clip-path=\"url(#p6e39fb0e9a)\" style=\"fill: none; stroke: #ffffff; stroke-linecap: round\"/>\n     </g>\n     <g id=\"text_6\">\n      <!-- 2 -->\n      <g style=\"fill: #262626\" transform=\"translate(336.250852 250.956406) scale(0.11 -0.11)\">\n       <use xlink:href=\"#DejaVuSans-32\"/>\n      </g>\n     </g>\n    </g>\n    <g id=\"xtick_7\">\n     <g id=\"line2d_7\">\n      <path d=\"M 396.436591 233.098125 \nL 396.436591 22.318125 \n\" clip-path=\"url(#p6e39fb0e9a)\" style=\"fill: none; stroke: #ffffff; stroke-linecap: round\"/>\n     </g>\n     <g id=\"text_7\">\n      <!-- 3 -->\n      <g style=\"fill: #262626\" transform=\"translate(392.937216 250.956406) scale(0.11 -0.11)\">\n       <use xlink:href=\"#DejaVuSans-33\"/>\n      </g>\n     </g>\n    </g>\n    <g id=\"text_8\">\n     <!-- Prediction error  (ŷ – y) -->\n     <g style=\"fill: #262626\" transform=\"translate(157.731875 266.842188) scale(0.12 -0.12)\">\n      <defs>\n       <path id=\"DejaVuSans-50\" d=\"M 1259 4147 \nL 1259 2394 \nL 2053 2394 \nQ 2494 2394 2734 2622 \nQ 2975 2850 2975 3272 \nQ 2975 3691 2734 3919 \nQ 2494 4147 2053 4147 \nL 1259 4147 \nz\nM 628 4666 \nL 2053 4666 \nQ 2838 4666 3239 4311 \nQ 3641 3956 3641 3272 \nQ 3641 2581 3239 2228 \nQ 2838 1875 2053 1875 \nL 1259 1875 \nL 1259 0 \nL 628 0 \nL 628 4666 \nz\n\" transform=\"scale(0.015625)\"/>\n       <path id=\"DejaVuSans-72\" d=\"M 2631 2963 \nQ 2534 3019 2420 3045 \nQ 2306 3072 2169 3072 \nQ 1681 3072 1420 2755 \nQ 1159 2438 1159 1844 \nL 1159 0 \nL 581 0 \nL 581 3500 \nL 1159 3500 \nL 1159 2956 \nQ 1341 3275 1631 3429 \nQ 1922 3584 2338 3584 \nQ 2397 3584 2469 3576 \nQ 2541 3569 2628 3553 \nL 2631 2963 \nz\n\" transform=\"scale(0.015625)\"/>\n       <path id=\"DejaVuSans-65\" d=\"M 3597 1894 \nL 3597 1613 \nL 953 1613 \nQ 991 1019 1311 708 \nQ 1631 397 2203 397 \nQ 2534 397 2845 478 \nQ 3156 559 3463 722 \nL 3463 178 \nQ 3153 47 2828 -22 \nQ 2503 -91 2169 -91 \nQ 1331 -91 842 396 \nQ 353 884 353 1716 \nQ 353 2575 817 3079 \nQ 1281 3584 2069 3584 \nQ 2775 3584 3186 3129 \nQ 3597 2675 3597 1894 \nz\nM 3022 2063 \nQ 3016 2534 2758 2815 \nQ 2500 3097 2075 3097 \nQ 1594 3097 1305 2825 \nQ 1016 2553 972 2059 \nL 3022 2063 \nz\n\" transform=\"scale(0.015625)\"/>\n       <path id=\"DejaVuSans-64\" d=\"M 2906 2969 \nL 2906 4863 \nL 3481 4863 \nL 3481 0 \nL 2906 0 \nL 2906 525 \nQ 2725 213 2448 61 \nQ 2172 -91 1784 -91 \nQ 1150 -91 751 415 \nQ 353 922 353 1747 \nQ 353 2572 751 3078 \nQ 1150 3584 1784 3584 \nQ 2172 3584 2448 3432 \nQ 2725 3281 2906 2969 \nz\nM 947 1747 \nQ 947 1113 1208 752 \nQ 1469 391 1925 391 \nQ 2381 391 2643 752 \nQ 2906 1113 2906 1747 \nQ 2906 2381 2643 2742 \nQ 2381 3103 1925 3103 \nQ 1469 3103 1208 2742 \nQ 947 2381 947 1747 \nz\n\" transform=\"scale(0.015625)\"/>\n       <path id=\"DejaVuSans-69\" d=\"M 603 3500 \nL 1178 3500 \nL 1178 0 \nL 603 0 \nL 603 3500 \nz\nM 603 4863 \nL 1178 4863 \nL 1178 4134 \nL 603 4134 \nL 603 4863 \nz\n\" transform=\"scale(0.015625)\"/>\n       <path id=\"DejaVuSans-63\" d=\"M 3122 3366 \nL 3122 2828 \nQ 2878 2963 2633 3030 \nQ 2388 3097 2138 3097 \nQ 1578 3097 1268 2742 \nQ 959 2388 959 1747 \nQ 959 1106 1268 751 \nQ 1578 397 2138 397 \nQ 2388 397 2633 464 \nQ 2878 531 3122 666 \nL 3122 134 \nQ 2881 22 2623 -34 \nQ 2366 -91 2075 -91 \nQ 1284 -91 818 406 \nQ 353 903 353 1747 \nQ 353 2603 823 3093 \nQ 1294 3584 2113 3584 \nQ 2378 3584 2631 3529 \nQ 2884 3475 3122 3366 \nz\n\" transform=\"scale(0.015625)\"/>\n       <path id=\"DejaVuSans-74\" d=\"M 1172 4494 \nL 1172 3500 \nL 2356 3500 \nL 2356 3053 \nL 1172 3053 \nL 1172 1153 \nQ 1172 725 1289 603 \nQ 1406 481 1766 481 \nL 2356 481 \nL 2356 0 \nL 1766 0 \nQ 1100 0 847 248 \nQ 594 497 594 1153 \nL 594 3053 \nL 172 3053 \nL 172 3500 \nL 594 3500 \nL 594 4494 \nL 1172 4494 \nz\n\" transform=\"scale(0.015625)\"/>\n       <path id=\"DejaVuSans-6f\" d=\"M 1959 3097 \nQ 1497 3097 1228 2736 \nQ 959 2375 959 1747 \nQ 959 1119 1226 758 \nQ 1494 397 1959 397 \nQ 2419 397 2687 759 \nQ 2956 1122 2956 1747 \nQ 2956 2369 2687 2733 \nQ 2419 3097 1959 3097 \nz\nM 1959 3584 \nQ 2709 3584 3137 3096 \nQ 3566 2609 3566 1747 \nQ 3566 888 3137 398 \nQ 2709 -91 1959 -91 \nQ 1206 -91 779 398 \nQ 353 888 353 1747 \nQ 353 2609 779 3096 \nQ 1206 3584 1959 3584 \nz\n\" transform=\"scale(0.015625)\"/>\n       <path id=\"DejaVuSans-6e\" d=\"M 3513 2113 \nL 3513 0 \nL 2938 0 \nL 2938 2094 \nQ 2938 2591 2744 2837 \nQ 2550 3084 2163 3084 \nQ 1697 3084 1428 2787 \nQ 1159 2491 1159 1978 \nL 1159 0 \nL 581 0 \nL 581 3500 \nL 1159 3500 \nL 1159 2956 \nQ 1366 3272 1645 3428 \nQ 1925 3584 2291 3584 \nQ 2894 3584 3203 3211 \nQ 3513 2838 3513 2113 \nz\n\" transform=\"scale(0.015625)\"/>\n       <path id=\"DejaVuSans-20\" transform=\"scale(0.015625)\"/>\n       <path id=\"DejaVuSans-28\" d=\"M 1984 4856 \nQ 1566 4138 1362 3434 \nQ 1159 2731 1159 2009 \nQ 1159 1288 1364 580 \nQ 1569 -128 1984 -844 \nL 1484 -844 \nQ 1016 -109 783 600 \nQ 550 1309 550 2009 \nQ 550 2706 781 3412 \nQ 1013 4119 1484 4856 \nL 1984 4856 \nz\n\" transform=\"scale(0.015625)\"/>\n       <path id=\"DejaVuSans-177\" d=\"M 1665 5119 \nL 2127 5119 \nL 2893 3944 \nL 2459 3944 \nL 1896 4709 \nL 1334 3944 \nL 899 3944 \nL 1665 5119 \nz\nM 2059 -325 \nQ 1816 -950 1584 -1140 \nQ 1353 -1331 966 -1331 \nL 506 -1331 \nL 506 -850 \nL 844 -850 \nQ 1081 -850 1212 -737 \nQ 1344 -625 1503 -206 \nL 1606 56 \nL 191 3500 \nL 800 3500 \nL 1894 763 \nL 2988 3500 \nL 3597 3500 \nL 2059 -325 \nz\n\" transform=\"scale(0.015625)\"/>\n       <path id=\"DejaVuSans-2013\" d=\"M 313 1978 \nL 2888 1978 \nL 2888 1528 \nL 313 1528 \nL 313 1978 \nz\n\" transform=\"scale(0.015625)\"/>\n       <path id=\"DejaVuSans-79\" d=\"M 2059 -325 \nQ 1816 -950 1584 -1140 \nQ 1353 -1331 966 -1331 \nL 506 -1331 \nL 506 -850 \nL 844 -850 \nQ 1081 -850 1212 -737 \nQ 1344 -625 1503 -206 \nL 1606 56 \nL 191 3500 \nL 800 3500 \nL 1894 763 \nL 2988 3500 \nL 3597 3500 \nL 2059 -325 \nz\n\" transform=\"scale(0.015625)\"/>\n       <path id=\"DejaVuSans-29\" d=\"M 513 4856 \nL 1013 4856 \nQ 1481 4119 1714 3412 \nQ 1947 2706 1947 2009 \nQ 1947 1309 1714 600 \nQ 1481 -109 1013 -844 \nL 513 -844 \nQ 928 -128 1133 580 \nQ 1338 1288 1338 2009 \nQ 1338 2731 1133 3434 \nQ 928 4138 513 4856 \nz\n\" transform=\"scale(0.015625)\"/>\n      </defs>\n      <use xlink:href=\"#DejaVuSans-50\"/>\n      <use xlink:href=\"#DejaVuSans-72\" transform=\"translate(58.552734 0)\"/>\n      <use xlink:href=\"#DejaVuSans-65\" transform=\"translate(97.416016 0)\"/>\n      <use xlink:href=\"#DejaVuSans-64\" transform=\"translate(158.939453 0)\"/>\n      <use xlink:href=\"#DejaVuSans-69\" transform=\"translate(222.416016 0)\"/>\n      <use xlink:href=\"#DejaVuSans-63\" transform=\"translate(250.199219 0)\"/>\n      <use xlink:href=\"#DejaVuSans-74\" transform=\"translate(305.179688 0)\"/>\n      <use xlink:href=\"#DejaVuSans-69\" transform=\"translate(344.388672 0)\"/>\n      <use xlink:href=\"#DejaVuSans-6f\" transform=\"translate(372.171875 0)\"/>\n      <use xlink:href=\"#DejaVuSans-6e\" transform=\"translate(433.353516 0)\"/>\n      <use xlink:href=\"#DejaVuSans-20\" transform=\"translate(496.732422 0)\"/>\n      <use xlink:href=\"#DejaVuSans-65\" transform=\"translate(528.519531 0)\"/>\n      <use xlink:href=\"#DejaVuSans-72\" transform=\"translate(590.042969 0)\"/>\n      <use xlink:href=\"#DejaVuSans-72\" transform=\"translate(629.40625 0)\"/>\n      <use xlink:href=\"#DejaVuSans-6f\" transform=\"translate(668.269531 0)\"/>\n      <use xlink:href=\"#DejaVuSans-72\" transform=\"translate(729.451172 0)\"/>\n      <use xlink:href=\"#DejaVuSans-20\" transform=\"translate(770.564453 0)\"/>\n      <use xlink:href=\"#DejaVuSans-20\" transform=\"translate(802.351562 0)\"/>\n      <use xlink:href=\"#DejaVuSans-28\" transform=\"translate(834.138672 0)\"/>\n      <use xlink:href=\"#DejaVuSans-177\" transform=\"translate(873.152344 0)\"/>\n      <use xlink:href=\"#DejaVuSans-20\" transform=\"translate(932.332031 0)\"/>\n      <use xlink:href=\"#DejaVuSans-2013\" transform=\"translate(964.119141 0)\"/>\n      <use xlink:href=\"#DejaVuSans-20\" transform=\"translate(1014.119141 0)\"/>\n      <use xlink:href=\"#DejaVuSans-79\" transform=\"translate(1045.90625 0)\"/>\n      <use xlink:href=\"#DejaVuSans-29\" transform=\"translate(1105.085938 0)\"/>\n     </g>\n    </g>\n   </g>\n   <g id=\"matplotlib.axis_2\">\n    <g id=\"ytick_1\">\n     <g id=\"line2d_8\">\n      <path d=\"M 39.3125 223.517818 \nL 413.4425 223.517818 \n\" clip-path=\"url(#p6e39fb0e9a)\" style=\"fill: none; stroke: #ffffff; stroke-linecap: round\"/>\n     </g>\n     <g id=\"text_9\">\n      <!-- 0 -->\n      <g style=\"fill: #262626\" transform=\"translate(22.81375 227.696958) scale(0.11 -0.11)\">\n       <use xlink:href=\"#DejaVuSans-30\"/>\n      </g>\n     </g>\n    </g>\n    <g id=\"ytick_2\">\n     <g id=\"line2d_9\">\n      <path d=\"M 39.3125 180.935866 \nL 413.4425 180.935866 \n\" clip-path=\"url(#p6e39fb0e9a)\" style=\"fill: none; stroke: #ffffff; stroke-linecap: round\"/>\n     </g>\n     <g id=\"text_10\">\n      <!-- 2 -->\n      <g style=\"fill: #262626\" transform=\"translate(22.81375 185.115006) scale(0.11 -0.11)\">\n       <use xlink:href=\"#DejaVuSans-32\"/>\n      </g>\n     </g>\n    </g>\n    <g id=\"ytick_3\">\n     <g id=\"line2d_10\">\n      <path d=\"M 39.3125 138.353914 \nL 413.4425 138.353914 \n\" clip-path=\"url(#p6e39fb0e9a)\" style=\"fill: none; stroke: #ffffff; stroke-linecap: round\"/>\n     </g>\n     <g id=\"text_11\">\n      <!-- 4 -->\n      <g style=\"fill: #262626\" transform=\"translate(22.81375 142.533055) scale(0.11 -0.11)\">\n       <defs>\n        <path id=\"DejaVuSans-34\" d=\"M 2419 4116 \nL 825 1625 \nL 2419 1625 \nL 2419 4116 \nz\nM 2253 4666 \nL 3047 4666 \nL 3047 1625 \nL 3713 1625 \nL 3713 1100 \nL 3047 1100 \nL 3047 0 \nL 2419 0 \nL 2419 1100 \nL 313 1100 \nL 313 1709 \nL 2253 4666 \nz\n\" transform=\"scale(0.015625)\"/>\n       </defs>\n       <use xlink:href=\"#DejaVuSans-34\"/>\n      </g>\n     </g>\n    </g>\n    <g id=\"ytick_4\">\n     <g id=\"line2d_11\">\n      <path d=\"M 39.3125 95.771962 \nL 413.4425 95.771962 \n\" clip-path=\"url(#p6e39fb0e9a)\" style=\"fill: none; stroke: #ffffff; stroke-linecap: round\"/>\n     </g>\n     <g id=\"text_12\">\n      <!-- 6 -->\n      <g style=\"fill: #262626\" transform=\"translate(22.81375 99.951103) scale(0.11 -0.11)\">\n       <defs>\n        <path id=\"DejaVuSans-36\" d=\"M 2113 2584 \nQ 1688 2584 1439 2293 \nQ 1191 2003 1191 1497 \nQ 1191 994 1439 701 \nQ 1688 409 2113 409 \nQ 2538 409 2786 701 \nQ 3034 994 3034 1497 \nQ 3034 2003 2786 2293 \nQ 2538 2584 2113 2584 \nz\nM 3366 4563 \nL 3366 3988 \nQ 3128 4100 2886 4159 \nQ 2644 4219 2406 4219 \nQ 1781 4219 1451 3797 \nQ 1122 3375 1075 2522 \nQ 1259 2794 1537 2939 \nQ 1816 3084 2150 3084 \nQ 2853 3084 3261 2657 \nQ 3669 2231 3669 1497 \nQ 3669 778 3244 343 \nQ 2819 -91 2113 -91 \nQ 1303 -91 875 529 \nQ 447 1150 447 2328 \nQ 447 3434 972 4092 \nQ 1497 4750 2381 4750 \nQ 2619 4750 2861 4703 \nQ 3103 4656 3366 4563 \nz\n\" transform=\"scale(0.015625)\"/>\n       </defs>\n       <use xlink:href=\"#DejaVuSans-36\"/>\n      </g>\n     </g>\n    </g>\n    <g id=\"ytick_5\">\n     <g id=\"line2d_12\">\n      <path d=\"M 39.3125 53.19001 \nL 413.4425 53.19001 \n\" clip-path=\"url(#p6e39fb0e9a)\" style=\"fill: none; stroke: #ffffff; stroke-linecap: round\"/>\n     </g>\n     <g id=\"text_13\">\n      <!-- 8 -->\n      <g style=\"fill: #262626\" transform=\"translate(22.81375 57.369151) scale(0.11 -0.11)\">\n       <defs>\n        <path id=\"DejaVuSans-38\" d=\"M 2034 2216 \nQ 1584 2216 1326 1975 \nQ 1069 1734 1069 1313 \nQ 1069 891 1326 650 \nQ 1584 409 2034 409 \nQ 2484 409 2743 651 \nQ 3003 894 3003 1313 \nQ 3003 1734 2745 1975 \nQ 2488 2216 2034 2216 \nz\nM 1403 2484 \nQ 997 2584 770 2862 \nQ 544 3141 544 3541 \nQ 544 4100 942 4425 \nQ 1341 4750 2034 4750 \nQ 2731 4750 3128 4425 \nQ 3525 4100 3525 3541 \nQ 3525 3141 3298 2862 \nQ 3072 2584 2669 2484 \nQ 3125 2378 3379 2068 \nQ 3634 1759 3634 1313 \nQ 3634 634 3220 271 \nQ 2806 -91 2034 -91 \nQ 1263 -91 848 271 \nQ 434 634 434 1313 \nQ 434 1759 690 2068 \nQ 947 2378 1403 2484 \nz\nM 1172 3481 \nQ 1172 3119 1398 2916 \nQ 1625 2713 2034 2713 \nQ 2441 2713 2670 2916 \nQ 2900 3119 2900 3481 \nQ 2900 3844 2670 4047 \nQ 2441 4250 2034 4250 \nQ 1625 4250 1398 4047 \nQ 1172 3844 1172 3481 \nz\n\" transform=\"scale(0.015625)\"/>\n       </defs>\n       <use xlink:href=\"#DejaVuSans-38\"/>\n      </g>\n     </g>\n    </g>\n    <g id=\"text_14\">\n     <!-- Loss -->\n     <g style=\"fill: #262626\" transform=\"translate(16.318125 140.86875) rotate(-90) scale(0.12 -0.12)\">\n      <defs>\n       <path id=\"DejaVuSans-4c\" d=\"M 628 4666 \nL 1259 4666 \nL 1259 531 \nL 3531 531 \nL 3531 0 \nL 628 0 \nL 628 4666 \nz\n\" transform=\"scale(0.015625)\"/>\n       <path id=\"DejaVuSans-73\" d=\"M 2834 3397 \nL 2834 2853 \nQ 2591 2978 2328 3040 \nQ 2066 3103 1784 3103 \nQ 1356 3103 1142 2972 \nQ 928 2841 928 2578 \nQ 928 2378 1081 2264 \nQ 1234 2150 1697 2047 \nL 1894 2003 \nQ 2506 1872 2764 1633 \nQ 3022 1394 3022 966 \nQ 3022 478 2636 193 \nQ 2250 -91 1575 -91 \nQ 1294 -91 989 -36 \nQ 684 19 347 128 \nL 347 722 \nQ 666 556 975 473 \nQ 1284 391 1588 391 \nQ 1994 391 2212 530 \nQ 2431 669 2431 922 \nQ 2431 1156 2273 1281 \nQ 2116 1406 1581 1522 \nL 1381 1569 \nQ 847 1681 609 1914 \nQ 372 2147 372 2553 \nQ 372 3047 722 3315 \nQ 1072 3584 1716 3584 \nQ 2034 3584 2315 3537 \nQ 2597 3491 2834 3397 \nz\n\" transform=\"scale(0.015625)\"/>\n      </defs>\n      <use xlink:href=\"#DejaVuSans-4c\"/>\n      <use xlink:href=\"#DejaVuSans-6f\" transform=\"translate(53.962891 0)\"/>\n      <use xlink:href=\"#DejaVuSans-73\" transform=\"translate(115.144531 0)\"/>\n      <use xlink:href=\"#DejaVuSans-73\" transform=\"translate(167.244141 0)\"/>\n     </g>\n    </g>\n   </g>\n   <g id=\"line2d_13\">\n    <path d=\"M 56.318409 31.899034 \nL 63.137822 46.958836 \nL 69.104812 59.630637 \nL 75.071789 71.830589 \nL 81.038779 83.558751 \nL 87.005768 94.815085 \nL 92.972745 105.599578 \nL 98.939735 115.912273 \nL 104.906725 125.753138 \nL 110.873715 135.122184 \nL 116.840691 144.01939 \nL 121.955251 151.270046 \nL 127.069811 158.174056 \nL 132.184371 164.731425 \nL 137.298931 170.942147 \nL 142.41349 176.806223 \nL 147.52805 182.323654 \nL 152.64261 187.49444 \nL 157.75717 192.31858 \nL 162.87173 196.796077 \nL 167.986283 200.926922 \nL 172.24842 204.104505 \nL 176.510553 207.041356 \nL 180.772683 209.737481 \nL 185.034816 212.192883 \nL 189.296949 214.407558 \nL 193.559083 216.381509 \nL 197.821216 218.114733 \nL 202.083347 219.607231 \nL 206.345481 220.859004 \nL 210.607614 221.870052 \nL 214.869746 222.640374 \nL 219.131879 223.16997 \nL 223.394011 223.45884 \nL 227.656136 223.506985 \nL 231.918268 223.314405 \nL 236.180401 222.881099 \nL 240.442534 222.207067 \nL 244.704666 221.292311 \nL 248.966799 220.136828 \nL 253.228931 218.74062 \nL 257.491064 217.103686 \nL 261.753197 215.226026 \nL 266.015331 213.10764 \nL 270.277464 210.748529 \nL 274.539594 208.148695 \nL 278.801727 205.308132 \nL 283.06386 202.226844 \nL 287.325993 198.90483 \nL 291.588123 195.342094 \nL 296.702683 190.749051 \nL 301.817243 185.809359 \nL 306.931803 180.523026 \nL 312.046363 174.890043 \nL 317.160923 168.910423 \nL 322.275483 162.584151 \nL 327.390043 155.911234 \nL 332.504602 148.891676 \nL 337.619162 141.525471 \nL 342.733722 133.812625 \nL 348.700699 124.376198 \nL 354.667689 114.467922 \nL 360.634678 104.087826 \nL 366.601668 93.23591 \nL 372.568645 81.912196 \nL 378.535635 70.116632 \nL 384.502625 57.849249 \nL 390.469601 45.110056 \nL 396.436591 31.899034 \nL 396.436591 31.899034 \n\" clip-path=\"url(#p6e39fb0e9a)\" style=\"fill: none; stroke: #4c72b0; stroke-width: 2; stroke-linecap: round\"/>\n   </g>\n   <g id=\"line2d_14\">\n    <path d=\"M 56.318409 159.64489 \nL 225.951291 223.357737 \nL 226.803709 223.357737 \nL 396.436591 159.64489 \nL 396.436591 159.64489 \n\" clip-path=\"url(#p6e39fb0e9a)\" style=\"fill: none; stroke: #dd8452; stroke-width: 2; stroke-linecap: round\"/>\n   </g>\n   <g id=\"line2d_15\">\n    <path d=\"M 56.318409 170.290378 \nL 175.658126 214.995531 \nL 181.625109 216.882819 \nL 187.592096 218.534197 \nL 193.559083 219.949663 \nL 199.526069 221.129219 \nL 205.493054 222.072863 \nL 211.46004 222.780596 \nL 217.427025 223.252418 \nL 223.394011 223.488329 \nL 229.360989 223.488329 \nL 235.327975 223.252418 \nL 241.29496 222.780596 \nL 247.261946 222.072863 \nL 253.228931 221.129219 \nL 259.195917 219.949663 \nL 265.162904 218.534197 \nL 271.129891 216.882819 \nL 277.096874 214.995531 \nL 283.06386 212.872331 \nL 396.436591 170.290378 \nL 396.436591 170.290378 \n\" clip-path=\"url(#p6e39fb0e9a)\" style=\"fill: none; stroke: #55a868; stroke-width: 2; stroke-linecap: round\"/>\n   </g>\n   <g id=\"line2d_16\">\n    <path d=\"M 226.3775 233.098125 \nL 226.3775 22.318125 \n\" clip-path=\"url(#p6e39fb0e9a)\" style=\"fill: none; stroke: #1a1a1a; stroke-width: 0.7; stroke-linecap: round\"/>\n   </g>\n   <g id=\"patch_3\">\n    <path d=\"M 39.3125 233.098125 \nL 39.3125 22.318125 \n\" style=\"fill: none; stroke: #ffffff; stroke-width: 1.25; stroke-linejoin: miter; stroke-linecap: square\"/>\n   </g>\n   <g id=\"patch_4\">\n    <path d=\"M 413.4425 233.098125 \nL 413.4425 22.318125 \n\" style=\"fill: none; stroke: #ffffff; stroke-width: 1.25; stroke-linejoin: miter; stroke-linecap: square\"/>\n   </g>\n   <g id=\"patch_5\">\n    <path d=\"M 39.3125 233.098125 \nL 413.4425 233.098125 \n\" style=\"fill: none; stroke: #ffffff; stroke-width: 1.25; stroke-linejoin: miter; stroke-linecap: square\"/>\n   </g>\n   <g id=\"patch_6\">\n    <path d=\"M 39.3125 22.318125 \nL 413.4425 22.318125 \n\" style=\"fill: none; stroke: #ffffff; stroke-width: 1.25; stroke-linejoin: miter; stroke-linecap: square\"/>\n   </g>\n   <g id=\"text_15\">\n    <!-- Penalty vs. error for common regression losses -->\n    <g style=\"fill: #262626\" transform=\"translate(85.650313 16.318125) scale(0.12 -0.12)\">\n     <defs>\n      <path id=\"DejaVuSans-61\" d=\"M 2194 1759 \nQ 1497 1759 1228 1600 \nQ 959 1441 959 1056 \nQ 959 750 1161 570 \nQ 1363 391 1709 391 \nQ 2188 391 2477 730 \nQ 2766 1069 2766 1631 \nL 2766 1759 \nL 2194 1759 \nz\nM 3341 1997 \nL 3341 0 \nL 2766 0 \nL 2766 531 \nQ 2569 213 2275 61 \nQ 1981 -91 1556 -91 \nQ 1019 -91 701 211 \nQ 384 513 384 1019 \nQ 384 1609 779 1909 \nQ 1175 2209 1959 2209 \nL 2766 2209 \nL 2766 2266 \nQ 2766 2663 2505 2880 \nQ 2244 3097 1772 3097 \nQ 1472 3097 1187 3025 \nQ 903 2953 641 2809 \nL 641 3341 \nQ 956 3463 1253 3523 \nQ 1550 3584 1831 3584 \nQ 2591 3584 2966 3190 \nQ 3341 2797 3341 1997 \nz\n\" transform=\"scale(0.015625)\"/>\n      <path id=\"DejaVuSans-6c\" d=\"M 603 4863 \nL 1178 4863 \nL 1178 0 \nL 603 0 \nL 603 4863 \nz\n\" transform=\"scale(0.015625)\"/>\n      <path id=\"DejaVuSans-76\" d=\"M 191 3500 \nL 800 3500 \nL 1894 563 \nL 2988 3500 \nL 3597 3500 \nL 2284 0 \nL 1503 0 \nL 191 3500 \nz\n\" transform=\"scale(0.015625)\"/>\n      <path id=\"DejaVuSans-2e\" d=\"M 684 794 \nL 1344 794 \nL 1344 0 \nL 684 0 \nL 684 794 \nz\n\" transform=\"scale(0.015625)\"/>\n      <path id=\"DejaVuSans-66\" d=\"M 2375 4863 \nL 2375 4384 \nL 1825 4384 \nQ 1516 4384 1395 4259 \nQ 1275 4134 1275 3809 \nL 1275 3500 \nL 2222 3500 \nL 2222 3053 \nL 1275 3053 \nL 1275 0 \nL 697 0 \nL 697 3053 \nL 147 3053 \nL 147 3500 \nL 697 3500 \nL 697 3744 \nQ 697 4328 969 4595 \nQ 1241 4863 1831 4863 \nL 2375 4863 \nz\n\" transform=\"scale(0.015625)\"/>\n      <path id=\"DejaVuSans-6d\" d=\"M 3328 2828 \nQ 3544 3216 3844 3400 \nQ 4144 3584 4550 3584 \nQ 5097 3584 5394 3201 \nQ 5691 2819 5691 2113 \nL 5691 0 \nL 5113 0 \nL 5113 2094 \nQ 5113 2597 4934 2840 \nQ 4756 3084 4391 3084 \nQ 3944 3084 3684 2787 \nQ 3425 2491 3425 1978 \nL 3425 0 \nL 2847 0 \nL 2847 2094 \nQ 2847 2600 2669 2842 \nQ 2491 3084 2119 3084 \nQ 1678 3084 1418 2786 \nQ 1159 2488 1159 1978 \nL 1159 0 \nL 581 0 \nL 581 3500 \nL 1159 3500 \nL 1159 2956 \nQ 1356 3278 1631 3431 \nQ 1906 3584 2284 3584 \nQ 2666 3584 2933 3390 \nQ 3200 3197 3328 2828 \nz\n\" transform=\"scale(0.015625)\"/>\n      <path id=\"DejaVuSans-67\" d=\"M 2906 1791 \nQ 2906 2416 2648 2759 \nQ 2391 3103 1925 3103 \nQ 1463 3103 1205 2759 \nQ 947 2416 947 1791 \nQ 947 1169 1205 825 \nQ 1463 481 1925 481 \nQ 2391 481 2648 825 \nQ 2906 1169 2906 1791 \nz\nM 3481 434 \nQ 3481 -459 3084 -895 \nQ 2688 -1331 1869 -1331 \nQ 1566 -1331 1297 -1286 \nQ 1028 -1241 775 -1147 \nL 775 -588 \nQ 1028 -725 1275 -790 \nQ 1522 -856 1778 -856 \nQ 2344 -856 2625 -561 \nQ 2906 -266 2906 331 \nL 2906 616 \nQ 2728 306 2450 153 \nQ 2172 0 1784 0 \nQ 1141 0 747 490 \nQ 353 981 353 1791 \nQ 353 2603 747 3093 \nQ 1141 3584 1784 3584 \nQ 2172 3584 2450 3431 \nQ 2728 3278 2906 2969 \nL 2906 3500 \nL 3481 3500 \nL 3481 434 \nz\n\" transform=\"scale(0.015625)\"/>\n     </defs>\n     <use xlink:href=\"#DejaVuSans-50\"/>\n     <use xlink:href=\"#DejaVuSans-65\" transform=\"translate(56.677734 0)\"/>\n     <use xlink:href=\"#DejaVuSans-6e\" transform=\"translate(118.201172 0)\"/>\n     <use xlink:href=\"#DejaVuSans-61\" transform=\"translate(181.580078 0)\"/>\n     <use xlink:href=\"#DejaVuSans-6c\" transform=\"translate(242.859375 0)\"/>\n     <use xlink:href=\"#DejaVuSans-74\" transform=\"translate(270.642578 0)\"/>\n     <use xlink:href=\"#DejaVuSans-79\" transform=\"translate(309.851562 0)\"/>\n     <use xlink:href=\"#DejaVuSans-20\" transform=\"translate(369.03125 0)\"/>\n     <use xlink:href=\"#DejaVuSans-76\" transform=\"translate(400.818359 0)\"/>\n     <use xlink:href=\"#DejaVuSans-73\" transform=\"translate(459.998047 0)\"/>\n     <use xlink:href=\"#DejaVuSans-2e\" transform=\"translate(512.097656 0)\"/>\n     <use xlink:href=\"#DejaVuSans-20\" transform=\"translate(543.884766 0)\"/>\n     <use xlink:href=\"#DejaVuSans-65\" transform=\"translate(575.671875 0)\"/>\n     <use xlink:href=\"#DejaVuSans-72\" transform=\"translate(637.195312 0)\"/>\n     <use xlink:href=\"#DejaVuSans-72\" transform=\"translate(676.558594 0)\"/>\n     <use xlink:href=\"#DejaVuSans-6f\" transform=\"translate(715.421875 0)\"/>\n     <use xlink:href=\"#DejaVuSans-72\" transform=\"translate(776.603516 0)\"/>\n     <use xlink:href=\"#DejaVuSans-20\" transform=\"translate(817.716797 0)\"/>\n     <use xlink:href=\"#DejaVuSans-66\" transform=\"translate(849.503906 0)\"/>\n     <use xlink:href=\"#DejaVuSans-6f\" transform=\"translate(884.708984 0)\"/>\n     <use xlink:href=\"#DejaVuSans-72\" transform=\"translate(945.890625 0)\"/>\n     <use xlink:href=\"#DejaVuSans-20\" transform=\"translate(987.003906 0)\"/>\n     <use xlink:href=\"#DejaVuSans-63\" transform=\"translate(1018.791016 0)\"/>\n     <use xlink:href=\"#DejaVuSans-6f\" transform=\"translate(1073.771484 0)\"/>\n     <use xlink:href=\"#DejaVuSans-6d\" transform=\"translate(1134.953125 0)\"/>\n     <use xlink:href=\"#DejaVuSans-6d\" transform=\"translate(1232.365234 0)\"/>\n     <use xlink:href=\"#DejaVuSans-6f\" transform=\"translate(1329.777344 0)\"/>\n     <use xlink:href=\"#DejaVuSans-6e\" transform=\"translate(1390.958984 0)\"/>\n     <use xlink:href=\"#DejaVuSans-20\" transform=\"translate(1454.337891 0)\"/>\n     <use xlink:href=\"#DejaVuSans-72\" transform=\"translate(1486.125 0)\"/>\n     <use xlink:href=\"#DejaVuSans-65\" transform=\"translate(1524.988281 0)\"/>\n     <use xlink:href=\"#DejaVuSans-67\" transform=\"translate(1586.511719 0)\"/>\n     <use xlink:href=\"#DejaVuSans-72\" transform=\"translate(1649.988281 0)\"/>\n     <use xlink:href=\"#DejaVuSans-65\" transform=\"translate(1688.851562 0)\"/>\n     <use xlink:href=\"#DejaVuSans-73\" transform=\"translate(1750.375 0)\"/>\n     <use xlink:href=\"#DejaVuSans-73\" transform=\"translate(1802.474609 0)\"/>\n     <use xlink:href=\"#DejaVuSans-69\" transform=\"translate(1854.574219 0)\"/>\n     <use xlink:href=\"#DejaVuSans-6f\" transform=\"translate(1882.357422 0)\"/>\n     <use xlink:href=\"#DejaVuSans-6e\" transform=\"translate(1943.539062 0)\"/>\n     <use xlink:href=\"#DejaVuSans-20\" transform=\"translate(2006.917969 0)\"/>\n     <use xlink:href=\"#DejaVuSans-6c\" transform=\"translate(2038.705078 0)\"/>\n     <use xlink:href=\"#DejaVuSans-6f\" transform=\"translate(2066.488281 0)\"/>\n     <use xlink:href=\"#DejaVuSans-73\" transform=\"translate(2127.669922 0)\"/>\n     <use xlink:href=\"#DejaVuSans-73\" transform=\"translate(2179.769531 0)\"/>\n     <use xlink:href=\"#DejaVuSans-65\" transform=\"translate(2231.869141 0)\"/>\n     <use xlink:href=\"#DejaVuSans-73\" transform=\"translate(2293.392578 0)\"/>\n    </g>\n   </g>\n   <g id=\"legend_1\">\n    <g id=\"patch_7\">\n     <path d=\"M 174.505625 79.555938 \nL 278.249375 79.555938 \nQ 280.449375 79.555938 280.449375 77.355938 \nL 280.449375 30.018125 \nQ 280.449375 27.818125 278.249375 27.818125 \nL 174.505625 27.818125 \nQ 172.305625 27.818125 172.305625 30.018125 \nL 172.305625 77.355938 \nQ 172.305625 79.555938 174.505625 79.555938 \nz\n\" style=\"fill: #eaeaf2; opacity: 0.8; stroke: #cccccc; stroke-linejoin: miter\"/>\n    </g>\n    <g id=\"line2d_17\">\n     <path d=\"M 176.705625 36.726406 \nL 187.705625 36.726406 \nL 198.705625 36.726406 \n\" style=\"fill: none; stroke: #4c72b0; stroke-width: 2; stroke-linecap: round\"/>\n    </g>\n    <g id=\"text_16\">\n     <!-- MSE (L2) -->\n     <g style=\"fill: #262626\" transform=\"translate(207.505625 40.576406) scale(0.11 -0.11)\">\n      <defs>\n       <path id=\"DejaVuSans-4d\" d=\"M 628 4666 \nL 1569 4666 \nL 2759 1491 \nL 3956 4666 \nL 4897 4666 \nL 4897 0 \nL 4281 0 \nL 4281 4097 \nL 3078 897 \nL 2444 897 \nL 1241 4097 \nL 1241 0 \nL 628 0 \nL 628 4666 \nz\n\" transform=\"scale(0.015625)\"/>\n       <path id=\"DejaVuSans-53\" d=\"M 3425 4513 \nL 3425 3897 \nQ 3066 4069 2747 4153 \nQ 2428 4238 2131 4238 \nQ 1616 4238 1336 4038 \nQ 1056 3838 1056 3469 \nQ 1056 3159 1242 3001 \nQ 1428 2844 1947 2747 \nL 2328 2669 \nQ 3034 2534 3370 2195 \nQ 3706 1856 3706 1288 \nQ 3706 609 3251 259 \nQ 2797 -91 1919 -91 \nQ 1588 -91 1214 -16 \nQ 841 59 441 206 \nL 441 856 \nQ 825 641 1194 531 \nQ 1563 422 1919 422 \nQ 2459 422 2753 634 \nQ 3047 847 3047 1241 \nQ 3047 1584 2836 1778 \nQ 2625 1972 2144 2069 \nL 1759 2144 \nQ 1053 2284 737 2584 \nQ 422 2884 422 3419 \nQ 422 4038 858 4394 \nQ 1294 4750 2059 4750 \nQ 2388 4750 2728 4690 \nQ 3069 4631 3425 4513 \nz\n\" transform=\"scale(0.015625)\"/>\n       <path id=\"DejaVuSans-45\" d=\"M 628 4666 \nL 3578 4666 \nL 3578 4134 \nL 1259 4134 \nL 1259 2753 \nL 3481 2753 \nL 3481 2222 \nL 1259 2222 \nL 1259 531 \nL 3634 531 \nL 3634 0 \nL 628 0 \nL 628 4666 \nz\n\" transform=\"scale(0.015625)\"/>\n      </defs>\n      <use xlink:href=\"#DejaVuSans-4d\"/>\n      <use xlink:href=\"#DejaVuSans-53\" transform=\"translate(86.279297 0)\"/>\n      <use xlink:href=\"#DejaVuSans-45\" transform=\"translate(149.755859 0)\"/>\n      <use xlink:href=\"#DejaVuSans-20\" transform=\"translate(212.939453 0)\"/>\n      <use xlink:href=\"#DejaVuSans-28\" transform=\"translate(244.726562 0)\"/>\n      <use xlink:href=\"#DejaVuSans-4c\" transform=\"translate(283.740234 0)\"/>\n      <use xlink:href=\"#DejaVuSans-32\" transform=\"translate(339.453125 0)\"/>\n      <use xlink:href=\"#DejaVuSans-29\" transform=\"translate(403.076172 0)\"/>\n     </g>\n    </g>\n    <g id=\"line2d_18\">\n     <path d=\"M 176.705625 52.872344 \nL 187.705625 52.872344 \nL 198.705625 52.872344 \n\" style=\"fill: none; stroke: #dd8452; stroke-width: 2; stroke-linecap: round\"/>\n    </g>\n    <g id=\"text_17\">\n     <!-- MAE (L1) -->\n     <g style=\"fill: #262626\" transform=\"translate(207.505625 56.722344) scale(0.11 -0.11)\">\n      <defs>\n       <path id=\"DejaVuSans-41\" d=\"M 2188 4044 \nL 1331 1722 \nL 3047 1722 \nL 2188 4044 \nz\nM 1831 4666 \nL 2547 4666 \nL 4325 0 \nL 3669 0 \nL 3244 1197 \nL 1141 1197 \nL 716 0 \nL 50 0 \nL 1831 4666 \nz\n\" transform=\"scale(0.015625)\"/>\n      </defs>\n      <use xlink:href=\"#DejaVuSans-4d\"/>\n      <use xlink:href=\"#DejaVuSans-41\" transform=\"translate(86.279297 0)\"/>\n      <use xlink:href=\"#DejaVuSans-45\" transform=\"translate(154.6875 0)\"/>\n      <use xlink:href=\"#DejaVuSans-20\" transform=\"translate(217.871094 0)\"/>\n      <use xlink:href=\"#DejaVuSans-28\" transform=\"translate(249.658203 0)\"/>\n      <use xlink:href=\"#DejaVuSans-4c\" transform=\"translate(288.671875 0)\"/>\n      <use xlink:href=\"#DejaVuSans-31\" transform=\"translate(344.384766 0)\"/>\n      <use xlink:href=\"#DejaVuSans-29\" transform=\"translate(408.007812 0)\"/>\n     </g>\n    </g>\n    <g id=\"line2d_19\">\n     <path d=\"M 176.705625 69.018281 \nL 187.705625 69.018281 \nL 198.705625 69.018281 \n\" style=\"fill: none; stroke: #55a868; stroke-width: 2; stroke-linecap: round\"/>\n    </g>\n    <g id=\"text_18\">\n     <!-- Huber (δ=1) -->\n     <g style=\"fill: #262626\" transform=\"translate(207.505625 72.868281) scale(0.11 -0.11)\">\n      <defs>\n       <path id=\"DejaVuSans-48\" d=\"M 628 4666 \nL 1259 4666 \nL 1259 2753 \nL 3553 2753 \nL 3553 4666 \nL 4184 4666 \nL 4184 0 \nL 3553 0 \nL 3553 2222 \nL 1259 2222 \nL 1259 0 \nL 628 0 \nL 628 4666 \nz\n\" transform=\"scale(0.015625)\"/>\n       <path id=\"DejaVuSans-75\" d=\"M 544 1381 \nL 544 3500 \nL 1119 3500 \nL 1119 1403 \nQ 1119 906 1312 657 \nQ 1506 409 1894 409 \nQ 2359 409 2629 706 \nQ 2900 1003 2900 1516 \nL 2900 3500 \nL 3475 3500 \nL 3475 0 \nL 2900 0 \nL 2900 538 \nQ 2691 219 2414 64 \nQ 2138 -91 1772 -91 \nQ 1169 -91 856 284 \nQ 544 659 544 1381 \nz\nM 1991 3584 \nL 1991 3584 \nz\n\" transform=\"scale(0.015625)\"/>\n       <path id=\"DejaVuSans-62\" d=\"M 3116 1747 \nQ 3116 2381 2855 2742 \nQ 2594 3103 2138 3103 \nQ 1681 3103 1420 2742 \nQ 1159 2381 1159 1747 \nQ 1159 1113 1420 752 \nQ 1681 391 2138 391 \nQ 2594 391 2855 752 \nQ 3116 1113 3116 1747 \nz\nM 1159 2969 \nQ 1341 3281 1617 3432 \nQ 1894 3584 2278 3584 \nQ 2916 3584 3314 3078 \nQ 3713 2572 3713 1747 \nQ 3713 922 3314 415 \nQ 2916 -91 2278 -91 \nQ 1894 -91 1617 61 \nQ 1341 213 1159 525 \nL 1159 0 \nL 581 0 \nL 581 4863 \nL 1159 4863 \nL 1159 2969 \nz\n\" transform=\"scale(0.015625)\"/>\n       <path id=\"DejaVuSans-3b4\" d=\"M 3138 4053 \nQ 2819 4272 2072 4272 \nQ 1281 4272 1281 3906 \nQ 1281 3619 2106 3469 \nQ 2756 3353 3122 3003 \nQ 3566 2581 3566 1716 \nQ 3566 888 3138 400 \nQ 2709 -91 1959 -91 \nQ 1213 -91 781 400 \nQ 353 888 353 1747 \nQ 353 2384 781 2900 \nQ 947 3100 1181 3213 \nQ 694 3459 694 3900 \nQ 694 4750 2072 4750 \nQ 2763 4750 3138 4531 \nL 3138 4053 \nz\nM 1613 3056 \nQ 1400 2966 1228 2738 \nQ 959 2384 959 1747 \nQ 959 1113 1225 756 \nQ 1494 397 1959 397 \nQ 2419 397 2687 759 \nQ 2956 1122 2956 1716 \nQ 2956 2338 2672 2638 \nQ 2369 2959 1975 2994 \nQ 1775 3013 1613 3056 \nz\n\" transform=\"scale(0.015625)\"/>\n       <path id=\"DejaVuSans-3d\" d=\"M 678 2906 \nL 4684 2906 \nL 4684 2381 \nL 678 2381 \nL 678 2906 \nz\nM 678 1631 \nL 4684 1631 \nL 4684 1100 \nL 678 1100 \nL 678 1631 \nz\n\" transform=\"scale(0.015625)\"/>\n      </defs>\n      <use xlink:href=\"#DejaVuSans-48\"/>\n      <use xlink:href=\"#DejaVuSans-75\" transform=\"translate(75.195312 0)\"/>\n      <use xlink:href=\"#DejaVuSans-62\" transform=\"translate(138.574219 0)\"/>\n      <use xlink:href=\"#DejaVuSans-65\" transform=\"translate(202.050781 0)\"/>\n      <use xlink:href=\"#DejaVuSans-72\" transform=\"translate(263.574219 0)\"/>\n      <use xlink:href=\"#DejaVuSans-20\" transform=\"translate(304.6875 0)\"/>\n      <use xlink:href=\"#DejaVuSans-28\" transform=\"translate(336.474609 0)\"/>\n      <use xlink:href=\"#DejaVuSans-3b4\" transform=\"translate(375.488281 0)\"/>\n      <use xlink:href=\"#DejaVuSans-3d\" transform=\"translate(436.669922 0)\"/>\n      <use xlink:href=\"#DejaVuSans-31\" transform=\"translate(520.458984 0)\"/>\n      <use xlink:href=\"#DejaVuSans-29\" transform=\"translate(584.082031 0)\"/>\n     </g>\n    </g>\n   </g>\n  </g>\n </g>\n <defs>\n  <clipPath id=\"p6e39fb0e9a\">\n   <rect x=\"39.3125\" y=\"22.318125\" width=\"374.13\" height=\"210.78\"/>\n  </clipPath>\n </defs>\n</svg>\n",
            "application/pdf": "[encoded data removed]"
          },
          "metadata": {}
        }
      ]
    },
    {
      "cell_type": "markdown",
      "metadata": {
        "id": "oUkpNWhVi5MG"
      },
      "source": [
        "## Example: Continuous XOR\n",
        "\n",
        "\n",
        "Given two binary inputs $x_1$ and $x_2$, the label to predict is $1$ if either $x_1$ or $x_2$ is $1$ while the other is $0$, or the label is $0$ in all other cases.\n",
        "\n",
        "The example became famous by the fact that a single neuron, i.e. a linear classifier, cannot learn this simple function.\n",
        "\n",
        "Hence, we will learn how to build a small neural network that can learn this function.\n",
        "\n",
        "To make it a little bit more interesting, we move the XOR into continuous space and introduce some gaussian noise on the binary inputs. Our desired separation of an XOR dataset could look as follows:\n",
        "\n",
        "<center style=\"width: 100%\"><img src=\"https://github.com/phlippe/uvadlc_notebooks/blob/master/docs/tutorial_notebooks/tutorial2/continuous_xor.svg?raw=1\" width=\"350px\"></center>"
      ]
    },
    {
      "cell_type": "markdown",
      "metadata": {
        "id": "XbORrz1-i5MG"
      },
      "source": [
        "### The model\n",
        "\n",
        "The package `torch.nn` defines a series of useful classes like linear networks layers, activation functions, loss functions etc."
      ]
    },
    {
      "cell_type": "code",
      "execution_count": null,
      "metadata": {
        "id": "jX1g9S-Ii5MG"
      },
      "outputs": [],
      "source": [
        "import torch.nn as nn"
      ]
    },
    {
      "cell_type": "code",
      "execution_count": null,
      "metadata": {
        "id": "Nfqwpskbi5MG"
      },
      "outputs": [],
      "source": [
        "import torch.nn.functional as F"
      ]
    },
    {
      "cell_type": "markdown",
      "metadata": {
        "id": "mal34jiPi5MG"
      },
      "source": [
        "#### nn.Module\n",
        "\n",
        "In PyTorch, a neural network is built up out of modules. Modules can contain other modules, and a neural network is considered to be a module itself as well. The basic template of a module is as follows:"
      ]
    },
    {
      "cell_type": "markdown",
      "source": [
        "\n",
        "\n",
        "```\n",
        "class MyModule(nn.Module):\n",
        "\n",
        "    def __init__(self):\n",
        "        super().__init__()\n",
        "        # TODO: Some init for my module\n",
        "\n",
        "    def forward(self, x):\n",
        "        # TODO: perform the calculation of the module.\n",
        "        pass\n",
        "```\n",
        "\n"
      ],
      "metadata": {
        "id": "5ufrjBudzT7R"
      }
    },
    {
      "cell_type": "markdown",
      "metadata": {
        "id": "vC3DpTili5MG"
      },
      "source": [
        "The forward function is where the computation of the module is taken place, and is executed when you call the module (`nn = MyModule(); nn(x)`).\n",
        "\n",
        "#### Simple classifier\n",
        "We can now make use of the pre-defined modules in the `torch.nn` package, and define our own small neural network. We will implement a minimal network with a input layer, one hidden layer with tanh as activation function, and a output layer according to the following graph.\n",
        "\n",
        "<center width=\"100%\"><img src=\"https://github.com/phlippe/uvadlc_notebooks/blob/master/docs/tutorial_notebooks/tutorial2/small_neural_network.svg?raw=1\" width=\"300px\"></center>\n",
        "\n",
        "The input neurons are shown in blue, which represent the coordinates $x_1$ and $x_2$ of a data point. The hidden neurons including a tanh activation are shown in white, and the output neuron in red.\n",
        "In PyTorch, we can define this as follows:"
      ]
    },
    {
      "cell_type": "code",
      "execution_count": null,
      "metadata": {
        "id": "Oh6GDFzAi5MG"
      },
      "outputs": [],
      "source": [
        "class SimpleClassifier(nn.Module):\n",
        "\n",
        "    def __init__(self, num_inputs, num_hidden, num_outputs):\n",
        "        super().__init__()\n",
        "        # Initialize the modules we need to build the network\n",
        "        # TODO\n",
        "        self.linear1 = nn.Linear(num_inputs, num_hidden)\n",
        "        self.act_fn = nn.Tanh()\n",
        "        self.linear2 = nn.Linear(num_hidden, num_outputs)\n",
        "\n",
        "    def forward(self, x):\n",
        "        # Perform the calculation of the model to determine the prediction\n",
        "\n",
        "        x = self.linear1(x)\n",
        "        x = self.act_fn(x)\n",
        "        x = self.linear2(x)\n",
        "\n",
        "        return x\n"
      ]
    },
    {
      "cell_type": "markdown",
      "metadata": {
        "id": "-i0hgPZpi5MG"
      },
      "source": [
        "For the examples in this notebook, we will use a tiny neural network with two input neurons and four hidden neurons. As we perform binary classification, we will use a single output neuron."
      ]
    },
    {
      "cell_type": "code",
      "execution_count": null,
      "metadata": {
        "id": "XJY37-kGi5MG",
        "colab": {
          "base_uri": "https://localhost:8080/"
        },
        "outputId": "535a625c-0fd3-4c10-c350-e7b7139c92e4"
      },
      "outputs": [
        {
          "output_type": "stream",
          "name": "stdout",
          "text": [
            "SimpleClassifier(\n",
            "  (linear1): Linear(in_features=2, out_features=4, bias=True)\n",
            "  (act_fn): Tanh()\n",
            "  (linear2): Linear(in_features=4, out_features=1, bias=True)\n",
            ")\n"
          ]
        }
      ],
      "source": [
        "model = SimpleClassifier(num_inputs=2, num_hidden=4, num_outputs=1)\n",
        "# Printing a module shows all its submodules\n",
        "print(model)"
      ]
    },
    {
      "cell_type": "code",
      "execution_count": null,
      "metadata": {
        "id": "f4Bs40cki5MG",
        "colab": {
          "base_uri": "https://localhost:8080/"
        },
        "outputId": "12e2078f-309d-4a0c-ecf3-f10a8fabb1be"
      },
      "outputs": [
        {
          "output_type": "stream",
          "name": "stdout",
          "text": [
            "Parameter linear1.weight, shape torch.Size([4, 2])\n",
            "Parameter linear1.bias, shape torch.Size([4])\n",
            "Parameter linear2.weight, shape torch.Size([1, 4])\n",
            "Parameter linear2.bias, shape torch.Size([1])\n"
          ]
        }
      ],
      "source": [
        "for name, param in model.named_parameters():\n",
        "    print(f\"Parameter {name}, shape {param.shape}\")"
      ]
    },
    {
      "cell_type": "markdown",
      "metadata": {
        "id": "CnLmsc0ri5MG"
      },
      "source": [
        "### The data"
      ]
    },
    {
      "cell_type": "code",
      "execution_count": null,
      "metadata": {
        "id": "oeo4TGiyi5MG"
      },
      "outputs": [],
      "source": [
        "import torch.utils.data as data"
      ]
    },
    {
      "cell_type": "markdown",
      "metadata": {
        "id": "LipCn5zsi5MH"
      },
      "source": [
        "#### The dataset class\n",
        "\n",
        "The dataset class summarizes the basic functionality of a dataset in a natural way. To define a dataset in PyTorch, we simply specify two functions: `__getitem__`, and `__len__`. The get-item function has to return the $i$-th data point in the dataset, while the len function returns the size of the dataset."
      ]
    },
    {
      "cell_type": "code",
      "execution_count": null,
      "metadata": {
        "id": "o8MjhP5Ki5MH"
      },
      "outputs": [],
      "source": [
        "class XORDataset(data.Dataset):\n",
        "\n",
        "    def __init__(self, size, std=0.1):\n",
        "        \"\"\"\n",
        "        Inputs:\n",
        "            size - Number of data points we want to generate\n",
        "            std - Standard deviation of the noise (see generate_continuous_xor function)\n",
        "        \"\"\"\n",
        "        super().__init__()\n",
        "        self.size = size\n",
        "        self.std = std\n",
        "        self.generate_continuous_xor()\n",
        "\n",
        "    def generate_continuous_xor(self):\n",
        "        # Each data point in the XOR dataset has two variables, x and y, that can be either 0 or 1\n",
        "        # The label is their XOR combination, i.e. 1 if only x or only y is 1 while the other is 0.\n",
        "        # If x=y, the label is 0.\n",
        "        data = torch.randint(low=0, high=2, size=(self.size, 2), dtype=torch.float32)\n",
        "        label = (data.sum(dim=1) == 1).to(torch.long)\n",
        "        # To make it slightly more challenging, we add a bit of gaussian noise to the data points.\n",
        "        data += self.std * torch.randn(data.shape)\n",
        "\n",
        "        self.data = data\n",
        "        self.label = label\n",
        "\n",
        "    def __len__(self):\n",
        "        # Number of data point we have. Alternatively self.data.shape[0], or self.label.shape[0]\n",
        "        return self.size\n",
        "\n",
        "    def __getitem__(self, idx):\n",
        "        # Return the idx-th data point of the dataset\n",
        "        # If we have multiple things to return (data point and label), we can return them as tuple\n",
        "        data_point = self.data[idx]\n",
        "        data_label = self.label[idx]\n",
        "        return data_point, data_label"
      ]
    },
    {
      "cell_type": "code",
      "execution_count": null,
      "metadata": {
        "id": "F70vAs3Wi5MH",
        "colab": {
          "base_uri": "https://localhost:8080/"
        },
        "outputId": "655cbc2c-a695-4ba0-e37a-ccaca6fe464b"
      },
      "outputs": [
        {
          "output_type": "stream",
          "name": "stdout",
          "text": [
            "Size of dataset: 200\n",
            "Data point 0: (tensor([-0.1005,  0.0138]), tensor(0))\n"
          ]
        }
      ],
      "source": [
        "dataset = XORDataset(size=200)\n",
        "print(\"Size of dataset:\", len(dataset))\n",
        "print(\"Data point 0:\", dataset[0])"
      ]
    },
    {
      "cell_type": "code",
      "execution_count": null,
      "metadata": {
        "id": "md4tY5Fji5MH"
      },
      "outputs": [],
      "source": [
        "def visualize_samples(data, label):\n",
        "    if isinstance(data, torch.Tensor):\n",
        "        data = data.cpu().numpy()\n",
        "    if isinstance(label, torch.Tensor):\n",
        "        label = label.cpu().numpy()\n",
        "    data_0 = data[label == 0]\n",
        "    data_1 = data[label == 1]\n",
        "\n",
        "    plt.figure(figsize=(4,4))\n",
        "    plt.scatter(data_0[:,0], data_0[:,1], edgecolor=\"#333\", label=\"Class 0\")\n",
        "    plt.scatter(data_1[:,0], data_1[:,1], edgecolor=\"#333\", label=\"Class 1\")\n",
        "    plt.title(\"Dataset samples\")\n",
        "    plt.ylabel(r\"$x_2$\")\n",
        "    plt.xlabel(r\"$x_1$\")\n",
        "    plt.legend()"
      ]
    },
    {
      "cell_type": "code",
      "execution_count": null,
      "metadata": {
        "id": "DTP_xKaki5MH",
        "colab": {
          "base_uri": "https://localhost:8080/",
          "height": 404
        },
        "outputId": "e34d62c0-d350-4d94-876d-905829511817"
      },
      "outputs": [
        {
          "output_type": "display_data",
          "data": {
            "text/plain": [
              "<Figure size 400x400 with 1 Axes>"
            ],
            "image/svg+xml": "<?xml version=\"1.0\" encoding=\"utf-8\" standalone=\"no\"?>\n<!DOCTYPE svg PUBLIC \"-//W3C//DTD SVG 1.1//EN\"\n  \"http://www.w3.org/Graphics/SVG/1.1/DTD/svg11.dtd\">\n<svg xmlns:xlink=\"http://www.w3.org/1999/xlink\" width=\"289.424844pt\" height=\"287.037813pt\" viewBox=\"0 0 289.424844 287.037813\" xmlns=\"http://www.w3.org/2000/svg\" version=\"1.1\">\n <metadata>\n  <rdf:RDF xmlns:dc=\"http://purl.org/dc/elements/1.1/\" xmlns:cc=\"http://creativecommons.org/ns#\" xmlns:rdf=\"http://www.w3.org/1999/02/22-rdf-syntax-ns#\">\n   <cc:Work>\n    <dc:type rdf:resource=\"http://purl.org/dc/dcmitype/StillImage\"/>\n    <dc:date>2025-06-16T22:39:38.957457</dc:date>\n    <dc:format>image/svg+xml</dc:format>\n    <dc:creator>\n     <cc:Agent>\n      <dc:title>Matplotlib v3.10.0, https://matplotlib.org/</dc:title>\n     </cc:Agent>\n    </dc:creator>\n   </cc:Work>\n  </rdf:RDF>\n </metadata>\n <defs>\n  <style type=\"text/css\">*{stroke-linejoin: round; stroke-linecap: butt}</style>\n </defs>\n <g id=\"figure_1\">\n  <g id=\"patch_1\">\n   <path d=\"M 0 287.037813 \nL 289.424844 287.037813 \nL 289.424844 0 \nL 0 0 \nz\n\" style=\"fill: #ffffff\"/>\n  </g>\n  <g id=\"axes_1\">\n   <g id=\"patch_2\">\n    <path d=\"M 59.024844 244.078125 \nL 282.224844 244.078125 \nL 282.224844 22.318125 \nL 59.024844 22.318125 \nz\n\" style=\"fill: #eaeaf2\"/>\n   </g>\n   <g id=\"matplotlib.axis_1\">\n    <g id=\"xtick_1\">\n     <g id=\"line2d_1\">\n      <path d=\"M 103.570479 244.078125 \nL 103.570479 22.318125 \n\" clip-path=\"url(#pc9b56afc11)\" style=\"fill: none; stroke: #ffffff; stroke-linecap: round\"/>\n     </g>\n     <g id=\"text_1\">\n      <!-- 0.0 -->\n      <g style=\"fill: #262626\" transform=\"translate(94.82376 261.936406) scale(0.11 -0.11)\">\n       <defs>\n        <path id=\"DejaVuSans-30\" d=\"M 2034 4250 \nQ 1547 4250 1301 3770 \nQ 1056 3291 1056 2328 \nQ 1056 1369 1301 889 \nQ 1547 409 2034 409 \nQ 2525 409 2770 889 \nQ 3016 1369 3016 2328 \nQ 3016 3291 2770 3770 \nQ 2525 4250 2034 4250 \nz\nM 2034 4750 \nQ 2819 4750 3233 4129 \nQ 3647 3509 3647 2328 \nQ 3647 1150 3233 529 \nQ 2819 -91 2034 -91 \nQ 1250 -91 836 529 \nQ 422 1150 422 2328 \nQ 422 3509 836 4129 \nQ 1250 4750 2034 4750 \nz\n\" transform=\"scale(0.015625)\"/>\n        <path id=\"DejaVuSans-2e\" d=\"M 684 794 \nL 1344 794 \nL 1344 0 \nL 684 0 \nL 684 794 \nz\n\" transform=\"scale(0.015625)\"/>\n       </defs>\n       <use xlink:href=\"#DejaVuSans-30\"/>\n       <use xlink:href=\"#DejaVuSans-2e\" transform=\"translate(63.623047 0)\"/>\n       <use xlink:href=\"#DejaVuSans-30\" transform=\"translate(95.410156 0)\"/>\n      </g>\n     </g>\n    </g>\n    <g id=\"xtick_2\">\n     <g id=\"line2d_2\">\n      <path d=\"M 170.213434 244.078125 \nL 170.213434 22.318125 \n\" clip-path=\"url(#pc9b56afc11)\" style=\"fill: none; stroke: #ffffff; stroke-linecap: round\"/>\n     </g>\n     <g id=\"text_2\">\n      <!-- 0.5 -->\n      <g style=\"fill: #262626\" transform=\"translate(161.466715 261.936406) scale(0.11 -0.11)\">\n       <defs>\n        <path id=\"DejaVuSans-35\" d=\"M 691 4666 \nL 3169 4666 \nL 3169 4134 \nL 1269 4134 \nL 1269 2991 \nQ 1406 3038 1543 3061 \nQ 1681 3084 1819 3084 \nQ 2600 3084 3056 2656 \nQ 3513 2228 3513 1497 \nQ 3513 744 3044 326 \nQ 2575 -91 1722 -91 \nQ 1428 -91 1123 -41 \nQ 819 9 494 109 \nL 494 744 \nQ 775 591 1075 516 \nQ 1375 441 1709 441 \nQ 2250 441 2565 725 \nQ 2881 1009 2881 1497 \nQ 2881 1984 2565 2268 \nQ 2250 2553 1709 2553 \nQ 1456 2553 1204 2497 \nQ 953 2441 691 2322 \nL 691 4666 \nz\n\" transform=\"scale(0.015625)\"/>\n       </defs>\n       <use xlink:href=\"#DejaVuSans-30\"/>\n       <use xlink:href=\"#DejaVuSans-2e\" transform=\"translate(63.623047 0)\"/>\n       <use xlink:href=\"#DejaVuSans-35\" transform=\"translate(95.410156 0)\"/>\n      </g>\n     </g>\n    </g>\n    <g id=\"xtick_3\">\n     <g id=\"line2d_3\">\n      <path d=\"M 236.856389 244.078125 \nL 236.856389 22.318125 \n\" clip-path=\"url(#pc9b56afc11)\" style=\"fill: none; stroke: #ffffff; stroke-linecap: round\"/>\n     </g>\n     <g id=\"text_3\">\n      <!-- 1.0 -->\n      <g style=\"fill: #262626\" transform=\"translate(228.109671 261.936406) scale(0.11 -0.11)\">\n       <defs>\n        <path id=\"DejaVuSans-31\" d=\"M 794 531 \nL 1825 531 \nL 1825 4091 \nL 703 3866 \nL 703 4441 \nL 1819 4666 \nL 2450 4666 \nL 2450 531 \nL 3481 531 \nL 3481 0 \nL 794 0 \nL 794 531 \nz\n\" transform=\"scale(0.015625)\"/>\n       </defs>\n       <use xlink:href=\"#DejaVuSans-31\"/>\n       <use xlink:href=\"#DejaVuSans-2e\" transform=\"translate(63.623047 0)\"/>\n       <use xlink:href=\"#DejaVuSans-30\" transform=\"translate(95.410156 0)\"/>\n      </g>\n     </g>\n    </g>\n    <g id=\"text_4\">\n     <!-- $x_1$ -->\n     <g style=\"fill: #262626\" transform=\"translate(164.204844 277.342188) scale(0.12 -0.12)\">\n      <defs>\n       <path id=\"DejaVuSans-Oblique-78\" d=\"M 3841 3500 \nL 2234 1784 \nL 3219 0 \nL 2559 0 \nL 1819 1388 \nL 531 0 \nL -166 0 \nL 1556 1844 \nL 641 3500 \nL 1300 3500 \nL 1972 2234 \nL 3144 3500 \nL 3841 3500 \nz\n\" transform=\"scale(0.015625)\"/>\n      </defs>\n      <use xlink:href=\"#DejaVuSans-Oblique-78\" transform=\"translate(0 0.3125)\"/>\n      <use xlink:href=\"#DejaVuSans-31\" transform=\"translate(59.179688 -16.09375) scale(0.7)\"/>\n     </g>\n    </g>\n   </g>\n   <g id=\"matplotlib.axis_2\">\n    <g id=\"ytick_1\">\n     <g id=\"line2d_4\">\n      <path d=\"M 59.024844 220.725528 \nL 282.224844 220.725528 \n\" clip-path=\"url(#pc9b56afc11)\" style=\"fill: none; stroke: #ffffff; stroke-linecap: round\"/>\n     </g>\n     <g id=\"text_5\">\n      <!-- −0.2 -->\n      <g style=\"fill: #262626\" transform=\"translate(22.81375 224.904669) scale(0.11 -0.11)\">\n       <defs>\n        <path id=\"DejaVuSans-2212\" d=\"M 678 2272 \nL 4684 2272 \nL 4684 1741 \nL 678 1741 \nL 678 2272 \nz\n\" transform=\"scale(0.015625)\"/>\n        <path id=\"DejaVuSans-32\" d=\"M 1228 531 \nL 3431 531 \nL 3431 0 \nL 469 0 \nL 469 531 \nQ 828 903 1448 1529 \nQ 2069 2156 2228 2338 \nQ 2531 2678 2651 2914 \nQ 2772 3150 2772 3378 \nQ 2772 3750 2511 3984 \nQ 2250 4219 1831 4219 \nQ 1534 4219 1204 4116 \nQ 875 4013 500 3803 \nL 500 4441 \nQ 881 4594 1212 4672 \nQ 1544 4750 1819 4750 \nQ 2544 4750 2975 4387 \nQ 3406 4025 3406 3419 \nQ 3406 3131 3298 2873 \nQ 3191 2616 2906 2266 \nQ 2828 2175 2409 1742 \nQ 1991 1309 1228 531 \nz\n\" transform=\"scale(0.015625)\"/>\n       </defs>\n       <use xlink:href=\"#DejaVuSans-2212\"/>\n       <use xlink:href=\"#DejaVuSans-30\" transform=\"translate(83.789062 0)\"/>\n       <use xlink:href=\"#DejaVuSans-2e\" transform=\"translate(147.412109 0)\"/>\n       <use xlink:href=\"#DejaVuSans-32\" transform=\"translate(179.199219 0)\"/>\n      </g>\n     </g>\n    </g>\n    <g id=\"ytick_2\">\n     <g id=\"line2d_5\">\n      <path d=\"M 59.024844 194.184404 \nL 282.224844 194.184404 \n\" clip-path=\"url(#pc9b56afc11)\" style=\"fill: none; stroke: #ffffff; stroke-linecap: round\"/>\n     </g>\n     <g id=\"text_6\">\n      <!-- 0.0 -->\n      <g style=\"fill: #262626\" transform=\"translate(32.031406 198.363545) scale(0.11 -0.11)\">\n       <use xlink:href=\"#DejaVuSans-30\"/>\n       <use xlink:href=\"#DejaVuSans-2e\" transform=\"translate(63.623047 0)\"/>\n       <use xlink:href=\"#DejaVuSans-30\" transform=\"translate(95.410156 0)\"/>\n      </g>\n     </g>\n    </g>\n    <g id=\"ytick_3\">\n     <g id=\"line2d_6\">\n      <path d=\"M 59.024844 167.64328 \nL 282.224844 167.64328 \n\" clip-path=\"url(#pc9b56afc11)\" style=\"fill: none; stroke: #ffffff; stroke-linecap: round\"/>\n     </g>\n     <g id=\"text_7\">\n      <!-- 0.2 -->\n      <g style=\"fill: #262626\" transform=\"translate(32.031406 171.822421) scale(0.11 -0.11)\">\n       <use xlink:href=\"#DejaVuSans-30\"/>\n       <use xlink:href=\"#DejaVuSans-2e\" transform=\"translate(63.623047 0)\"/>\n       <use xlink:href=\"#DejaVuSans-32\" transform=\"translate(95.410156 0)\"/>\n      </g>\n     </g>\n    </g>\n    <g id=\"ytick_4\">\n     <g id=\"line2d_7\">\n      <path d=\"M 59.024844 141.102156 \nL 282.224844 141.102156 \n\" clip-path=\"url(#pc9b56afc11)\" style=\"fill: none; stroke: #ffffff; stroke-linecap: round\"/>\n     </g>\n     <g id=\"text_8\">\n      <!-- 0.4 -->\n      <g style=\"fill: #262626\" transform=\"translate(32.031406 145.281296) scale(0.11 -0.11)\">\n       <defs>\n        <path id=\"DejaVuSans-34\" d=\"M 2419 4116 \nL 825 1625 \nL 2419 1625 \nL 2419 4116 \nz\nM 2253 4666 \nL 3047 4666 \nL 3047 1625 \nL 3713 1625 \nL 3713 1100 \nL 3047 1100 \nL 3047 0 \nL 2419 0 \nL 2419 1100 \nL 313 1100 \nL 313 1709 \nL 2253 4666 \nz\n\" transform=\"scale(0.015625)\"/>\n       </defs>\n       <use xlink:href=\"#DejaVuSans-30\"/>\n       <use xlink:href=\"#DejaVuSans-2e\" transform=\"translate(63.623047 0)\"/>\n       <use xlink:href=\"#DejaVuSans-34\" transform=\"translate(95.410156 0)\"/>\n      </g>\n     </g>\n    </g>\n    <g id=\"ytick_5\">\n     <g id=\"line2d_8\">\n      <path d=\"M 59.024844 114.561032 \nL 282.224844 114.561032 \n\" clip-path=\"url(#pc9b56afc11)\" style=\"fill: none; stroke: #ffffff; stroke-linecap: round\"/>\n     </g>\n     <g id=\"text_9\">\n      <!-- 0.6 -->\n      <g style=\"fill: #262626\" transform=\"translate(32.031406 118.740172) scale(0.11 -0.11)\">\n       <defs>\n        <path id=\"DejaVuSans-36\" d=\"M 2113 2584 \nQ 1688 2584 1439 2293 \nQ 1191 2003 1191 1497 \nQ 1191 994 1439 701 \nQ 1688 409 2113 409 \nQ 2538 409 2786 701 \nQ 3034 994 3034 1497 \nQ 3034 2003 2786 2293 \nQ 2538 2584 2113 2584 \nz\nM 3366 4563 \nL 3366 3988 \nQ 3128 4100 2886 4159 \nQ 2644 4219 2406 4219 \nQ 1781 4219 1451 3797 \nQ 1122 3375 1075 2522 \nQ 1259 2794 1537 2939 \nQ 1816 3084 2150 3084 \nQ 2853 3084 3261 2657 \nQ 3669 2231 3669 1497 \nQ 3669 778 3244 343 \nQ 2819 -91 2113 -91 \nQ 1303 -91 875 529 \nQ 447 1150 447 2328 \nQ 447 3434 972 4092 \nQ 1497 4750 2381 4750 \nQ 2619 4750 2861 4703 \nQ 3103 4656 3366 4563 \nz\n\" transform=\"scale(0.015625)\"/>\n       </defs>\n       <use xlink:href=\"#DejaVuSans-30\"/>\n       <use xlink:href=\"#DejaVuSans-2e\" transform=\"translate(63.623047 0)\"/>\n       <use xlink:href=\"#DejaVuSans-36\" transform=\"translate(95.410156 0)\"/>\n      </g>\n     </g>\n    </g>\n    <g id=\"ytick_6\">\n     <g id=\"line2d_9\">\n      <path d=\"M 59.024844 88.019907 \nL 282.224844 88.019907 \n\" clip-path=\"url(#pc9b56afc11)\" style=\"fill: none; stroke: #ffffff; stroke-linecap: round\"/>\n     </g>\n     <g id=\"text_10\">\n      <!-- 0.8 -->\n      <g style=\"fill: #262626\" transform=\"translate(32.031406 92.199048) scale(0.11 -0.11)\">\n       <defs>\n        <path id=\"DejaVuSans-38\" d=\"M 2034 2216 \nQ 1584 2216 1326 1975 \nQ 1069 1734 1069 1313 \nQ 1069 891 1326 650 \nQ 1584 409 2034 409 \nQ 2484 409 2743 651 \nQ 3003 894 3003 1313 \nQ 3003 1734 2745 1975 \nQ 2488 2216 2034 2216 \nz\nM 1403 2484 \nQ 997 2584 770 2862 \nQ 544 3141 544 3541 \nQ 544 4100 942 4425 \nQ 1341 4750 2034 4750 \nQ 2731 4750 3128 4425 \nQ 3525 4100 3525 3541 \nQ 3525 3141 3298 2862 \nQ 3072 2584 2669 2484 \nQ 3125 2378 3379 2068 \nQ 3634 1759 3634 1313 \nQ 3634 634 3220 271 \nQ 2806 -91 2034 -91 \nQ 1263 -91 848 271 \nQ 434 634 434 1313 \nQ 434 1759 690 2068 \nQ 947 2378 1403 2484 \nz\nM 1172 3481 \nQ 1172 3119 1398 2916 \nQ 1625 2713 2034 2713 \nQ 2441 2713 2670 2916 \nQ 2900 3119 2900 3481 \nQ 2900 3844 2670 4047 \nQ 2441 4250 2034 4250 \nQ 1625 4250 1398 4047 \nQ 1172 3844 1172 3481 \nz\n\" transform=\"scale(0.015625)\"/>\n       </defs>\n       <use xlink:href=\"#DejaVuSans-30\"/>\n       <use xlink:href=\"#DejaVuSans-2e\" transform=\"translate(63.623047 0)\"/>\n       <use xlink:href=\"#DejaVuSans-38\" transform=\"translate(95.410156 0)\"/>\n      </g>\n     </g>\n    </g>\n    <g id=\"ytick_7\">\n     <g id=\"line2d_10\">\n      <path d=\"M 59.024844 61.478783 \nL 282.224844 61.478783 \n\" clip-path=\"url(#pc9b56afc11)\" style=\"fill: none; stroke: #ffffff; stroke-linecap: round\"/>\n     </g>\n     <g id=\"text_11\">\n      <!-- 1.0 -->\n      <g style=\"fill: #262626\" transform=\"translate(32.031406 65.657924) scale(0.11 -0.11)\">\n       <use xlink:href=\"#DejaVuSans-31\"/>\n       <use xlink:href=\"#DejaVuSans-2e\" transform=\"translate(63.623047 0)\"/>\n       <use xlink:href=\"#DejaVuSans-30\" transform=\"translate(95.410156 0)\"/>\n      </g>\n     </g>\n    </g>\n    <g id=\"ytick_8\">\n     <g id=\"line2d_11\">\n      <path d=\"M 59.024844 34.937659 \nL 282.224844 34.937659 \n\" clip-path=\"url(#pc9b56afc11)\" style=\"fill: none; stroke: #ffffff; stroke-linecap: round\"/>\n     </g>\n     <g id=\"text_12\">\n      <!-- 1.2 -->\n      <g style=\"fill: #262626\" transform=\"translate(32.031406 39.116799) scale(0.11 -0.11)\">\n       <use xlink:href=\"#DejaVuSans-31\"/>\n       <use xlink:href=\"#DejaVuSans-2e\" transform=\"translate(63.623047 0)\"/>\n       <use xlink:href=\"#DejaVuSans-32\" transform=\"translate(95.410156 0)\"/>\n      </g>\n     </g>\n    </g>\n    <g id=\"text_13\">\n     <!-- $x_2$ -->\n     <g style=\"fill: #262626\" transform=\"translate(16.318125 139.618125) rotate(-90) scale(0.12 -0.12)\">\n      <use xlink:href=\"#DejaVuSans-Oblique-78\" transform=\"translate(0 0.3125)\"/>\n      <use xlink:href=\"#DejaVuSans-32\" transform=\"translate(59.179688 -16.09375) scale(0.7)\"/>\n     </g>\n    </g>\n   </g>\n   <g id=\"PathCollection_1\">\n    <defs>\n     <path id=\"m3ca44e038c\" d=\"M 0 3 \nC 0.795609 3 1.55874 2.683901 2.12132 2.12132 \nC 2.683901 1.55874 3 0.795609 3 0 \nC 3 -0.795609 2.683901 -1.55874 2.12132 -2.12132 \nC 1.55874 -2.683901 0.795609 -3 0 -3 \nC -0.795609 -3 -1.55874 -2.683901 -2.12132 -2.12132 \nC -2.683901 -1.55874 -3 -0.795609 -3 0 \nC -3 0.795609 -2.683901 1.55874 -2.12132 2.12132 \nC -1.55874 2.683901 -0.795609 3 0 3 \nz\n\" style=\"stroke: #333333\"/>\n    </defs>\n    <g clip-path=\"url(#pc9b56afc11)\">\n     <use xlink:href=\"#m3ca44e038c\" x=\"90.171041\" y=\"192.35496\" style=\"fill: #4c72b0; stroke: #333333\"/>\n     <use xlink:href=\"#m3ca44e038c\" x=\"232.525285\" y=\"81.228047\" style=\"fill: #4c72b0; stroke: #333333\"/>\n     <use xlink:href=\"#m3ca44e038c\" x=\"242.397284\" y=\"64.369082\" style=\"fill: #4c72b0; stroke: #333333\"/>\n     <use xlink:href=\"#m3ca44e038c\" x=\"115.884139\" y=\"165.15166\" style=\"fill: #4c72b0; stroke: #333333\"/>\n     <use xlink:href=\"#m3ca44e038c\" x=\"100.053522\" y=\"214.615713\" style=\"fill: #4c72b0; stroke: #333333\"/>\n     <use xlink:href=\"#m3ca44e038c\" x=\"103.686716\" y=\"190.674877\" style=\"fill: #4c72b0; stroke: #333333\"/>\n     <use xlink:href=\"#m3ca44e038c\" x=\"90.889608\" y=\"193.191511\" style=\"fill: #4c72b0; stroke: #333333\"/>\n     <use xlink:href=\"#m3ca44e038c\" x=\"109.676487\" y=\"178.677533\" style=\"fill: #4c72b0; stroke: #333333\"/>\n     <use xlink:href=\"#m3ca44e038c\" x=\"99.907895\" y=\"198.083867\" style=\"fill: #4c72b0; stroke: #333333\"/>\n     <use xlink:href=\"#m3ca44e038c\" x=\"93.736848\" y=\"206.551163\" style=\"fill: #4c72b0; stroke: #333333\"/>\n     <use xlink:href=\"#m3ca44e038c\" x=\"218.100379\" y=\"56.711519\" style=\"fill: #4c72b0; stroke: #333333\"/>\n     <use xlink:href=\"#m3ca44e038c\" x=\"93.684962\" y=\"201.512018\" style=\"fill: #4c72b0; stroke: #333333\"/>\n     <use xlink:href=\"#m3ca44e038c\" x=\"250.064736\" y=\"39.150197\" style=\"fill: #4c72b0; stroke: #333333\"/>\n     <use xlink:href=\"#m3ca44e038c\" x=\"233.514711\" y=\"55.435989\" style=\"fill: #4c72b0; stroke: #333333\"/>\n     <use xlink:href=\"#m3ca44e038c\" x=\"254.476183\" y=\"65.08782\" style=\"fill: #4c72b0; stroke: #333333\"/>\n     <use xlink:href=\"#m3ca44e038c\" x=\"112.613847\" y=\"211.70998\" style=\"fill: #4c72b0; stroke: #333333\"/>\n     <use xlink:href=\"#m3ca44e038c\" x=\"256.212064\" y=\"43.690621\" style=\"fill: #4c72b0; stroke: #333333\"/>\n     <use xlink:href=\"#m3ca44e038c\" x=\"130.482732\" y=\"213.348431\" style=\"fill: #4c72b0; stroke: #333333\"/>\n     <use xlink:href=\"#m3ca44e038c\" x=\"248.633335\" y=\"71.804179\" style=\"fill: #4c72b0; stroke: #333333\"/>\n     <use xlink:href=\"#m3ca44e038c\" x=\"239.661578\" y=\"40.317314\" style=\"fill: #4c72b0; stroke: #333333\"/>\n     <use xlink:href=\"#m3ca44e038c\" x=\"107.039229\" y=\"199.227188\" style=\"fill: #4c72b0; stroke: #333333\"/>\n     <use xlink:href=\"#m3ca44e038c\" x=\"103.436907\" y=\"209.912134\" style=\"fill: #4c72b0; stroke: #333333\"/>\n     <use xlink:href=\"#m3ca44e038c\" x=\"88.042419\" y=\"180.727499\" style=\"fill: #4c72b0; stroke: #333333\"/>\n     <use xlink:href=\"#m3ca44e038c\" x=\"248.334576\" y=\"70.13136\" style=\"fill: #4c72b0; stroke: #333333\"/>\n     <use xlink:href=\"#m3ca44e038c\" x=\"215.717009\" y=\"85.699244\" style=\"fill: #4c72b0; stroke: #333333\"/>\n     <use xlink:href=\"#m3ca44e038c\" x=\"236.972521\" y=\"53.220419\" style=\"fill: #4c72b0; stroke: #333333\"/>\n     <use xlink:href=\"#m3ca44e038c\" x=\"106.163249\" y=\"205.478571\" style=\"fill: #4c72b0; stroke: #333333\"/>\n     <use xlink:href=\"#m3ca44e038c\" x=\"100.933706\" y=\"196.52075\" style=\"fill: #4c72b0; stroke: #333333\"/>\n     <use xlink:href=\"#m3ca44e038c\" x=\"114.770812\" y=\"193.624451\" style=\"fill: #4c72b0; stroke: #333333\"/>\n     <use xlink:href=\"#m3ca44e038c\" x=\"255.984614\" y=\"54.403055\" style=\"fill: #4c72b0; stroke: #333333\"/>\n     <use xlink:href=\"#m3ca44e038c\" x=\"219.699813\" y=\"69.79008\" style=\"fill: #4c72b0; stroke: #333333\"/>\n     <use xlink:href=\"#m3ca44e038c\" x=\"128.00695\" y=\"216.187015\" style=\"fill: #4c72b0; stroke: #333333\"/>\n     <use xlink:href=\"#m3ca44e038c\" x=\"97.634835\" y=\"185.101485\" style=\"fill: #4c72b0; stroke: #333333\"/>\n     <use xlink:href=\"#m3ca44e038c\" x=\"219.977051\" y=\"61.706927\" style=\"fill: #4c72b0; stroke: #333333\"/>\n     <use xlink:href=\"#m3ca44e038c\" x=\"248.070454\" y=\"41.163655\" style=\"fill: #4c72b0; stroke: #333333\"/>\n     <use xlink:href=\"#m3ca44e038c\" x=\"235.497513\" y=\"48.719132\" style=\"fill: #4c72b0; stroke: #333333\"/>\n     <use xlink:href=\"#m3ca44e038c\" x=\"106.248255\" y=\"200.684797\" style=\"fill: #4c72b0; stroke: #333333\"/>\n     <use xlink:href=\"#m3ca44e038c\" x=\"194.38032\" y=\"42.351433\" style=\"fill: #4c72b0; stroke: #333333\"/>\n     <use xlink:href=\"#m3ca44e038c\" x=\"236.625706\" y=\"85.954591\" style=\"fill: #4c72b0; stroke: #333333\"/>\n     <use xlink:href=\"#m3ca44e038c\" x=\"87.620409\" y=\"182.064309\" style=\"fill: #4c72b0; stroke: #333333\"/>\n     <use xlink:href=\"#m3ca44e038c\" x=\"106.701336\" y=\"200.461197\" style=\"fill: #4c72b0; stroke: #333333\"/>\n     <use xlink:href=\"#m3ca44e038c\" x=\"253.360479\" y=\"54.169318\" style=\"fill: #4c72b0; stroke: #333333\"/>\n     <use xlink:href=\"#m3ca44e038c\" x=\"265.505953\" y=\"59.186344\" style=\"fill: #4c72b0; stroke: #333333\"/>\n     <use xlink:href=\"#m3ca44e038c\" x=\"101.833961\" y=\"172.767148\" style=\"fill: #4c72b0; stroke: #333333\"/>\n     <use xlink:href=\"#m3ca44e038c\" x=\"253.337409\" y=\"40.304184\" style=\"fill: #4c72b0; stroke: #333333\"/>\n     <use xlink:href=\"#m3ca44e038c\" x=\"252.313511\" y=\"37.741417\" style=\"fill: #4c72b0; stroke: #333333\"/>\n     <use xlink:href=\"#m3ca44e038c\" x=\"125.086484\" y=\"201.494279\" style=\"fill: #4c72b0; stroke: #333333\"/>\n     <use xlink:href=\"#m3ca44e038c\" x=\"238.281895\" y=\"70.246963\" style=\"fill: #4c72b0; stroke: #333333\"/>\n     <use xlink:href=\"#m3ca44e038c\" x=\"95.387921\" y=\"182.938989\" style=\"fill: #4c72b0; stroke: #333333\"/>\n     <use xlink:href=\"#m3ca44e038c\" x=\"226.452572\" y=\"42.042252\" style=\"fill: #4c72b0; stroke: #333333\"/>\n     <use xlink:href=\"#m3ca44e038c\" x=\"224.128738\" y=\"42.451587\" style=\"fill: #4c72b0; stroke: #333333\"/>\n     <use xlink:href=\"#m3ca44e038c\" x=\"101.649078\" y=\"176.077924\" style=\"fill: #4c72b0; stroke: #333333\"/>\n     <use xlink:href=\"#m3ca44e038c\" x=\"231.303379\" y=\"61.677392\" style=\"fill: #4c72b0; stroke: #333333\"/>\n     <use xlink:href=\"#m3ca44e038c\" x=\"69.170298\" y=\"193.537482\" style=\"fill: #4c72b0; stroke: #333333\"/>\n     <use xlink:href=\"#m3ca44e038c\" x=\"246.251777\" y=\"38.472115\" style=\"fill: #4c72b0; stroke: #333333\"/>\n     <use xlink:href=\"#m3ca44e038c\" x=\"198.703076\" y=\"73.374826\" style=\"fill: #4c72b0; stroke: #333333\"/>\n     <use xlink:href=\"#m3ca44e038c\" x=\"114.950391\" y=\"177.103102\" style=\"fill: #4c72b0; stroke: #333333\"/>\n     <use xlink:href=\"#m3ca44e038c\" x=\"88.371235\" y=\"204.268028\" style=\"fill: #4c72b0; stroke: #333333\"/>\n     <use xlink:href=\"#m3ca44e038c\" x=\"111.685577\" y=\"209.143683\" style=\"fill: #4c72b0; stroke: #333333\"/>\n     <use xlink:href=\"#m3ca44e038c\" x=\"248.477195\" y=\"66.321926\" style=\"fill: #4c72b0; stroke: #333333\"/>\n     <use xlink:href=\"#m3ca44e038c\" x=\"246.592229\" y=\"72.228844\" style=\"fill: #4c72b0; stroke: #333333\"/>\n     <use xlink:href=\"#m3ca44e038c\" x=\"233.853336\" y=\"67.222592\" style=\"fill: #4c72b0; stroke: #333333\"/>\n     <use xlink:href=\"#m3ca44e038c\" x=\"238.978974\" y=\"56.878829\" style=\"fill: #4c72b0; stroke: #333333\"/>\n     <use xlink:href=\"#m3ca44e038c\" x=\"93.247619\" y=\"189.022886\" style=\"fill: #4c72b0; stroke: #333333\"/>\n     <use xlink:href=\"#m3ca44e038c\" x=\"246.659789\" y=\"47.878629\" style=\"fill: #4c72b0; stroke: #333333\"/>\n     <use xlink:href=\"#m3ca44e038c\" x=\"106.679973\" y=\"175.266052\" style=\"fill: #4c72b0; stroke: #333333\"/>\n     <use xlink:href=\"#m3ca44e038c\" x=\"104.43122\" y=\"195.731676\" style=\"fill: #4c72b0; stroke: #333333\"/>\n     <use xlink:href=\"#m3ca44e038c\" x=\"230.512818\" y=\"46.787273\" style=\"fill: #4c72b0; stroke: #333333\"/>\n     <use xlink:href=\"#m3ca44e038c\" x=\"218.296138\" y=\"67.395201\" style=\"fill: #4c72b0; stroke: #333333\"/>\n     <use xlink:href=\"#m3ca44e038c\" x=\"229.123729\" y=\"79.547049\" style=\"fill: #4c72b0; stroke: #333333\"/>\n     <use xlink:href=\"#m3ca44e038c\" x=\"242.83709\" y=\"78.876838\" style=\"fill: #4c72b0; stroke: #333333\"/>\n     <use xlink:href=\"#m3ca44e038c\" x=\"70.852003\" y=\"210.485929\" style=\"fill: #4c72b0; stroke: #333333\"/>\n     <use xlink:href=\"#m3ca44e038c\" x=\"239.390116\" y=\"87.239027\" style=\"fill: #4c72b0; stroke: #333333\"/>\n     <use xlink:href=\"#m3ca44e038c\" x=\"108.956866\" y=\"212.454766\" style=\"fill: #4c72b0; stroke: #333333\"/>\n     <use xlink:href=\"#m3ca44e038c\" x=\"228.086429\" y=\"77.434718\" style=\"fill: #4c72b0; stroke: #333333\"/>\n     <use xlink:href=\"#m3ca44e038c\" x=\"228.741903\" y=\"32.398125\" style=\"fill: #4c72b0; stroke: #333333\"/>\n     <use xlink:href=\"#m3ca44e038c\" x=\"91.059794\" y=\"193.814526\" style=\"fill: #4c72b0; stroke: #333333\"/>\n     <use xlink:href=\"#m3ca44e038c\" x=\"250.843103\" y=\"51.371454\" style=\"fill: #4c72b0; stroke: #333333\"/>\n     <use xlink:href=\"#m3ca44e038c\" x=\"106.857433\" y=\"193.249108\" style=\"fill: #4c72b0; stroke: #333333\"/>\n     <use xlink:href=\"#m3ca44e038c\" x=\"240.651108\" y=\"56.962246\" style=\"fill: #4c72b0; stroke: #333333\"/>\n     <use xlink:href=\"#m3ca44e038c\" x=\"241.121039\" y=\"50.257871\" style=\"fill: #4c72b0; stroke: #333333\"/>\n     <use xlink:href=\"#m3ca44e038c\" x=\"95.381037\" y=\"192.677655\" style=\"fill: #4c72b0; stroke: #333333\"/>\n     <use xlink:href=\"#m3ca44e038c\" x=\"230.14209\" y=\"57.33651\" style=\"fill: #4c72b0; stroke: #333333\"/>\n     <use xlink:href=\"#m3ca44e038c\" x=\"230.806938\" y=\"40.554057\" style=\"fill: #4c72b0; stroke: #333333\"/>\n     <use xlink:href=\"#m3ca44e038c\" x=\"110.983145\" y=\"196.892164\" style=\"fill: #4c72b0; stroke: #333333\"/>\n     <use xlink:href=\"#m3ca44e038c\" x=\"217.071746\" y=\"71.300328\" style=\"fill: #4c72b0; stroke: #333333\"/>\n     <use xlink:href=\"#m3ca44e038c\" x=\"233.447263\" y=\"67.184055\" style=\"fill: #4c72b0; stroke: #333333\"/>\n     <use xlink:href=\"#m3ca44e038c\" x=\"89.610845\" y=\"187.244405\" style=\"fill: #4c72b0; stroke: #333333\"/>\n     <use xlink:href=\"#m3ca44e038c\" x=\"232.484982\" y=\"63.544549\" style=\"fill: #4c72b0; stroke: #333333\"/>\n     <use xlink:href=\"#m3ca44e038c\" x=\"110.105074\" y=\"193.968876\" style=\"fill: #4c72b0; stroke: #333333\"/>\n     <use xlink:href=\"#m3ca44e038c\" x=\"121.832993\" y=\"171.577986\" style=\"fill: #4c72b0; stroke: #333333\"/>\n     <use xlink:href=\"#m3ca44e038c\" x=\"77.300878\" y=\"192.058434\" style=\"fill: #4c72b0; stroke: #333333\"/>\n     <use xlink:href=\"#m3ca44e038c\" x=\"104.084025\" y=\"208.679823\" style=\"fill: #4c72b0; stroke: #333333\"/>\n     <use xlink:href=\"#m3ca44e038c\" x=\"245.59334\" y=\"69.67765\" style=\"fill: #4c72b0; stroke: #333333\"/>\n     <use xlink:href=\"#m3ca44e038c\" x=\"232.840298\" y=\"50.582413\" style=\"fill: #4c72b0; stroke: #333333\"/>\n     <use xlink:href=\"#m3ca44e038c\" x=\"238.417078\" y=\"50.509057\" style=\"fill: #4c72b0; stroke: #333333\"/>\n     <use xlink:href=\"#m3ca44e038c\" x=\"263.328218\" y=\"61.541706\" style=\"fill: #4c72b0; stroke: #333333\"/>\n     <use xlink:href=\"#m3ca44e038c\" x=\"124.995365\" y=\"191.101849\" style=\"fill: #4c72b0; stroke: #333333\"/>\n     <use xlink:href=\"#m3ca44e038c\" x=\"241.413554\" y=\"53.33633\" style=\"fill: #4c72b0; stroke: #333333\"/>\n     <use xlink:href=\"#m3ca44e038c\" x=\"90.830619\" y=\"190.172833\" style=\"fill: #4c72b0; stroke: #333333\"/>\n     <use xlink:href=\"#m3ca44e038c\" x=\"111.590408\" y=\"202.02363\" style=\"fill: #4c72b0; stroke: #333333\"/>\n     <use xlink:href=\"#m3ca44e038c\" x=\"239.831208\" y=\"44.609875\" style=\"fill: #4c72b0; stroke: #333333\"/>\n     <use xlink:href=\"#m3ca44e038c\" x=\"102.781974\" y=\"184.872908\" style=\"fill: #4c72b0; stroke: #333333\"/>\n     <use xlink:href=\"#m3ca44e038c\" x=\"234.436721\" y=\"42.197427\" style=\"fill: #4c72b0; stroke: #333333\"/>\n     <use xlink:href=\"#m3ca44e038c\" x=\"116.72152\" y=\"204.963599\" style=\"fill: #4c72b0; stroke: #333333\"/>\n     <use xlink:href=\"#m3ca44e038c\" x=\"248.060778\" y=\"71.245172\" style=\"fill: #4c72b0; stroke: #333333\"/>\n    </g>\n   </g>\n   <g id=\"PathCollection_2\">\n    <defs>\n     <path id=\"mf7b60ecea1\" d=\"M 0 3 \nC 0.795609 3 1.55874 2.683901 2.12132 2.12132 \nC 2.683901 1.55874 3 0.795609 3 0 \nC 3 -0.795609 2.683901 -1.55874 2.12132 -2.12132 \nC 1.55874 -2.683901 0.795609 -3 0 -3 \nC -0.795609 -3 -1.55874 -2.683901 -2.12132 -2.12132 \nC -2.683901 -1.55874 -3 -0.795609 -3 0 \nC -3 0.795609 -2.683901 1.55874 -2.12132 2.12132 \nC -1.55874 2.683901 -0.795609 3 0 3 \nz\n\" style=\"stroke: #333333\"/>\n    </defs>\n    <g clip-path=\"url(#pc9b56afc11)\">\n     <use xlink:href=\"#mf7b60ecea1\" x=\"241.776075\" y=\"216.047777\" style=\"fill: #dd8452; stroke: #333333\"/>\n     <use xlink:href=\"#mf7b60ecea1\" x=\"234.31456\" y=\"211.188136\" style=\"fill: #dd8452; stroke: #333333\"/>\n     <use xlink:href=\"#mf7b60ecea1\" x=\"231.756865\" y=\"202.089516\" style=\"fill: #dd8452; stroke: #333333\"/>\n     <use xlink:href=\"#mf7b60ecea1\" x=\"252.336629\" y=\"203.724293\" style=\"fill: #dd8452; stroke: #333333\"/>\n     <use xlink:href=\"#mf7b60ecea1\" x=\"224.19192\" y=\"175.079132\" style=\"fill: #dd8452; stroke: #333333\"/>\n     <use xlink:href=\"#mf7b60ecea1\" x=\"108.48643\" y=\"69.218181\" style=\"fill: #dd8452; stroke: #333333\"/>\n     <use xlink:href=\"#mf7b60ecea1\" x=\"244.02485\" y=\"217.32954\" style=\"fill: #dd8452; stroke: #333333\"/>\n     <use xlink:href=\"#mf7b60ecea1\" x=\"217.878959\" y=\"202.778209\" style=\"fill: #dd8452; stroke: #333333\"/>\n     <use xlink:href=\"#mf7b60ecea1\" x=\"231.134273\" y=\"183.361509\" style=\"fill: #dd8452; stroke: #333333\"/>\n     <use xlink:href=\"#mf7b60ecea1\" x=\"236.946686\" y=\"185.293271\" style=\"fill: #dd8452; stroke: #333333\"/>\n     <use xlink:href=\"#mf7b60ecea1\" x=\"118.961763\" y=\"57.165467\" style=\"fill: #dd8452; stroke: #333333\"/>\n     <use xlink:href=\"#mf7b60ecea1\" x=\"100.060945\" y=\"45.053176\" style=\"fill: #dd8452; stroke: #333333\"/>\n     <use xlink:href=\"#mf7b60ecea1\" x=\"81.628021\" y=\"77.414485\" style=\"fill: #dd8452; stroke: #333333\"/>\n     <use xlink:href=\"#mf7b60ecea1\" x=\"92.809249\" y=\"52.351029\" style=\"fill: #dd8452; stroke: #333333\"/>\n     <use xlink:href=\"#mf7b60ecea1\" x=\"99.367582\" y=\"70.04534\" style=\"fill: #dd8452; stroke: #333333\"/>\n     <use xlink:href=\"#mf7b60ecea1\" x=\"248.751517\" y=\"196.927352\" style=\"fill: #dd8452; stroke: #333333\"/>\n     <use xlink:href=\"#mf7b60ecea1\" x=\"232.643403\" y=\"184.826801\" style=\"fill: #dd8452; stroke: #333333\"/>\n     <use xlink:href=\"#mf7b60ecea1\" x=\"97.982181\" y=\"58.332015\" style=\"fill: #dd8452; stroke: #333333\"/>\n     <use xlink:href=\"#mf7b60ecea1\" x=\"213.751804\" y=\"196.81463\" style=\"fill: #dd8452; stroke: #333333\"/>\n     <use xlink:href=\"#mf7b60ecea1\" x=\"107.215371\" y=\"66.08709\" style=\"fill: #dd8452; stroke: #333333\"/>\n     <use xlink:href=\"#mf7b60ecea1\" x=\"244.811828\" y=\"182.633754\" style=\"fill: #dd8452; stroke: #333333\"/>\n     <use xlink:href=\"#mf7b60ecea1\" x=\"83.621699\" y=\"56.238541\" style=\"fill: #dd8452; stroke: #333333\"/>\n     <use xlink:href=\"#mf7b60ecea1\" x=\"272.079389\" y=\"194.050343\" style=\"fill: #dd8452; stroke: #333333\"/>\n     <use xlink:href=\"#mf7b60ecea1\" x=\"219.707972\" y=\"203.281478\" style=\"fill: #dd8452; stroke: #333333\"/>\n     <use xlink:href=\"#mf7b60ecea1\" x=\"248.086137\" y=\"187.244348\" style=\"fill: #dd8452; stroke: #333333\"/>\n     <use xlink:href=\"#mf7b60ecea1\" x=\"120.056498\" y=\"89.58992\" style=\"fill: #dd8452; stroke: #333333\"/>\n     <use xlink:href=\"#mf7b60ecea1\" x=\"232.184968\" y=\"176.21552\" style=\"fill: #dd8452; stroke: #333333\"/>\n     <use xlink:href=\"#mf7b60ecea1\" x=\"238.189088\" y=\"203.484486\" style=\"fill: #dd8452; stroke: #333333\"/>\n     <use xlink:href=\"#mf7b60ecea1\" x=\"101.209133\" y=\"75.667558\" style=\"fill: #dd8452; stroke: #333333\"/>\n     <use xlink:href=\"#mf7b60ecea1\" x=\"236.205182\" y=\"205.550837\" style=\"fill: #dd8452; stroke: #333333\"/>\n     <use xlink:href=\"#mf7b60ecea1\" x=\"235.093355\" y=\"197.271611\" style=\"fill: #dd8452; stroke: #333333\"/>\n     <use xlink:href=\"#mf7b60ecea1\" x=\"100.514661\" y=\"56.845101\" style=\"fill: #dd8452; stroke: #333333\"/>\n     <use xlink:href=\"#mf7b60ecea1\" x=\"243.191142\" y=\"192.805769\" style=\"fill: #dd8452; stroke: #333333\"/>\n     <use xlink:href=\"#mf7b60ecea1\" x=\"111.64757\" y=\"52.561716\" style=\"fill: #dd8452; stroke: #333333\"/>\n     <use xlink:href=\"#mf7b60ecea1\" x=\"121.316689\" y=\"67.952507\" style=\"fill: #dd8452; stroke: #333333\"/>\n     <use xlink:href=\"#mf7b60ecea1\" x=\"90.629718\" y=\"74.052615\" style=\"fill: #dd8452; stroke: #333333\"/>\n     <use xlink:href=\"#mf7b60ecea1\" x=\"99.087978\" y=\"46.315876\" style=\"fill: #dd8452; stroke: #333333\"/>\n     <use xlink:href=\"#mf7b60ecea1\" x=\"92.878314\" y=\"66.755355\" style=\"fill: #dd8452; stroke: #333333\"/>\n     <use xlink:href=\"#mf7b60ecea1\" x=\"196.609059\" y=\"183.13369\" style=\"fill: #dd8452; stroke: #333333\"/>\n     <use xlink:href=\"#mf7b60ecea1\" x=\"104.531906\" y=\"52.945123\" style=\"fill: #dd8452; stroke: #333333\"/>\n     <use xlink:href=\"#mf7b60ecea1\" x=\"202.193228\" y=\"197.359575\" style=\"fill: #dd8452; stroke: #333333\"/>\n     <use xlink:href=\"#mf7b60ecea1\" x=\"106.875735\" y=\"72.439674\" style=\"fill: #dd8452; stroke: #333333\"/>\n     <use xlink:href=\"#mf7b60ecea1\" x=\"229.32211\" y=\"226.794694\" style=\"fill: #dd8452; stroke: #333333\"/>\n     <use xlink:href=\"#mf7b60ecea1\" x=\"255.670712\" y=\"194.019383\" style=\"fill: #dd8452; stroke: #333333\"/>\n     <use xlink:href=\"#mf7b60ecea1\" x=\"241.700698\" y=\"170.403878\" style=\"fill: #dd8452; stroke: #333333\"/>\n     <use xlink:href=\"#mf7b60ecea1\" x=\"211.21799\" y=\"214.047481\" style=\"fill: #dd8452; stroke: #333333\"/>\n     <use xlink:href=\"#mf7b60ecea1\" x=\"230.1441\" y=\"202.556879\" style=\"fill: #dd8452; stroke: #333333\"/>\n     <use xlink:href=\"#mf7b60ecea1\" x=\"224.196623\" y=\"205.874734\" style=\"fill: #dd8452; stroke: #333333\"/>\n     <use xlink:href=\"#mf7b60ecea1\" x=\"107.900246\" y=\"73.518224\" style=\"fill: #dd8452; stroke: #333333\"/>\n     <use xlink:href=\"#mf7b60ecea1\" x=\"113.004174\" y=\"95.548498\" style=\"fill: #dd8452; stroke: #333333\"/>\n     <use xlink:href=\"#mf7b60ecea1\" x=\"105.428902\" y=\"91.990883\" style=\"fill: #dd8452; stroke: #333333\"/>\n     <use xlink:href=\"#mf7b60ecea1\" x=\"103.916484\" y=\"65.540953\" style=\"fill: #dd8452; stroke: #333333\"/>\n     <use xlink:href=\"#mf7b60ecea1\" x=\"114.408401\" y=\"63.978571\" style=\"fill: #dd8452; stroke: #333333\"/>\n     <use xlink:href=\"#mf7b60ecea1\" x=\"116.245418\" y=\"41.251343\" style=\"fill: #dd8452; stroke: #333333\"/>\n     <use xlink:href=\"#mf7b60ecea1\" x=\"236.717282\" y=\"204.146761\" style=\"fill: #dd8452; stroke: #333333\"/>\n     <use xlink:href=\"#mf7b60ecea1\" x=\"235.412349\" y=\"180.082665\" style=\"fill: #dd8452; stroke: #333333\"/>\n     <use xlink:href=\"#mf7b60ecea1\" x=\"90.776645\" y=\"77.821068\" style=\"fill: #dd8452; stroke: #333333\"/>\n     <use xlink:href=\"#mf7b60ecea1\" x=\"78.844688\" y=\"85.070307\" style=\"fill: #dd8452; stroke: #333333\"/>\n     <use xlink:href=\"#mf7b60ecea1\" x=\"84.982422\" y=\"60.80116\" style=\"fill: #dd8452; stroke: #333333\"/>\n     <use xlink:href=\"#mf7b60ecea1\" x=\"247.766706\" y=\"202.114779\" style=\"fill: #dd8452; stroke: #333333\"/>\n     <use xlink:href=\"#mf7b60ecea1\" x=\"85.641564\" y=\"66.390995\" style=\"fill: #dd8452; stroke: #333333\"/>\n     <use xlink:href=\"#mf7b60ecea1\" x=\"113.20245\" y=\"68.984191\" style=\"fill: #dd8452; stroke: #333333\"/>\n     <use xlink:href=\"#mf7b60ecea1\" x=\"77.691525\" y=\"50.046314\" style=\"fill: #dd8452; stroke: #333333\"/>\n     <use xlink:href=\"#mf7b60ecea1\" x=\"241.465145\" y=\"179.543014\" style=\"fill: #dd8452; stroke: #333333\"/>\n     <use xlink:href=\"#mf7b60ecea1\" x=\"98.039938\" y=\"56.18015\" style=\"fill: #dd8452; stroke: #333333\"/>\n     <use xlink:href=\"#mf7b60ecea1\" x=\"237.276254\" y=\"181.56099\" style=\"fill: #dd8452; stroke: #333333\"/>\n     <use xlink:href=\"#mf7b60ecea1\" x=\"256.699218\" y=\"192.035443\" style=\"fill: #dd8452; stroke: #333333\"/>\n     <use xlink:href=\"#mf7b60ecea1\" x=\"110.552814\" y=\"71.652159\" style=\"fill: #dd8452; stroke: #333333\"/>\n     <use xlink:href=\"#mf7b60ecea1\" x=\"91.201911\" y=\"78.231044\" style=\"fill: #dd8452; stroke: #333333\"/>\n     <use xlink:href=\"#mf7b60ecea1\" x=\"96.732315\" y=\"65.236257\" style=\"fill: #dd8452; stroke: #333333\"/>\n     <use xlink:href=\"#mf7b60ecea1\" x=\"73.267667\" y=\"67.362138\" style=\"fill: #dd8452; stroke: #333333\"/>\n     <use xlink:href=\"#mf7b60ecea1\" x=\"91.606616\" y=\"51.376485\" style=\"fill: #dd8452; stroke: #333333\"/>\n     <use xlink:href=\"#mf7b60ecea1\" x=\"228.36462\" y=\"233.998125\" style=\"fill: #dd8452; stroke: #333333\"/>\n     <use xlink:href=\"#mf7b60ecea1\" x=\"233.660103\" y=\"194.092824\" style=\"fill: #dd8452; stroke: #333333\"/>\n     <use xlink:href=\"#mf7b60ecea1\" x=\"73.593042\" y=\"82.214353\" style=\"fill: #dd8452; stroke: #333333\"/>\n     <use xlink:href=\"#mf7b60ecea1\" x=\"207.481973\" y=\"203.774998\" style=\"fill: #dd8452; stroke: #333333\"/>\n     <use xlink:href=\"#mf7b60ecea1\" x=\"251.261219\" y=\"203.856858\" style=\"fill: #dd8452; stroke: #333333\"/>\n     <use xlink:href=\"#mf7b60ecea1\" x=\"241.30678\" y=\"185.804865\" style=\"fill: #dd8452; stroke: #333333\"/>\n     <use xlink:href=\"#mf7b60ecea1\" x=\"126.756224\" y=\"39.995683\" style=\"fill: #dd8452; stroke: #333333\"/>\n     <use xlink:href=\"#mf7b60ecea1\" x=\"104.236778\" y=\"75.940085\" style=\"fill: #dd8452; stroke: #333333\"/>\n     <use xlink:href=\"#mf7b60ecea1\" x=\"238.961163\" y=\"196.039271\" style=\"fill: #dd8452; stroke: #333333\"/>\n     <use xlink:href=\"#mf7b60ecea1\" x=\"262.850279\" y=\"174.83812\" style=\"fill: #dd8452; stroke: #333333\"/>\n     <use xlink:href=\"#mf7b60ecea1\" x=\"264.141492\" y=\"167.073943\" style=\"fill: #dd8452; stroke: #333333\"/>\n     <use xlink:href=\"#mf7b60ecea1\" x=\"242.054815\" y=\"210.912883\" style=\"fill: #dd8452; stroke: #333333\"/>\n     <use xlink:href=\"#mf7b60ecea1\" x=\"239.6533\" y=\"189.499422\" style=\"fill: #dd8452; stroke: #333333\"/>\n     <use xlink:href=\"#mf7b60ecea1\" x=\"131.821777\" y=\"41.505282\" style=\"fill: #dd8452; stroke: #333333\"/>\n     <use xlink:href=\"#mf7b60ecea1\" x=\"234.624632\" y=\"196.960598\" style=\"fill: #dd8452; stroke: #333333\"/>\n     <use xlink:href=\"#mf7b60ecea1\" x=\"237.612114\" y=\"172.391995\" style=\"fill: #dd8452; stroke: #333333\"/>\n     <use xlink:href=\"#mf7b60ecea1\" x=\"76.329591\" y=\"59.002281\" style=\"fill: #dd8452; stroke: #333333\"/>\n     <use xlink:href=\"#mf7b60ecea1\" x=\"104.142885\" y=\"60.492976\" style=\"fill: #dd8452; stroke: #333333\"/>\n     <use xlink:href=\"#mf7b60ecea1\" x=\"259.525872\" y=\"208.841219\" style=\"fill: #dd8452; stroke: #333333\"/>\n     <use xlink:href=\"#mf7b60ecea1\" x=\"231.049387\" y=\"190.62138\" style=\"fill: #dd8452; stroke: #333333\"/>\n     <use xlink:href=\"#mf7b60ecea1\" x=\"252.122637\" y=\"188.816667\" style=\"fill: #dd8452; stroke: #333333\"/>\n     <use xlink:href=\"#mf7b60ecea1\" x=\"97.003817\" y=\"80.527074\" style=\"fill: #dd8452; stroke: #333333\"/>\n    </g>\n   </g>\n   <g id=\"patch_3\">\n    <path d=\"M 59.024844 244.078125 \nL 59.024844 22.318125 \n\" style=\"fill: none; stroke: #ffffff; stroke-width: 1.25; stroke-linejoin: miter; stroke-linecap: square\"/>\n   </g>\n   <g id=\"patch_4\">\n    <path d=\"M 282.224844 244.078125 \nL 282.224844 22.318125 \n\" style=\"fill: none; stroke: #ffffff; stroke-width: 1.25; stroke-linejoin: miter; stroke-linecap: square\"/>\n   </g>\n   <g id=\"patch_5\">\n    <path d=\"M 59.024844 244.078125 \nL 282.224844 244.078125 \n\" style=\"fill: none; stroke: #ffffff; stroke-width: 1.25; stroke-linejoin: miter; stroke-linecap: square\"/>\n   </g>\n   <g id=\"patch_6\">\n    <path d=\"M 59.024844 22.318125 \nL 282.224844 22.318125 \n\" style=\"fill: none; stroke: #ffffff; stroke-width: 1.25; stroke-linejoin: miter; stroke-linecap: square\"/>\n   </g>\n   <g id=\"text_14\">\n    <!-- Dataset samples -->\n    <g style=\"fill: #262626\" transform=\"translate(120.282031 16.318125) scale(0.12 -0.12)\">\n     <defs>\n      <path id=\"DejaVuSans-44\" d=\"M 1259 4147 \nL 1259 519 \nL 2022 519 \nQ 2988 519 3436 956 \nQ 3884 1394 3884 2338 \nQ 3884 3275 3436 3711 \nQ 2988 4147 2022 4147 \nL 1259 4147 \nz\nM 628 4666 \nL 1925 4666 \nQ 3281 4666 3915 4102 \nQ 4550 3538 4550 2338 \nQ 4550 1131 3912 565 \nQ 3275 0 1925 0 \nL 628 0 \nL 628 4666 \nz\n\" transform=\"scale(0.015625)\"/>\n      <path id=\"DejaVuSans-61\" d=\"M 2194 1759 \nQ 1497 1759 1228 1600 \nQ 959 1441 959 1056 \nQ 959 750 1161 570 \nQ 1363 391 1709 391 \nQ 2188 391 2477 730 \nQ 2766 1069 2766 1631 \nL 2766 1759 \nL 2194 1759 \nz\nM 3341 1997 \nL 3341 0 \nL 2766 0 \nL 2766 531 \nQ 2569 213 2275 61 \nQ 1981 -91 1556 -91 \nQ 1019 -91 701 211 \nQ 384 513 384 1019 \nQ 384 1609 779 1909 \nQ 1175 2209 1959 2209 \nL 2766 2209 \nL 2766 2266 \nQ 2766 2663 2505 2880 \nQ 2244 3097 1772 3097 \nQ 1472 3097 1187 3025 \nQ 903 2953 641 2809 \nL 641 3341 \nQ 956 3463 1253 3523 \nQ 1550 3584 1831 3584 \nQ 2591 3584 2966 3190 \nQ 3341 2797 3341 1997 \nz\n\" transform=\"scale(0.015625)\"/>\n      <path id=\"DejaVuSans-74\" d=\"M 1172 4494 \nL 1172 3500 \nL 2356 3500 \nL 2356 3053 \nL 1172 3053 \nL 1172 1153 \nQ 1172 725 1289 603 \nQ 1406 481 1766 481 \nL 2356 481 \nL 2356 0 \nL 1766 0 \nQ 1100 0 847 248 \nQ 594 497 594 1153 \nL 594 3053 \nL 172 3053 \nL 172 3500 \nL 594 3500 \nL 594 4494 \nL 1172 4494 \nz\n\" transform=\"scale(0.015625)\"/>\n      <path id=\"DejaVuSans-73\" d=\"M 2834 3397 \nL 2834 2853 \nQ 2591 2978 2328 3040 \nQ 2066 3103 1784 3103 \nQ 1356 3103 1142 2972 \nQ 928 2841 928 2578 \nQ 928 2378 1081 2264 \nQ 1234 2150 1697 2047 \nL 1894 2003 \nQ 2506 1872 2764 1633 \nQ 3022 1394 3022 966 \nQ 3022 478 2636 193 \nQ 2250 -91 1575 -91 \nQ 1294 -91 989 -36 \nQ 684 19 347 128 \nL 347 722 \nQ 666 556 975 473 \nQ 1284 391 1588 391 \nQ 1994 391 2212 530 \nQ 2431 669 2431 922 \nQ 2431 1156 2273 1281 \nQ 2116 1406 1581 1522 \nL 1381 1569 \nQ 847 1681 609 1914 \nQ 372 2147 372 2553 \nQ 372 3047 722 3315 \nQ 1072 3584 1716 3584 \nQ 2034 3584 2315 3537 \nQ 2597 3491 2834 3397 \nz\n\" transform=\"scale(0.015625)\"/>\n      <path id=\"DejaVuSans-65\" d=\"M 3597 1894 \nL 3597 1613 \nL 953 1613 \nQ 991 1019 1311 708 \nQ 1631 397 2203 397 \nQ 2534 397 2845 478 \nQ 3156 559 3463 722 \nL 3463 178 \nQ 3153 47 2828 -22 \nQ 2503 -91 2169 -91 \nQ 1331 -91 842 396 \nQ 353 884 353 1716 \nQ 353 2575 817 3079 \nQ 1281 3584 2069 3584 \nQ 2775 3584 3186 3129 \nQ 3597 2675 3597 1894 \nz\nM 3022 2063 \nQ 3016 2534 2758 2815 \nQ 2500 3097 2075 3097 \nQ 1594 3097 1305 2825 \nQ 1016 2553 972 2059 \nL 3022 2063 \nz\n\" transform=\"scale(0.015625)\"/>\n      <path id=\"DejaVuSans-20\" transform=\"scale(0.015625)\"/>\n      <path id=\"DejaVuSans-6d\" d=\"M 3328 2828 \nQ 3544 3216 3844 3400 \nQ 4144 3584 4550 3584 \nQ 5097 3584 5394 3201 \nQ 5691 2819 5691 2113 \nL 5691 0 \nL 5113 0 \nL 5113 2094 \nQ 5113 2597 4934 2840 \nQ 4756 3084 4391 3084 \nQ 3944 3084 3684 2787 \nQ 3425 2491 3425 1978 \nL 3425 0 \nL 2847 0 \nL 2847 2094 \nQ 2847 2600 2669 2842 \nQ 2491 3084 2119 3084 \nQ 1678 3084 1418 2786 \nQ 1159 2488 1159 1978 \nL 1159 0 \nL 581 0 \nL 581 3500 \nL 1159 3500 \nL 1159 2956 \nQ 1356 3278 1631 3431 \nQ 1906 3584 2284 3584 \nQ 2666 3584 2933 3390 \nQ 3200 3197 3328 2828 \nz\n\" transform=\"scale(0.015625)\"/>\n      <path id=\"DejaVuSans-70\" d=\"M 1159 525 \nL 1159 -1331 \nL 581 -1331 \nL 581 3500 \nL 1159 3500 \nL 1159 2969 \nQ 1341 3281 1617 3432 \nQ 1894 3584 2278 3584 \nQ 2916 3584 3314 3078 \nQ 3713 2572 3713 1747 \nQ 3713 922 3314 415 \nQ 2916 -91 2278 -91 \nQ 1894 -91 1617 61 \nQ 1341 213 1159 525 \nz\nM 3116 1747 \nQ 3116 2381 2855 2742 \nQ 2594 3103 2138 3103 \nQ 1681 3103 1420 2742 \nQ 1159 2381 1159 1747 \nQ 1159 1113 1420 752 \nQ 1681 391 2138 391 \nQ 2594 391 2855 752 \nQ 3116 1113 3116 1747 \nz\n\" transform=\"scale(0.015625)\"/>\n      <path id=\"DejaVuSans-6c\" d=\"M 603 4863 \nL 1178 4863 \nL 1178 0 \nL 603 0 \nL 603 4863 \nz\n\" transform=\"scale(0.015625)\"/>\n     </defs>\n     <use xlink:href=\"#DejaVuSans-44\"/>\n     <use xlink:href=\"#DejaVuSans-61\" transform=\"translate(77.001953 0)\"/>\n     <use xlink:href=\"#DejaVuSans-74\" transform=\"translate(138.28125 0)\"/>\n     <use xlink:href=\"#DejaVuSans-61\" transform=\"translate(177.490234 0)\"/>\n     <use xlink:href=\"#DejaVuSans-73\" transform=\"translate(238.769531 0)\"/>\n     <use xlink:href=\"#DejaVuSans-65\" transform=\"translate(290.869141 0)\"/>\n     <use xlink:href=\"#DejaVuSans-74\" transform=\"translate(352.392578 0)\"/>\n     <use xlink:href=\"#DejaVuSans-20\" transform=\"translate(391.601562 0)\"/>\n     <use xlink:href=\"#DejaVuSans-73\" transform=\"translate(423.388672 0)\"/>\n     <use xlink:href=\"#DejaVuSans-61\" transform=\"translate(475.488281 0)\"/>\n     <use xlink:href=\"#DejaVuSans-6d\" transform=\"translate(536.767578 0)\"/>\n     <use xlink:href=\"#DejaVuSans-70\" transform=\"translate(634.179688 0)\"/>\n     <use xlink:href=\"#DejaVuSans-6c\" transform=\"translate(697.65625 0)\"/>\n     <use xlink:href=\"#DejaVuSans-65\" transform=\"translate(725.439453 0)\"/>\n     <use xlink:href=\"#DejaVuSans-73\" transform=\"translate(786.962891 0)\"/>\n    </g>\n   </g>\n   <g id=\"legend_1\">\n    <g id=\"patch_7\">\n     <path d=\"M 199.891562 150.994063 \nL 274.524844 150.994063 \nQ 276.724844 150.994063 276.724844 148.794063 \nL 276.724844 117.602188 \nQ 276.724844 115.402188 274.524844 115.402188 \nL 199.891562 115.402188 \nQ 197.691562 115.402188 197.691562 117.602188 \nL 197.691562 148.794063 \nQ 197.691562 150.994063 199.891562 150.994063 \nz\n\" style=\"fill: #eaeaf2; opacity: 0.8; stroke: #cccccc; stroke-linejoin: miter\"/>\n    </g>\n    <g id=\"PathCollection_3\">\n     <g>\n      <use xlink:href=\"#m3ca44e038c\" x=\"213.091562\" y=\"125.272969\" style=\"fill: #4c72b0; stroke: #333333\"/>\n     </g>\n    </g>\n    <g id=\"text_15\">\n     <!-- Class 0 -->\n     <g style=\"fill: #262626\" transform=\"translate(232.891562 128.160469) scale(0.11 -0.11)\">\n      <defs>\n       <path id=\"DejaVuSans-43\" d=\"M 4122 4306 \nL 4122 3641 \nQ 3803 3938 3442 4084 \nQ 3081 4231 2675 4231 \nQ 1875 4231 1450 3742 \nQ 1025 3253 1025 2328 \nQ 1025 1406 1450 917 \nQ 1875 428 2675 428 \nQ 3081 428 3442 575 \nQ 3803 722 4122 1019 \nL 4122 359 \nQ 3791 134 3420 21 \nQ 3050 -91 2638 -91 \nQ 1578 -91 968 557 \nQ 359 1206 359 2328 \nQ 359 3453 968 4101 \nQ 1578 4750 2638 4750 \nQ 3056 4750 3426 4639 \nQ 3797 4528 4122 4306 \nz\n\" transform=\"scale(0.015625)\"/>\n      </defs>\n      <use xlink:href=\"#DejaVuSans-43\"/>\n      <use xlink:href=\"#DejaVuSans-6c\" transform=\"translate(69.824219 0)\"/>\n      <use xlink:href=\"#DejaVuSans-61\" transform=\"translate(97.607422 0)\"/>\n      <use xlink:href=\"#DejaVuSans-73\" transform=\"translate(158.886719 0)\"/>\n      <use xlink:href=\"#DejaVuSans-73\" transform=\"translate(210.986328 0)\"/>\n      <use xlink:href=\"#DejaVuSans-20\" transform=\"translate(263.085938 0)\"/>\n      <use xlink:href=\"#DejaVuSans-30\" transform=\"translate(294.873047 0)\"/>\n     </g>\n    </g>\n    <g id=\"PathCollection_4\">\n     <g>\n      <use xlink:href=\"#mf7b60ecea1\" x=\"213.091562\" y=\"141.418906\" style=\"fill: #dd8452; stroke: #333333\"/>\n     </g>\n    </g>\n    <g id=\"text_16\">\n     <!-- Class 1 -->\n     <g style=\"fill: #262626\" transform=\"translate(232.891562 144.306406) scale(0.11 -0.11)\">\n      <use xlink:href=\"#DejaVuSans-43\"/>\n      <use xlink:href=\"#DejaVuSans-6c\" transform=\"translate(69.824219 0)\"/>\n      <use xlink:href=\"#DejaVuSans-61\" transform=\"translate(97.607422 0)\"/>\n      <use xlink:href=\"#DejaVuSans-73\" transform=\"translate(158.886719 0)\"/>\n      <use xlink:href=\"#DejaVuSans-73\" transform=\"translate(210.986328 0)\"/>\n      <use xlink:href=\"#DejaVuSans-20\" transform=\"translate(263.085938 0)\"/>\n      <use xlink:href=\"#DejaVuSans-31\" transform=\"translate(294.873047 0)\"/>\n     </g>\n    </g>\n   </g>\n  </g>\n </g>\n <defs>\n  <clipPath id=\"pc9b56afc11\">\n   <rect x=\"59.024844\" y=\"22.318125\" width=\"223.2\" height=\"221.76\"/>\n  </clipPath>\n </defs>\n</svg>\n",
            "application/pdf": "[encoded data removed]"
          },
          "metadata": {}
        }
      ],
      "source": [
        "visualize_samples(dataset.data, dataset.label)\n",
        "plt.show()"
      ]
    },
    {
      "cell_type": "markdown",
      "metadata": {
        "id": "LjqE85dyi5MH"
      },
      "source": [
        "#### The data loader class\n",
        "\n",
        "The data loader communicates with the dataset using the function `__getitem__`, and stacks its outputs as tensors over the first dimension to form a batch.\n",
        "\n",
        "\n",
        "* `batch_size`: Number of samples to stack per batch\n",
        "* `shuffle`: If True, the data is returned in a random order. This is important during training for introducing stochasticity."
      ]
    },
    {
      "cell_type": "code",
      "execution_count": null,
      "metadata": {
        "id": "R8bqDBZii5MH"
      },
      "outputs": [],
      "source": [
        "data_loader = data.DataLoader(dataset, batch_size=8, shuffle=True)"
      ]
    },
    {
      "cell_type": "code",
      "execution_count": null,
      "metadata": {
        "id": "jGY-5MAui5MH",
        "colab": {
          "base_uri": "https://localhost:8080/"
        },
        "outputId": "b8a64d0c-0719-4357-b624-da0673f82c27"
      },
      "outputs": [
        {
          "output_type": "stream",
          "name": "stdout",
          "text": [
            "Data inputs torch.Size([8, 2]) \n",
            " tensor([[ 0.0325,  0.9093],\n",
            "        [ 1.0190,  0.8059],\n",
            "        [ 1.0342,  1.0614],\n",
            "        [-0.0130,  0.1614],\n",
            "        [ 0.7399, -0.0239],\n",
            "        [ 0.1331,  0.9512],\n",
            "        [ 0.0065, -0.0117],\n",
            "        [-0.0177,  0.8931]])\n",
            "Data labels torch.Size([8]) \n",
            " tensor([1, 0, 0, 0, 1, 1, 0, 1])\n"
          ]
        }
      ],
      "source": [
        "# next(iter(...)) catches the first batch of the data loader\n",
        "# If shuffle is True, this will return a different batch every time we run this cell\n",
        "# For iterating over the whole dataset, we can simple use \"for batch in data_loader: ...\"\n",
        "data_inputs, data_labels = next(iter(data_loader))\n",
        "\n",
        "# The shape of the outputs are [batch_size, d_1,...,d_N] where d_1,...,d_N are the\n",
        "# dimensions of the data point returned from the dataset class\n",
        "print(\"Data inputs\", data_inputs.shape, \"\\n\", data_inputs)\n",
        "print(\"Data labels\", data_labels.shape, \"\\n\", data_labels)"
      ]
    },
    {
      "cell_type": "markdown",
      "metadata": {
        "id": "CXG6AA42i5MH"
      },
      "source": [
        "### Optimization\n",
        "\n",
        "After defining the model and the dataset, it is time to prepare the optimization of the model. During training, we will perform the following steps:\n",
        "\n",
        "1. Get a batch from the data loader\n",
        "2. Obtain the predictions from the model for the batch\n",
        "3. Calculate the loss based on the difference between predictions and labels\n",
        "4. Backpropagation: calculate the gradients for every parameter with respect to the loss\n",
        "5. Update the parameters of the model in the direction of the gradients\n",
        "\n",
        "We have seen how we can do step 1, 2 and 4 in PyTorch. Now, we will look at step 3 and 5."
      ]
    },
    {
      "cell_type": "markdown",
      "metadata": {
        "id": "odSZCvmCi5MH"
      },
      "source": [
        "#### Loss modules\n",
        "\n",
        "We can calculate the loss for a batch by simply performing a few tensor operations as those are automatically added to the computation graph. For instance, for binary classification, we can use Binary Cross Entropy (BCE) which is defined as follows:\n",
        "\n",
        "$$\\mathcal{L}_{BCE} = -\\sum_i \\left[ y_i \\log x_i + (1 - y_i) \\log (1 - x_i) \\right]$$\n",
        "\n",
        "where $y$ are our labels, and $x$ our predictions, both in the range of $[0,1]$."
      ]
    },
    {
      "cell_type": "code",
      "execution_count": null,
      "metadata": {
        "id": "G2NrTVFvi5MH"
      },
      "outputs": [],
      "source": [
        "loss_module = nn.BCEWithLogitsLoss()"
      ]
    },
    {
      "cell_type": "markdown",
      "metadata": {
        "id": "jg2LyvsBi5MH"
      },
      "source": [
        "#### Stochastic Gradient Descent\n",
        "\n",
        "Stochastic Gradient Descent updates parameters by multiplying the gradients with a small constant, called learning rate, and subtracting those from the parameters (hence minimizing the loss). Therefore, we slowly move towards the direction of minimizing the loss."
      ]
    },
    {
      "cell_type": "code",
      "execution_count": null,
      "metadata": {
        "id": "5YvRdOqbi5MH"
      },
      "outputs": [],
      "source": [
        "# Input to the optimizer are the parameters of the model: model.parameters()\n",
        "optimizer = torch.optim.SGD(model.parameters(), lr=0.1)"
      ]
    },
    {
      "cell_type": "markdown",
      "metadata": {
        "id": "HbcMLzWKi5MH"
      },
      "source": [
        "The optimizer provides two useful functions: `optimizer.step()`, and `optimizer.zero_grad()`.\n",
        "\n",
        "The step function updates the parameters based on the gradients as explained above. The function `optimizer.zero_grad()` sets the gradients of all parameters to zero. If we call the `backward` function on the loss while the parameter gradients are non-zero from the previous batch, the new gradients would actually be added to the previous ones instead of overwriting them.\n",
        "\n",
        "This is done because a parameter might occur multiple times in a computation graph, and we need to sum the gradients in this case instead of replacing them. Hence, remember to call `optimizer.zero_grad()` before calculating the gradients of a batch."
      ]
    },
    {
      "cell_type": "markdown",
      "metadata": {
        "id": "HIPO_haxi5MH"
      },
      "source": [
        "### Training"
      ]
    },
    {
      "cell_type": "code",
      "execution_count": null,
      "metadata": {
        "id": "snj1cu_Pi5MH"
      },
      "outputs": [],
      "source": [
        "train_dataset = XORDataset(size=2500)\n",
        "train_data_loader = data.DataLoader(train_dataset, batch_size=128, shuffle=True)"
      ]
    },
    {
      "cell_type": "code",
      "execution_count": null,
      "metadata": {
        "id": "vjT-LWAOi5MI",
        "colab": {
          "base_uri": "https://localhost:8080/"
        },
        "outputId": "d862bd16-2ee0-4a8e-d08c-3d763987a2bd"
      },
      "outputs": [
        {
          "output_type": "execute_result",
          "data": {
            "text/plain": [
              "SimpleClassifier(\n",
              "  (linear1): Linear(in_features=2, out_features=4, bias=True)\n",
              "  (activation): Tanh()\n",
              "  (linear2): Linear(in_features=4, out_features=1, bias=True)\n",
              ")"
            ]
          },
          "metadata": {},
          "execution_count": 39
        }
      ],
      "source": [
        "# Push model to device. Has to be only done once\n",
        "model.to(device)"
      ]
    },
    {
      "cell_type": "code",
      "execution_count": null,
      "metadata": {
        "id": "Gg4aby2ni5MI"
      },
      "outputs": [],
      "source": [
        "def train_model(model, optimizer, data_loader, loss_module, num_epochs=100):\n",
        "    # Set model to train mode\n",
        "    model.train()\n",
        "\n",
        "    # Training loop\n",
        "    for epoch in tqdm(range(num_epochs)):\n",
        "        for data_inputs, data_labels in data_loader:\n",
        "\n",
        "            ## Step 1: Move input data to device (only strictly necessary if we use GPU)\n",
        "            data_inputs = data_inputs.to(device)\n",
        "            data_labels = data_labels.to(device)\n",
        "\n",
        "            ## Step 2: Run the model on the input data\n",
        "            preds = model(data_inputs)\n",
        "            preds = preds.squeeze(dim=1) # Output is [Batch size, 1], but we want [Batch size]\n",
        "\n",
        "            ## Step 3: Calculate the loss\n",
        "            loss = loss_module(preds, data_labels.float())\n",
        "\n",
        "            ## Step 4: Perform backpropagation\n",
        "            # Before calculating the gradients, we need to ensure that they are all zero.\n",
        "            # The gradients would not be overwritten, but actually added to the existing ones.\n",
        "            optimizer.zero_grad()\n",
        "            # Perform backpropagation\n",
        "            loss.backward()\n",
        "\n",
        "            ## Step 5: Update the parameters\n",
        "            optimizer.step()"
      ]
    },
    {
      "cell_type": "code",
      "execution_count": null,
      "metadata": {
        "id": "Yr6s777Ii5MI",
        "colab": {
          "base_uri": "https://localhost:8080/",
          "height": 49,
          "referenced_widgets": [
            "6aa1a6fa25734ebb9c7fe21cfefbdd02",
            "c51a9c5573804980b9fecf0f4b492c7e",
            "02e1273242bc4dc0a91cdce1c4e80b72",
            "d2335c1515cd457c9ed2c1d667d70c34",
            "9cae10717af14ee6ade0413fb18ff650",
            "d5838413234547c6a12f37e49278c890",
            "c848706c22f843bead98091e67d06bd0",
            "62391dad267d4a47b4583c26c476fc46",
            "dfb9822a6a404b9ea8caa1078e28f449",
            "0cfea3eb157547e1ae65c994ef587bf8",
            "c90d06f3ce724cf99e789f5be22fbcab"
          ]
        },
        "outputId": "971eb4a0-cc01-4451-d0fb-041f6e162366"
      },
      "outputs": [
        {
          "output_type": "display_data",
          "data": {
            "text/plain": [
              "  0%|          | 0/100 [00:00<?, ?it/s]"
            ],
            "application/vnd.jupyter.widget-view+json": {
              "version_major": 2,
              "version_minor": 0,
              "model_id": "6aa1a6fa25734ebb9c7fe21cfefbdd02"
            }
          },
          "metadata": {}
        }
      ],
      "source": [
        "train_model(model, optimizer, train_data_loader, loss_module)"
      ]
    },
    {
      "cell_type": "markdown",
      "metadata": {
        "id": "j40noyFCi5MI"
      },
      "source": [
        "#### Saving a model\n",
        "\n",
        "After finish training a model, we save the model to disk so that we can load the same weights at a later time. For this, we extract the so-called `state_dict` from the model which contains all learnable parameters. For our simple model, the state dict contains the following entries:"
      ]
    },
    {
      "cell_type": "code",
      "execution_count": null,
      "metadata": {
        "id": "sl9K6qdwi5MI",
        "colab": {
          "base_uri": "https://localhost:8080/"
        },
        "outputId": "393efe63-f675-4350-fdd3-b0fdf173071f"
      },
      "outputs": [
        {
          "output_type": "stream",
          "name": "stdout",
          "text": [
            "OrderedDict([('linear1.weight', tensor([[ 0.5247,  0.4163],\n",
            "        [-3.3803,  2.8931],\n",
            "        [ 2.7724, -3.2045],\n",
            "        [ 1.2516,  1.2059]], device='cuda:0')), ('linear1.bias', tensor([ 0.3338, -1.3090, -1.2688,  0.3188], device='cuda:0')), ('linear2.weight', tensor([[0.5733, 4.4948, 4.5449, 2.2356]], device='cuda:0')), ('linear2.bias', tensor([1.9830], device='cuda:0'))])\n"
          ]
        }
      ],
      "source": [
        "state_dict = model.state_dict()\n",
        "print(state_dict)"
      ]
    },
    {
      "cell_type": "code",
      "execution_count": null,
      "metadata": {
        "id": "lN17GAYqi5MI"
      },
      "outputs": [],
      "source": [
        "# torch.save(object, filename). For the filename, any extension can be used\n",
        "torch.save(state_dict, \"our_model.tar\")"
      ]
    },
    {
      "cell_type": "code",
      "execution_count": null,
      "metadata": {
        "id": "qyEttWdpi5MI",
        "colab": {
          "base_uri": "https://localhost:8080/"
        },
        "outputId": "1a879644-a0ef-4b8f-fa29-9d9960115e4f"
      },
      "outputs": [
        {
          "output_type": "stream",
          "name": "stdout",
          "text": [
            "Original model\n",
            " OrderedDict([('linear1.weight', tensor([[ 0.5247,  0.4163],\n",
            "        [-3.3803,  2.8931],\n",
            "        [ 2.7724, -3.2045],\n",
            "        [ 1.2516,  1.2059]], device='cuda:0')), ('linear1.bias', tensor([ 0.3338, -1.3090, -1.2688,  0.3188], device='cuda:0')), ('linear2.weight', tensor([[0.5733, 4.4948, 4.5449, 2.2356]], device='cuda:0')), ('linear2.bias', tensor([1.9830], device='cuda:0'))])\n",
            "\n",
            "Loaded model\n",
            " OrderedDict([('linear1.weight', tensor([[ 0.5247,  0.4163],\n",
            "        [-3.3803,  2.8931],\n",
            "        [ 2.7724, -3.2045],\n",
            "        [ 1.2516,  1.2059]])), ('linear1.bias', tensor([ 0.3338, -1.3090, -1.2688,  0.3188])), ('linear2.weight', tensor([[0.5733, 4.4948, 4.5449, 2.2356]])), ('linear2.bias', tensor([1.9830]))])\n"
          ]
        }
      ],
      "source": [
        "# Load state dict from the disk (make sure it is the same name as above)\n",
        "state_dict = torch.load(\"our_model.tar\")\n",
        "\n",
        "# Create a new model and load the state\n",
        "new_model = SimpleClassifier(num_inputs=2, num_hidden=4, num_outputs=1)\n",
        "new_model.load_state_dict(state_dict)\n",
        "\n",
        "# Verify that the parameters are the same\n",
        "print(\"Original model\\n\", model.state_dict())\n",
        "print(\"\\nLoaded model\\n\", new_model.state_dict())"
      ]
    },
    {
      "cell_type": "markdown",
      "metadata": {
        "id": "Tp_dMw_hi5MI"
      },
      "source": [
        "A detailed tutorial on saving and loading models in PyTorch can be found [here](https://pytorch.org/tutorials/beginner/saving_loading_models.html)."
      ]
    },
    {
      "cell_type": "markdown",
      "metadata": {
        "id": "YFrKYyBzi5MI"
      },
      "source": [
        "### Evaluation\n",
        "\n",
        "Once we have trained a model, it is time to evaluate it on a held-out test set. As our dataset consist of randomly generated data points, we need to first create a test set with a corresponding data loader."
      ]
    },
    {
      "cell_type": "code",
      "execution_count": null,
      "metadata": {
        "id": "Oo7i08E1i5MI"
      },
      "outputs": [],
      "source": [
        "test_dataset = XORDataset(size=500)\n",
        "# drop_last -> Don't drop the last batch although it is smaller than 128\n",
        "test_data_loader = data.DataLoader(test_dataset, batch_size=128, shuffle=False, drop_last=False)"
      ]
    },
    {
      "cell_type": "markdown",
      "metadata": {
        "id": "Vp6McGdOi5MI"
      },
      "source": [
        "As metric, we will use accuracy which is calculated as follows:\n",
        "\n",
        "$$acc = \\frac{\\#\\text{correct predictions}}{\\#\\text{all predictions}} = \\frac{TP+TN}{TP+TN+FP+FN}$$\n",
        "\n",
        "where TP are the true positives, TN true negatives, FP false positives, and FN the fale negatives."
      ]
    },
    {
      "cell_type": "code",
      "execution_count": null,
      "metadata": {
        "id": "R_Cu4L2Vi5MI"
      },
      "outputs": [],
      "source": [
        "def eval_model(model, data_loader):\n",
        "    model.eval() # Set model to eval mode\n",
        "    true_preds, num_preds = 0., 0.\n",
        "\n",
        "    with torch.no_grad(): # Deactivate gradients for the following code\n",
        "        for data_inputs, data_labels in data_loader:\n",
        "\n",
        "            # Determine prediction of model on dev set\n",
        "            data_inputs, data_labels = data_inputs.to(device), data_labels.to(device)\n",
        "            preds = model(data_inputs)\n",
        "            preds = preds.squeeze(dim=1)\n",
        "            preds = torch.sigmoid(preds) # Sigmoid to map predictions between 0 and 1\n",
        "            pred_labels = (preds >= 0.5).long() # Binarize predictions to 0 and 1\n",
        "\n",
        "            # Keep records of predictions for the accuracy metric (true_preds=TP+TN, num_preds=TP+TN+FP+FN)\n",
        "            true_preds += (pred_labels == data_labels).sum()\n",
        "            num_preds += data_labels.shape[0]\n",
        "\n",
        "    acc = true_preds / num_preds\n",
        "    print(f\"Accuracy of the model: {100.0*acc:4.2f}%\")"
      ]
    },
    {
      "cell_type": "code",
      "execution_count": null,
      "metadata": {
        "id": "OvpxXPN9i5MI",
        "colab": {
          "base_uri": "https://localhost:8080/"
        },
        "outputId": "a4b04c25-563d-476e-e14f-352f44da8cb9"
      },
      "outputs": [
        {
          "output_type": "stream",
          "name": "stdout",
          "text": [
            "Accuracy of the model: 100.00%\n"
          ]
        }
      ],
      "source": [
        "eval_model(model, test_data_loader)"
      ]
    },
    {
      "cell_type": "markdown",
      "metadata": {
        "id": "h2YMWJA5i5MI"
      },
      "source": [
        "If we trained our model correctly, we should see a score close to 100% accuracy. However, this is only possible because of our simple task, and unfortunately, we usually don't get such high scores on test sets of more complex tasks."
      ]
    },
    {
      "cell_type": "markdown",
      "metadata": {
        "id": "dm6xUtdLi5MI"
      },
      "source": [
        "#### Visualizing classification boundaries"
      ]
    },
    {
      "cell_type": "code",
      "execution_count": null,
      "metadata": {
        "id": "GSe0XCZji5MI",
        "colab": {
          "base_uri": "https://localhost:8080/",
          "height": 404
        },
        "outputId": "8e4f014e-4e98-45c7-eb55-b71227be1f96"
      },
      "outputs": [
        {
          "output_type": "display_data",
          "data": {
            "text/plain": [
              "<Figure size 2000x2000 with 1 Axes>"
            ],
            "image/svg+xml": "<?xml version=\"1.0\" encoding=\"utf-8\" standalone=\"no\"?>\n<!DOCTYPE svg PUBLIC \"-//W3C//DTD SVG 1.1//EN\"\n  \"http://www.w3.org/Graphics/SVG/1.1/DTD/svg11.dtd\">\n<svg xmlns:xlink=\"http://www.w3.org/1999/xlink\" width=\"303.730313pt\" height=\"287.037813pt\" viewBox=\"0 0 303.730313 287.037813\" xmlns=\"http://www.w3.org/2000/svg\" version=\"1.1\">\n <metadata>\n  <rdf:RDF xmlns:dc=\"http://purl.org/dc/elements/1.1/\" xmlns:cc=\"http://creativecommons.org/ns#\" xmlns:rdf=\"http://www.w3.org/1999/02/22-rdf-syntax-ns#\">\n   <cc:Work>\n    <dc:type rdf:resource=\"http://purl.org/dc/dcmitype/StillImage\"/>\n    <dc:date>2025-06-16T22:47:59.284138</dc:date>\n    <dc:format>image/svg+xml</dc:format>\n    <dc:creator>\n     <cc:Agent>\n      <dc:title>Matplotlib v3.10.0, https://matplotlib.org/</dc:title>\n     </cc:Agent>\n    </dc:creator>\n   </cc:Work>\n  </rdf:RDF>\n </metadata>\n <defs>\n  <style type=\"text/css\">*{stroke-linejoin: round; stroke-linecap: butt}</style>\n </defs>\n <g id=\"figure_1\">\n  <g id=\"patch_1\">\n   <path d=\"M 0 287.037813 \nL 303.730313 287.037813 \nL 303.730313 0 \nL 0 0 \nz\n\" style=\"fill: #ffffff\"/>\n  </g>\n  <g id=\"axes_1\">\n   <g id=\"patch_2\">\n    <path d=\"M 66.023594 244.078125 \nL 287.783594 244.078125 \nL 287.783594 22.318125 \nL 66.023594 22.318125 \nz\n\" style=\"fill: #eaeaf2\"/>\n   </g>\n   <g clip-path=\"url(#pd685d5e1e3)\">\n    <image xlink:href=\"data:image/png;base64,\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\" id=\"image1b00b2c9c2\" transform=\"scale(1 -1) translate(0 -221.904)\" x=\"66.023594\" y=\"-22.174125\" width=\"221.904\" height=\"221.904\"/>\n   </g>\n   <g id=\"matplotlib.axis_1\">\n    <g id=\"xtick_1\">\n     <g id=\"text_1\">\n      <!-- −0.5 -->\n      <g style=\"fill: #262626\" transform=\"translate(52.668047 261.936406) scale(0.11 -0.11)\">\n       <defs>\n        <path id=\"DejaVuSans-2212\" d=\"M 678 2272 \nL 4684 2272 \nL 4684 1741 \nL 678 1741 \nL 678 2272 \nz\n\" transform=\"scale(0.015625)\"/>\n        <path id=\"DejaVuSans-30\" d=\"M 2034 4250 \nQ 1547 4250 1301 3770 \nQ 1056 3291 1056 2328 \nQ 1056 1369 1301 889 \nQ 1547 409 2034 409 \nQ 2525 409 2770 889 \nQ 3016 1369 3016 2328 \nQ 3016 3291 2770 3770 \nQ 2525 4250 2034 4250 \nz\nM 2034 4750 \nQ 2819 4750 3233 4129 \nQ 3647 3509 3647 2328 \nQ 3647 1150 3233 529 \nQ 2819 -91 2034 -91 \nQ 1250 -91 836 529 \nQ 422 1150 422 2328 \nQ 422 3509 836 4129 \nQ 1250 4750 2034 4750 \nz\n\" transform=\"scale(0.015625)\"/>\n        <path id=\"DejaVuSans-2e\" d=\"M 684 794 \nL 1344 794 \nL 1344 0 \nL 684 0 \nL 684 794 \nz\n\" transform=\"scale(0.015625)\"/>\n        <path id=\"DejaVuSans-35\" d=\"M 691 4666 \nL 3169 4666 \nL 3169 4134 \nL 1269 4134 \nL 1269 2991 \nQ 1406 3038 1543 3061 \nQ 1681 3084 1819 3084 \nQ 2600 3084 3056 2656 \nQ 3513 2228 3513 1497 \nQ 3513 744 3044 326 \nQ 2575 -91 1722 -91 \nQ 1428 -91 1123 -41 \nQ 819 9 494 109 \nL 494 744 \nQ 775 591 1075 516 \nQ 1375 441 1709 441 \nQ 2250 441 2565 725 \nQ 2881 1009 2881 1497 \nQ 2881 1984 2565 2268 \nQ 2250 2553 1709 2553 \nQ 1456 2553 1204 2497 \nQ 953 2441 691 2322 \nL 691 4666 \nz\n\" transform=\"scale(0.015625)\"/>\n       </defs>\n       <use xlink:href=\"#DejaVuSans-2212\"/>\n       <use xlink:href=\"#DejaVuSans-30\" transform=\"translate(83.789062 0)\"/>\n       <use xlink:href=\"#DejaVuSans-2e\" transform=\"translate(147.412109 0)\"/>\n       <use xlink:href=\"#DejaVuSans-35\" transform=\"translate(179.199219 0)\"/>\n      </g>\n     </g>\n    </g>\n    <g id=\"xtick_2\">\n     <g id=\"text_2\">\n      <!-- 0.0 -->\n      <g style=\"fill: #262626\" transform=\"translate(112.716875 261.936406) scale(0.11 -0.11)\">\n       <use xlink:href=\"#DejaVuSans-30\"/>\n       <use xlink:href=\"#DejaVuSans-2e\" transform=\"translate(63.623047 0)\"/>\n       <use xlink:href=\"#DejaVuSans-30\" transform=\"translate(95.410156 0)\"/>\n      </g>\n     </g>\n    </g>\n    <g id=\"xtick_3\">\n     <g id=\"text_3\">\n      <!-- 0.5 -->\n      <g style=\"fill: #262626\" transform=\"translate(168.156875 261.936406) scale(0.11 -0.11)\">\n       <use xlink:href=\"#DejaVuSans-30\"/>\n       <use xlink:href=\"#DejaVuSans-2e\" transform=\"translate(63.623047 0)\"/>\n       <use xlink:href=\"#DejaVuSans-35\" transform=\"translate(95.410156 0)\"/>\n      </g>\n     </g>\n    </g>\n    <g id=\"xtick_4\">\n     <g id=\"text_4\">\n      <!-- 1.0 -->\n      <g style=\"fill: #262626\" transform=\"translate(223.596875 261.936406) scale(0.11 -0.11)\">\n       <defs>\n        <path id=\"DejaVuSans-31\" d=\"M 794 531 \nL 1825 531 \nL 1825 4091 \nL 703 3866 \nL 703 4441 \nL 1819 4666 \nL 2450 4666 \nL 2450 531 \nL 3481 531 \nL 3481 0 \nL 794 0 \nL 794 531 \nz\n\" transform=\"scale(0.015625)\"/>\n       </defs>\n       <use xlink:href=\"#DejaVuSans-31\"/>\n       <use xlink:href=\"#DejaVuSans-2e\" transform=\"translate(63.623047 0)\"/>\n       <use xlink:href=\"#DejaVuSans-30\" transform=\"translate(95.410156 0)\"/>\n      </g>\n     </g>\n    </g>\n    <g id=\"xtick_5\">\n     <g id=\"text_5\">\n      <!-- 1.5 -->\n      <g style=\"fill: #262626\" transform=\"translate(279.036875 261.936406) scale(0.11 -0.11)\">\n       <use xlink:href=\"#DejaVuSans-31\"/>\n       <use xlink:href=\"#DejaVuSans-2e\" transform=\"translate(63.623047 0)\"/>\n       <use xlink:href=\"#DejaVuSans-35\" transform=\"translate(95.410156 0)\"/>\n      </g>\n     </g>\n    </g>\n    <g id=\"text_6\">\n     <!-- $x_1$ -->\n     <g style=\"fill: #262626\" transform=\"translate(170.483594 277.342188) scale(0.12 -0.12)\">\n      <defs>\n       <path id=\"DejaVuSans-Oblique-78\" d=\"M 3841 3500 \nL 2234 1784 \nL 3219 0 \nL 2559 0 \nL 1819 1388 \nL 531 0 \nL -166 0 \nL 1556 1844 \nL 641 3500 \nL 1300 3500 \nL 1972 2234 \nL 3144 3500 \nL 3841 3500 \nz\n\" transform=\"scale(0.015625)\"/>\n      </defs>\n      <use xlink:href=\"#DejaVuSans-Oblique-78\" transform=\"translate(0 0.3125)\"/>\n      <use xlink:href=\"#DejaVuSans-31\" transform=\"translate(59.179688 -16.09375) scale(0.7)\"/>\n     </g>\n    </g>\n   </g>\n   <g id=\"matplotlib.axis_2\">\n    <g id=\"ytick_1\">\n     <g id=\"text_7\">\n      <!-- −0.50 -->\n      <g style=\"fill: #262626\" transform=\"translate(22.81375 248.257266) scale(0.11 -0.11)\">\n       <use xlink:href=\"#DejaVuSans-2212\"/>\n       <use xlink:href=\"#DejaVuSans-30\" transform=\"translate(83.789062 0)\"/>\n       <use xlink:href=\"#DejaVuSans-2e\" transform=\"translate(147.412109 0)\"/>\n       <use xlink:href=\"#DejaVuSans-35\" transform=\"translate(179.199219 0)\"/>\n       <use xlink:href=\"#DejaVuSans-30\" transform=\"translate(242.822266 0)\"/>\n      </g>\n     </g>\n    </g>\n    <g id=\"ytick_2\">\n     <g id=\"text_8\">\n      <!-- −0.25 -->\n      <g style=\"fill: #262626\" transform=\"translate(22.81375 220.537266) scale(0.11 -0.11)\">\n       <defs>\n        <path id=\"DejaVuSans-32\" d=\"M 1228 531 \nL 3431 531 \nL 3431 0 \nL 469 0 \nL 469 531 \nQ 828 903 1448 1529 \nQ 2069 2156 2228 2338 \nQ 2531 2678 2651 2914 \nQ 2772 3150 2772 3378 \nQ 2772 3750 2511 3984 \nQ 2250 4219 1831 4219 \nQ 1534 4219 1204 4116 \nQ 875 4013 500 3803 \nL 500 4441 \nQ 881 4594 1212 4672 \nQ 1544 4750 1819 4750 \nQ 2544 4750 2975 4387 \nQ 3406 4025 3406 3419 \nQ 3406 3131 3298 2873 \nQ 3191 2616 2906 2266 \nQ 2828 2175 2409 1742 \nQ 1991 1309 1228 531 \nz\n\" transform=\"scale(0.015625)\"/>\n       </defs>\n       <use xlink:href=\"#DejaVuSans-2212\"/>\n       <use xlink:href=\"#DejaVuSans-30\" transform=\"translate(83.789062 0)\"/>\n       <use xlink:href=\"#DejaVuSans-2e\" transform=\"translate(147.412109 0)\"/>\n       <use xlink:href=\"#DejaVuSans-32\" transform=\"translate(179.199219 0)\"/>\n       <use xlink:href=\"#DejaVuSans-35\" transform=\"translate(242.822266 0)\"/>\n      </g>\n     </g>\n    </g>\n    <g id=\"ytick_3\">\n     <g id=\"text_9\">\n      <!-- 0.00 -->\n      <g style=\"fill: #262626\" transform=\"translate(32.031406 192.817266) scale(0.11 -0.11)\">\n       <use xlink:href=\"#DejaVuSans-30\"/>\n       <use xlink:href=\"#DejaVuSans-2e\" transform=\"translate(63.623047 0)\"/>\n       <use xlink:href=\"#DejaVuSans-30\" transform=\"translate(95.410156 0)\"/>\n       <use xlink:href=\"#DejaVuSans-30\" transform=\"translate(159.033203 0)\"/>\n      </g>\n     </g>\n    </g>\n    <g id=\"ytick_4\">\n     <g id=\"text_10\">\n      <!-- 0.25 -->\n      <g style=\"fill: #262626\" transform=\"translate(32.031406 165.097266) scale(0.11 -0.11)\">\n       <use xlink:href=\"#DejaVuSans-30\"/>\n       <use xlink:href=\"#DejaVuSans-2e\" transform=\"translate(63.623047 0)\"/>\n       <use xlink:href=\"#DejaVuSans-32\" transform=\"translate(95.410156 0)\"/>\n       <use xlink:href=\"#DejaVuSans-35\" transform=\"translate(159.033203 0)\"/>\n      </g>\n     </g>\n    </g>\n    <g id=\"ytick_5\">\n     <g id=\"text_11\">\n      <!-- 0.50 -->\n      <g style=\"fill: #262626\" transform=\"translate(32.031406 137.377266) scale(0.11 -0.11)\">\n       <use xlink:href=\"#DejaVuSans-30\"/>\n       <use xlink:href=\"#DejaVuSans-2e\" transform=\"translate(63.623047 0)\"/>\n       <use xlink:href=\"#DejaVuSans-35\" transform=\"translate(95.410156 0)\"/>\n       <use xlink:href=\"#DejaVuSans-30\" transform=\"translate(159.033203 0)\"/>\n      </g>\n     </g>\n    </g>\n    <g id=\"ytick_6\">\n     <g id=\"text_12\">\n      <!-- 0.75 -->\n      <g style=\"fill: #262626\" transform=\"translate(32.031406 109.657266) scale(0.11 -0.11)\">\n       <defs>\n        <path id=\"DejaVuSans-37\" d=\"M 525 4666 \nL 3525 4666 \nL 3525 4397 \nL 1831 0 \nL 1172 0 \nL 2766 4134 \nL 525 4134 \nL 525 4666 \nz\n\" transform=\"scale(0.015625)\"/>\n       </defs>\n       <use xlink:href=\"#DejaVuSans-30\"/>\n       <use xlink:href=\"#DejaVuSans-2e\" transform=\"translate(63.623047 0)\"/>\n       <use xlink:href=\"#DejaVuSans-37\" transform=\"translate(95.410156 0)\"/>\n       <use xlink:href=\"#DejaVuSans-35\" transform=\"translate(159.033203 0)\"/>\n      </g>\n     </g>\n    </g>\n    <g id=\"ytick_7\">\n     <g id=\"text_13\">\n      <!-- 1.00 -->\n      <g style=\"fill: #262626\" transform=\"translate(32.031406 81.937266) scale(0.11 -0.11)\">\n       <use xlink:href=\"#DejaVuSans-31\"/>\n       <use xlink:href=\"#DejaVuSans-2e\" transform=\"translate(63.623047 0)\"/>\n       <use xlink:href=\"#DejaVuSans-30\" transform=\"translate(95.410156 0)\"/>\n       <use xlink:href=\"#DejaVuSans-30\" transform=\"translate(159.033203 0)\"/>\n      </g>\n     </g>\n    </g>\n    <g id=\"ytick_8\">\n     <g id=\"text_14\">\n      <!-- 1.25 -->\n      <g style=\"fill: #262626\" transform=\"translate(32.031406 54.217266) scale(0.11 -0.11)\">\n       <use xlink:href=\"#DejaVuSans-31\"/>\n       <use xlink:href=\"#DejaVuSans-2e\" transform=\"translate(63.623047 0)\"/>\n       <use xlink:href=\"#DejaVuSans-32\" transform=\"translate(95.410156 0)\"/>\n       <use xlink:href=\"#DejaVuSans-35\" transform=\"translate(159.033203 0)\"/>\n      </g>\n     </g>\n    </g>\n    <g id=\"ytick_9\">\n     <g id=\"text_15\">\n      <!-- 1.50 -->\n      <g style=\"fill: #262626\" transform=\"translate(32.031406 26.497266) scale(0.11 -0.11)\">\n       <use xlink:href=\"#DejaVuSans-31\"/>\n       <use xlink:href=\"#DejaVuSans-2e\" transform=\"translate(63.623047 0)\"/>\n       <use xlink:href=\"#DejaVuSans-35\" transform=\"translate(95.410156 0)\"/>\n       <use xlink:href=\"#DejaVuSans-30\" transform=\"translate(159.033203 0)\"/>\n      </g>\n     </g>\n    </g>\n    <g id=\"text_16\">\n     <!-- $x_2$ -->\n     <g style=\"fill: #262626\" transform=\"translate(16.318125 139.618125) rotate(-90) scale(0.12 -0.12)\">\n      <use xlink:href=\"#DejaVuSans-Oblique-78\" transform=\"translate(0 0.3125)\"/>\n      <use xlink:href=\"#DejaVuSans-32\" transform=\"translate(59.179688 -16.09375) scale(0.7)\"/>\n     </g>\n    </g>\n   </g>\n   <g id=\"PathCollection_1\">\n    <defs>\n     <path id=\"mfda6844202\" d=\"M 0 3 \nC 0.795609 3 1.55874 2.683901 2.12132 2.12132 \nC 2.683901 1.55874 3 0.795609 3 0 \nC 3 -0.795609 2.683901 -1.55874 2.12132 -2.12132 \nC 1.55874 -2.683901 0.795609 -3 0 -3 \nC -0.795609 -3 -1.55874 -2.683901 -2.12132 -2.12132 \nC -2.683901 -1.55874 -3 -0.795609 -3 0 \nC -3 0.795609 -2.683901 1.55874 -2.12132 2.12132 \nC -1.55874 2.683901 -0.795609 3 0 3 \nz\n\" style=\"stroke: #333333\"/>\n    </defs>\n    <g clip-path=\"url(#pd685d5e1e3)\">\n     <use xlink:href=\"#mfda6844202\" x=\"110.316657\" y=\"187.109563\" style=\"fill: #4c72b0; stroke: #333333\"/>\n     <use xlink:href=\"#mfda6844202\" x=\"228.740566\" y=\"94.259298\" style=\"fill: #4c72b0; stroke: #333333\"/>\n     <use xlink:href=\"#mfda6844202\" x=\"236.953041\" y=\"80.173067\" style=\"fill: #4c72b0; stroke: #333333\"/>\n     <use xlink:href=\"#mfda6844202\" x=\"131.707277\" y=\"164.380293\" style=\"fill: #4c72b0; stroke: #333333\"/>\n     <use xlink:href=\"#mfda6844202\" x=\"118.537852\" y=\"205.709169\" style=\"fill: #4c72b0; stroke: #333333\"/>\n     <use xlink:href=\"#mfda6844202\" x=\"121.560291\" y=\"185.705797\" style=\"fill: #4c72b0; stroke: #333333\"/>\n     <use xlink:href=\"#mfda6844202\" x=\"110.91443\" y=\"187.80853\" style=\"fill: #4c72b0; stroke: #333333\"/>\n     <use xlink:href=\"#mfda6844202\" x=\"126.543157\" y=\"175.681614\" style=\"fill: #4c72b0; stroke: #333333\"/>\n     <use xlink:href=\"#mfda6844202\" x=\"118.416706\" y=\"191.896257\" style=\"fill: #4c72b0; stroke: #333333\"/>\n     <use xlink:href=\"#mfda6844202\" x=\"113.283037\" y=\"198.970967\" style=\"fill: #4c72b0; stroke: #333333\"/>\n     <use xlink:href=\"#mfda6844202\" x=\"216.740546\" y=\"73.774916\" style=\"fill: #4c72b0; stroke: #333333\"/>\n     <use xlink:href=\"#mfda6844202\" x=\"113.239874\" y=\"194.760592\" style=\"fill: #4c72b0; stroke: #333333\"/>\n     <use xlink:href=\"#mfda6844202\" x=\"243.331563\" y=\"59.101842\" style=\"fill: #4c72b0; stroke: #333333\"/>\n     <use xlink:href=\"#mfda6844202\" x=\"229.563666\" y=\"72.709168\" style=\"fill: #4c72b0; stroke: #333333\"/>\n     <use xlink:href=\"#mfda6844202\" x=\"247.001428\" y=\"80.773597\" style=\"fill: #4c72b0; stroke: #333333\"/>\n     <use xlink:href=\"#mfda6844202\" x=\"128.986735\" y=\"203.281332\" style=\"fill: #4c72b0; stroke: #333333\"/>\n     <use xlink:href=\"#mfda6844202\" x=\"248.445499\" y=\"62.895519\" style=\"fill: #4c72b0; stroke: #333333\"/>\n     <use xlink:href=\"#mfda6844202\" x=\"143.851786\" y=\"204.650312\" style=\"fill: #4c72b0; stroke: #333333\"/>\n     <use xlink:href=\"#mfda6844202\" x=\"242.140787\" y=\"86.38534\" style=\"fill: #4c72b0; stroke: #333333\"/>\n     <use xlink:href=\"#mfda6844202\" x=\"234.677219\" y=\"60.077008\" style=\"fill: #4c72b0; stroke: #333333\"/>\n     <use xlink:href=\"#mfda6844202\" x=\"124.349233\" y=\"192.85154\" style=\"fill: #4c72b0; stroke: #333333\"/>\n     <use xlink:href=\"#mfda6844202\" x=\"121.352476\" y=\"201.779171\" style=\"fill: #4c72b0; stroke: #333333\"/>\n     <use xlink:href=\"#mfda6844202\" x=\"108.545865\" y=\"177.394429\" style=\"fill: #4c72b0; stroke: #333333\"/>\n     <use xlink:href=\"#mfda6844202\" x=\"241.89225\" y=\"84.987643\" style=\"fill: #4c72b0; stroke: #333333\"/>\n     <use xlink:href=\"#mfda6844202\" x=\"214.757831\" y=\"97.995133\" style=\"fill: #4c72b0; stroke: #333333\"/>\n     <use xlink:href=\"#mfda6844202\" x=\"232.440204\" y=\"70.857984\" style=\"fill: #4c72b0; stroke: #333333\"/>\n     <use xlink:href=\"#mfda6844202\" x=\"123.620508\" y=\"198.074781\" style=\"fill: #4c72b0; stroke: #333333\"/>\n     <use xlink:href=\"#mfda6844202\" x=\"119.270074\" y=\"190.59022\" style=\"fill: #4c72b0; stroke: #333333\"/>\n     <use xlink:href=\"#mfda6844202\" x=\"130.781105\" y=\"188.170265\" style=\"fill: #4c72b0; stroke: #333333\"/>\n     <use xlink:href=\"#mfda6844202\" x=\"248.256285\" y=\"71.846117\" style=\"fill: #4c72b0; stroke: #333333\"/>\n     <use xlink:href=\"#mfda6844202\" x=\"218.071109\" y=\"84.702493\" style=\"fill: #4c72b0; stroke: #333333\"/>\n     <use xlink:href=\"#mfda6844202\" x=\"141.792194\" y=\"207.022044\" style=\"fill: #4c72b0; stroke: #333333\"/>\n     <use xlink:href=\"#mfda6844202\" x=\"116.525756\" y=\"181.049041\" style=\"fill: #4c72b0; stroke: #333333\"/>\n     <use xlink:href=\"#mfda6844202\" x=\"218.301742\" y=\"77.948747\" style=\"fill: #4c72b0; stroke: #333333\"/>\n     <use xlink:href=\"#mfda6844202\" x=\"241.672528\" y=\"60.784153\" style=\"fill: #4c72b0; stroke: #333333\"/>\n     <use xlink:href=\"#mfda6844202\" x=\"231.21315\" y=\"67.097008\" style=\"fill: #4c72b0; stroke: #333333\"/>\n     <use xlink:href=\"#mfda6844202\" x=\"123.691225\" y=\"194.069422\" style=\"fill: #4c72b0; stroke: #333333\"/>\n     <use xlink:href=\"#mfda6844202\" x=\"197.007927\" y=\"61.776582\" style=\"fill: #4c72b0; stroke: #333333\"/>\n     <use xlink:href=\"#mfda6844202\" x=\"232.151689\" y=\"98.208484\" style=\"fill: #4c72b0; stroke: #333333\"/>\n     <use xlink:href=\"#mfda6844202\" x=\"108.194797\" y=\"178.511379\" style=\"fill: #4c72b0; stroke: #333333\"/>\n     <use xlink:href=\"#mfda6844202\" x=\"124.068141\" y=\"193.882596\" style=\"fill: #4c72b0; stroke: #333333\"/>\n     <use xlink:href=\"#mfda6844202\" x=\"246.073278\" y=\"71.650822\" style=\"fill: #4c72b0; stroke: #333333\"/>\n     <use xlink:href=\"#mfda6844202\" x=\"256.177048\" y=\"75.842715\" style=\"fill: #4c72b0; stroke: #333333\"/>\n     <use xlink:href=\"#mfda6844202\" x=\"120.018992\" y=\"170.743289\" style=\"fill: #4c72b0; stroke: #333333\"/>\n     <use xlink:href=\"#mfda6844202\" x=\"246.054086\" y=\"60.066037\" style=\"fill: #4c72b0; stroke: #333333\"/>\n     <use xlink:href=\"#mfda6844202\" x=\"245.202309\" y=\"57.924759\" style=\"fill: #4c72b0; stroke: #333333\"/>\n     <use xlink:href=\"#mfda6844202\" x=\"139.36267\" y=\"194.74577\" style=\"fill: #4c72b0; stroke: #333333\"/>\n     <use xlink:href=\"#mfda6844202\" x=\"233.529466\" y=\"85.084233\" style=\"fill: #4c72b0; stroke: #333333\"/>\n     <use xlink:href=\"#mfda6844202\" x=\"114.656558\" y=\"179.242204\" style=\"fill: #4c72b0; stroke: #333333\"/>\n     <use xlink:href=\"#mfda6844202\" x=\"223.688701\" y=\"61.518251\" style=\"fill: #4c72b0; stroke: #333333\"/>\n     <use xlink:href=\"#mfda6844202\" x=\"221.755513\" y=\"61.860264\" style=\"fill: #4c72b0; stroke: #333333\"/>\n     <use xlink:href=\"#mfda6844202\" x=\"119.865189\" y=\"173.509553\" style=\"fill: #4c72b0; stroke: #333333\"/>\n     <use xlink:href=\"#mfda6844202\" x=\"227.724067\" y=\"77.924069\" style=\"fill: #4c72b0; stroke: #333333\"/>\n     <use xlink:href=\"#mfda6844202\" x=\"92.846225\" y=\"188.0976\" style=\"fill: #4c72b0; stroke: #333333\"/>\n     <use xlink:href=\"#mfda6844202\" x=\"240.159578\" y=\"58.535282\" style=\"fill: #4c72b0; stroke: #333333\"/>\n     <use xlink:href=\"#mfda6844202\" x=\"200.604009\" y=\"87.697668\" style=\"fill: #4c72b0; stroke: #333333\"/>\n     <use xlink:href=\"#mfda6844202\" x=\"130.930496\" y=\"174.366124\" style=\"fill: #4c72b0; stroke: #333333\"/>\n     <use xlink:href=\"#mfda6844202\" x=\"108.819406\" y=\"197.063331\" style=\"fill: #4c72b0; stroke: #333333\"/>\n     <use xlink:href=\"#mfda6844202\" x=\"128.21451\" y=\"201.137104\" style=\"fill: #4c72b0; stroke: #333333\"/>\n     <use xlink:href=\"#mfda6844202\" x=\"242.010894\" y=\"81.804734\" style=\"fill: #4c72b0; stroke: #333333\"/>\n     <use xlink:href=\"#mfda6844202\" x=\"240.442799\" y=\"86.740162\" style=\"fill: #4c72b0; stroke: #333333\"/>\n     <use xlink:href=\"#mfda6844202\" x=\"229.845366\" y=\"82.55727\" style=\"fill: #4c72b0; stroke: #333333\"/>\n     <use xlink:href=\"#mfda6844202\" x=\"234.109363\" y=\"73.914709\" style=\"fill: #4c72b0; stroke: #333333\"/>\n     <use xlink:href=\"#mfda6844202\" x=\"112.876049\" y=\"184.325504\" style=\"fill: #4c72b0; stroke: #333333\"/>\n     <use xlink:href=\"#mfda6844202\" x=\"240.499001\" y=\"66.39474\" style=\"fill: #4c72b0; stroke: #333333\"/>\n     <use xlink:href=\"#mfda6844202\" x=\"124.050369\" y=\"172.831207\" style=\"fill: #4c72b0; stroke: #333333\"/>\n     <use xlink:href=\"#mfda6844202\" x=\"122.179641\" y=\"189.930923\" style=\"fill: #4c72b0; stroke: #333333\"/>\n     <use xlink:href=\"#mfda6844202\" x=\"227.066403\" y=\"65.482875\" style=\"fill: #4c72b0; stroke: #333333\"/>\n     <use xlink:href=\"#mfda6844202\" x=\"216.903397\" y=\"82.701491\" style=\"fill: #4c72b0; stroke: #333333\"/>\n     <use xlink:href=\"#mfda6844202\" x=\"225.910826\" y=\"92.854768\" style=\"fill: #4c72b0; stroke: #333333\"/>\n     <use xlink:href=\"#mfda6844202\" x=\"237.318914\" y=\"92.294784\" style=\"fill: #4c72b0; stroke: #333333\"/>\n     <use xlink:href=\"#mfda6844202\" x=\"94.245229\" y=\"202.258596\" style=\"fill: #4c72b0; stroke: #333333\"/>\n     <use xlink:href=\"#mfda6844202\" x=\"234.45139\" y=\"99.281674\" style=\"fill: #4c72b0; stroke: #333333\"/>\n     <use xlink:href=\"#mfda6844202\" x=\"125.944507\" y=\"203.903625\" style=\"fill: #4c72b0; stroke: #333333\"/>\n     <use xlink:href=\"#mfda6844202\" x=\"225.0479\" y=\"91.089844\" style=\"fill: #4c72b0; stroke: #333333\"/>\n     <use xlink:href=\"#mfda6844202\" x=\"225.593186\" y=\"53.460259\" style=\"fill: #4c72b0; stroke: #333333\"/>\n     <use xlink:href=\"#mfda6844202\" x=\"111.056007\" y=\"188.329079\" style=\"fill: #4c72b0; stroke: #333333\"/>\n     <use xlink:href=\"#mfda6844202\" x=\"243.979083\" y=\"69.313113\" style=\"fill: #4c72b0; stroke: #333333\"/>\n     <use xlink:href=\"#mfda6844202\" x=\"124.197997\" y=\"187.856654\" style=\"fill: #4c72b0; stroke: #333333\"/>\n     <use xlink:href=\"#mfda6844202\" x=\"235.500405\" y=\"73.984407\" style=\"fill: #4c72b0; stroke: #333333\"/>\n     <use xlink:href=\"#mfda6844202\" x=\"235.891338\" y=\"68.382677\" style=\"fill: #4c72b0; stroke: #333333\"/>\n     <use xlink:href=\"#mfda6844202\" x=\"114.650831\" y=\"187.379185\" style=\"fill: #4c72b0; stroke: #333333\"/>\n     <use xlink:href=\"#mfda6844202\" x=\"226.757996\" y=\"74.297117\" style=\"fill: #4c72b0; stroke: #333333\"/>\n     <use xlink:href=\"#mfda6844202\" x=\"227.31108\" y=\"60.274814\" style=\"fill: #4c72b0; stroke: #333333\"/>\n     <use xlink:href=\"#mfda6844202\" x=\"127.630161\" y=\"190.900549\" style=\"fill: #4c72b0; stroke: #333333\"/>\n     <use xlink:href=\"#mfda6844202\" x=\"215.884831\" y=\"85.964355\" style=\"fill: #4c72b0; stroke: #333333\"/>\n     <use xlink:href=\"#mfda6844202\" x=\"229.507556\" y=\"82.525071\" style=\"fill: #4c72b0; stroke: #333333\"/>\n     <use xlink:href=\"#mfda6844202\" x=\"109.850632\" y=\"182.839522\" style=\"fill: #4c72b0; stroke: #333333\"/>\n     <use xlink:href=\"#mfda6844202\" x=\"228.707038\" y=\"79.484142\" style=\"fill: #4c72b0; stroke: #333333\"/>\n     <use xlink:href=\"#mfda6844202\" x=\"126.899696\" y=\"188.458044\" style=\"fill: #4c72b0; stroke: #333333\"/>\n     <use xlink:href=\"#mfda6844202\" x=\"136.656104\" y=\"169.749704\" style=\"fill: #4c72b0; stroke: #333333\"/>\n     <use xlink:href=\"#mfda6844202\" x=\"99.610022\" y=\"186.861806\" style=\"fill: #4c72b0; stroke: #333333\"/>\n     <use xlink:href=\"#mfda6844202\" x=\"121.890811\" y=\"200.749534\" style=\"fill: #4c72b0; stroke: #333333\"/>\n     <use xlink:href=\"#mfda6844202\" x=\"239.611827\" y=\"84.608553\" style=\"fill: #4c72b0; stroke: #333333\"/>\n     <use xlink:href=\"#mfda6844202\" x=\"229.002624\" y=\"68.653842\" style=\"fill: #4c72b0; stroke: #333333\"/>\n     <use xlink:href=\"#mfda6844202\" x=\"233.641925\" y=\"68.592551\" style=\"fill: #4c72b0; stroke: #333333\"/>\n     <use xlink:href=\"#mfda6844202\" x=\"254.365399\" y=\"77.810699\" style=\"fill: #4c72b0; stroke: #333333\"/>\n     <use xlink:href=\"#mfda6844202\" x=\"139.286868\" y=\"186.062547\" style=\"fill: #4c72b0; stroke: #333333\"/>\n     <use xlink:href=\"#mfda6844202\" x=\"236.13468\" y=\"70.954832\" style=\"fill: #4c72b0; stroke: #333333\"/>\n     <use xlink:href=\"#mfda6844202\" x=\"110.865357\" y=\"185.286323\" style=\"fill: #4c72b0; stroke: #333333\"/>\n     <use xlink:href=\"#mfda6844202\" x=\"128.13534\" y=\"195.188061\" style=\"fill: #4c72b0; stroke: #333333\"/>\n     <use xlink:href=\"#mfda6844202\" x=\"234.818333\" y=\"63.663586\" style=\"fill: #4c72b0; stroke: #333333\"/>\n     <use xlink:href=\"#mfda6844202\" x=\"120.80764\" y=\"180.858057\" style=\"fill: #4c72b0; stroke: #333333\"/>\n     <use xlink:href=\"#mfda6844202\" x=\"230.330682\" y=\"61.647905\" style=\"fill: #4c72b0; stroke: #333333\"/>\n     <use xlink:href=\"#mfda6844202\" x=\"132.403891\" y=\"197.644504\" style=\"fill: #4c72b0; stroke: #333333\"/>\n     <use xlink:href=\"#mfda6844202\" x=\"241.664479\" y=\"85.918271\" style=\"fill: #4c72b0; stroke: #333333\"/>\n    </g>\n   </g>\n   <g id=\"PathCollection_2\">\n    <defs>\n     <path id=\"m42cdc9f845\" d=\"M 0 3 \nC 0.795609 3 1.55874 2.683901 2.12132 2.12132 \nC 2.683901 1.55874 3 0.795609 3 0 \nC 3 -0.795609 2.683901 -1.55874 2.12132 -2.12132 \nC 1.55874 -2.683901 0.795609 -3 0 -3 \nC -0.795609 -3 -1.55874 -2.683901 -2.12132 -2.12132 \nC -2.683901 -1.55874 -3 -0.795609 -3 0 \nC -3 0.795609 -2.683901 1.55874 -2.12132 2.12132 \nC -1.55874 2.683901 -0.795609 3 0 3 \nz\n\" style=\"stroke: #333333\"/>\n    </defs>\n    <g clip-path=\"url(#pd685d5e1e3)\">\n     <use xlink:href=\"#m42cdc9f845\" x=\"236.43626\" y=\"206.905707\" style=\"fill: #dd8452; stroke: #333333\"/>\n     <use xlink:href=\"#m42cdc9f845\" x=\"230.229056\" y=\"202.845314\" style=\"fill: #dd8452; stroke: #333333\"/>\n     <use xlink:href=\"#m42cdc9f845\" x=\"228.10132\" y=\"195.243111\" style=\"fill: #dd8452; stroke: #333333\"/>\n     <use xlink:href=\"#m42cdc9f845\" x=\"245.221542\" y=\"196.609023\" style=\"fill: #dd8452; stroke: #333333\"/>\n     <use xlink:href=\"#m42cdc9f845\" x=\"221.808074\" y=\"172.675029\" style=\"fill: #dd8452; stroke: #333333\"/>\n     <use xlink:href=\"#m42cdc9f845\" x=\"125.553154\" y=\"84.224652\" style=\"fill: #dd8452; stroke: #333333\"/>\n     <use xlink:href=\"#m42cdc9f845\" x=\"238.307006\" y=\"207.976663\" style=\"fill: #dd8452; stroke: #333333\"/>\n     <use xlink:href=\"#m42cdc9f845\" x=\"216.556347\" y=\"195.818537\" style=\"fill: #dd8452; stroke: #333333\"/>\n     <use xlink:href=\"#m42cdc9f845\" x=\"227.583389\" y=\"179.595233\" style=\"fill: #dd8452; stroke: #333333\"/>\n     <use xlink:href=\"#m42cdc9f845\" x=\"232.418711\" y=\"181.209285\" style=\"fill: #dd8452; stroke: #333333\"/>\n     <use xlink:href=\"#m42cdc9f845\" x=\"134.26754\" y=\"74.154205\" style=\"fill: #dd8452; stroke: #333333\"/>\n     <use xlink:href=\"#m42cdc9f845\" x=\"118.544027\" y=\"64.033979\" style=\"fill: #dd8452; stroke: #333333\"/>\n     <use xlink:href=\"#m42cdc9f845\" x=\"103.209754\" y=\"91.072938\" style=\"fill: #dd8452; stroke: #333333\"/>\n     <use xlink:href=\"#m42cdc9f845\" x=\"112.511371\" y=\"70.13158\" style=\"fill: #dd8452; stroke: #333333\"/>\n     <use xlink:href=\"#m42cdc9f845\" x=\"117.967221\" y=\"84.915771\" style=\"fill: #dd8452; stroke: #333333\"/>\n     <use xlink:href=\"#m42cdc9f845\" x=\"242.239102\" y=\"190.92995\" style=\"fill: #dd8452; stroke: #333333\"/>\n     <use xlink:href=\"#m42cdc9f845\" x=\"228.838828\" y=\"180.819533\" style=\"fill: #dd8452; stroke: #333333\"/>\n     <use xlink:href=\"#m42cdc9f845\" x=\"116.814712\" y=\"75.128894\" style=\"fill: #dd8452; stroke: #333333\"/>\n     <use xlink:href=\"#m42cdc9f845\" x=\"213.122985\" y=\"190.835767\" style=\"fill: #dd8452; stroke: #333333\"/>\n     <use xlink:href=\"#m42cdc9f845\" x=\"124.495764\" y=\"81.60852\" style=\"fill: #dd8452; stroke: #333333\"/>\n     <use xlink:href=\"#m42cdc9f845\" x=\"238.96169\" y=\"178.987169\" style=\"fill: #dd8452; stroke: #333333\"/>\n     <use xlink:href=\"#m42cdc9f845\" x=\"104.868286\" y=\"73.379727\" style=\"fill: #dd8452; stroke: #333333\"/>\n     <use xlink:href=\"#m42cdc9f845\" x=\"261.645462\" y=\"188.526113\" style=\"fill: #dd8452; stroke: #333333\"/>\n     <use xlink:href=\"#m42cdc9f845\" x=\"218.077896\" y=\"196.239036\" style=\"fill: #dd8452; stroke: #333333\"/>\n     <use xlink:href=\"#m42cdc9f845\" x=\"241.685574\" y=\"182.839475\" style=\"fill: #dd8452; stroke: #333333\"/>\n     <use xlink:href=\"#m42cdc9f845\" x=\"135.178245\" y=\"101.245924\" style=\"fill: #dd8452; stroke: #333333\"/>\n     <use xlink:href=\"#m42cdc9f845\" x=\"228.457457\" y=\"173.624519\" style=\"fill: #dd8452; stroke: #333333\"/>\n     <use xlink:href=\"#m42cdc9f845\" x=\"233.452261\" y=\"196.408655\" style=\"fill: #dd8452; stroke: #333333\"/>\n     <use xlink:href=\"#m42cdc9f845\" x=\"119.4992\" y=\"89.613323\" style=\"fill: #dd8452; stroke: #333333\"/>\n     <use xlink:href=\"#m42cdc9f845\" x=\"231.801857\" y=\"198.135161\" style=\"fill: #dd8452; stroke: #333333\"/>\n     <use xlink:href=\"#m42cdc9f845\" x=\"230.876933\" y=\"191.21759\" style=\"fill: #dd8452; stroke: #333333\"/>\n     <use xlink:href=\"#m42cdc9f845\" x=\"118.921472\" y=\"73.886528\" style=\"fill: #dd8452; stroke: #333333\"/>\n     <use xlink:href=\"#m42cdc9f845\" x=\"237.613449\" y=\"187.486229\" style=\"fill: #dd8452; stroke: #333333\"/>\n     <use xlink:href=\"#m42cdc9f845\" x=\"128.182893\" y=\"70.307616\" style=\"fill: #dd8452; stroke: #333333\"/>\n     <use xlink:href=\"#m42cdc9f845\" x=\"136.226593\" y=\"83.167138\" style=\"fill: #dd8452; stroke: #333333\"/>\n     <use xlink:href=\"#m42cdc9f845\" x=\"110.698228\" y=\"88.263984\" style=\"fill: #dd8452; stroke: #333333\"/>\n     <use xlink:href=\"#m42cdc9f845\" x=\"117.73462\" y=\"65.089007\" style=\"fill: #dd8452; stroke: #333333\"/>\n     <use xlink:href=\"#m42cdc9f845\" x=\"112.568826\" y=\"82.166878\" style=\"fill: #dd8452; stroke: #333333\"/>\n     <use xlink:href=\"#m42cdc9f845\" x=\"198.862006\" y=\"179.404882\" style=\"fill: #dd8452; stroke: #333333\"/>\n     <use xlink:href=\"#m42cdc9f845\" x=\"122.263401\" y=\"70.627966\" style=\"fill: #dd8452; stroke: #333333\"/>\n     <use xlink:href=\"#m42cdc9f845\" x=\"203.507452\" y=\"191.291087\" style=\"fill: #dd8452; stroke: #333333\"/>\n     <use xlink:href=\"#m42cdc9f845\" x=\"124.213223\" y=\"86.916317\" style=\"fill: #dd8452; stroke: #333333\"/>\n     <use xlink:href=\"#m42cdc9f845\" x=\"226.075858\" y=\"215.885117\" style=\"fill: #dd8452; stroke: #333333\"/>\n     <use xlink:href=\"#m42cdc9f845\" x=\"247.995151\" y=\"188.500244\" style=\"fill: #dd8452; stroke: #333333\"/>\n     <use xlink:href=\"#m42cdc9f845\" x=\"236.373554\" y=\"168.768697\" style=\"fill: #dd8452; stroke: #333333\"/>\n     <use xlink:href=\"#m42cdc9f845\" x=\"211.015115\" y=\"205.234393\" style=\"fill: #dd8452; stroke: #333333\"/>\n     <use xlink:href=\"#m42cdc9f845\" x=\"226.759668\" y=\"195.633608\" style=\"fill: #dd8452; stroke: #333333\"/>\n     <use xlink:href=\"#m42cdc9f845\" x=\"221.811986\" y=\"198.405788\" style=\"fill: #dd8452; stroke: #333333\"/>\n     <use xlink:href=\"#m42cdc9f845\" x=\"125.065509\" y=\"87.817482\" style=\"fill: #dd8452; stroke: #333333\"/>\n     <use xlink:href=\"#m42cdc9f845\" x=\"129.311446\" y=\"106.224515\" style=\"fill: #dd8452; stroke: #333333\"/>\n     <use xlink:href=\"#m42cdc9f845\" x=\"123.009609\" y=\"103.252008\" style=\"fill: #dd8452; stroke: #333333\"/>\n     <use xlink:href=\"#m42cdc9f845\" x=\"121.751434\" y=\"81.152204\" style=\"fill: #dd8452; stroke: #333333\"/>\n     <use xlink:href=\"#m42cdc9f845\" x=\"130.479617\" y=\"79.846782\" style=\"fill: #dd8452; stroke: #333333\"/>\n     <use xlink:href=\"#m42cdc9f845\" x=\"132.007823\" y=\"60.85742\" style=\"fill: #dd8452; stroke: #333333\"/>\n     <use xlink:href=\"#m42cdc9f845\" x=\"232.227871\" y=\"196.962008\" style=\"fill: #dd8452; stroke: #333333\"/>\n     <use xlink:href=\"#m42cdc9f845\" x=\"231.142302\" y=\"176.855648\" style=\"fill: #dd8452; stroke: #333333\"/>\n     <use xlink:href=\"#m42cdc9f845\" x=\"110.820456\" y=\"91.412652\" style=\"fill: #dd8452; stroke: #333333\"/>\n     <use xlink:href=\"#m42cdc9f845\" x=\"100.89431\" y=\"97.469635\" style=\"fill: #dd8452; stroke: #333333\"/>\n     <use xlink:href=\"#m42cdc9f845\" x=\"106.000266\" y=\"77.191948\" style=\"fill: #dd8452; stroke: #333333\"/>\n     <use xlink:href=\"#m42cdc9f845\" x=\"241.419841\" y=\"195.264219\" style=\"fill: #dd8452; stroke: #333333\"/>\n     <use xlink:href=\"#m42cdc9f845\" x=\"106.548603\" y=\"81.862443\" style=\"fill: #dd8452; stroke: #333333\"/>\n     <use xlink:href=\"#m42cdc9f845\" x=\"129.476391\" y=\"84.029145\" style=\"fill: #dd8452; stroke: #333333\"/>\n     <use xlink:href=\"#m42cdc9f845\" x=\"99.934999\" y=\"68.205913\" style=\"fill: #dd8452; stroke: #333333\"/>\n     <use xlink:href=\"#m42cdc9f845\" x=\"236.177599\" y=\"176.404752\" style=\"fill: #dd8452; stroke: #333333\"/>\n     <use xlink:href=\"#m42cdc9f845\" x=\"116.86276\" y=\"73.330939\" style=\"fill: #dd8452; stroke: #333333\"/>\n     <use xlink:href=\"#m42cdc9f845\" x=\"232.692877\" y=\"178.090839\" style=\"fill: #dd8452; stroke: #333333\"/>\n     <use xlink:href=\"#m42cdc9f845\" x=\"248.850761\" y=\"186.842596\" style=\"fill: #dd8452; stroke: #333333\"/>\n     <use xlink:href=\"#m42cdc9f845\" x=\"127.27217\" y=\"86.258322\" style=\"fill: #dd8452; stroke: #333333\"/>\n     <use xlink:href=\"#m42cdc9f845\" x=\"111.174233\" y=\"91.755202\" style=\"fill: #dd8452; stroke: #333333\"/>\n     <use xlink:href=\"#m42cdc9f845\" x=\"115.774953\" y=\"80.89762\" style=\"fill: #dd8452; stroke: #333333\"/>\n     <use xlink:href=\"#m42cdc9f845\" x=\"96.25481\" y=\"82.673865\" style=\"fill: #dd8452; stroke: #333333\"/>\n     <use xlink:href=\"#m42cdc9f845\" x=\"111.510906\" y=\"69.317316\" style=\"fill: #dd8452; stroke: #333333\"/>\n     <use xlink:href=\"#m42cdc9f845\" x=\"225.279326\" y=\"221.903825\" style=\"fill: #dd8452; stroke: #333333\"/>\n     <use xlink:href=\"#m42cdc9f845\" x=\"229.684616\" y=\"188.561607\" style=\"fill: #dd8452; stroke: #333333\"/>\n     <use xlink:href=\"#m42cdc9f845\" x=\"96.525488\" y=\"95.083389\" style=\"fill: #dd8452; stroke: #333333\"/>\n     <use xlink:href=\"#m42cdc9f845\" x=\"207.907138\" y=\"196.651388\" style=\"fill: #dd8452; stroke: #333333\"/>\n     <use xlink:href=\"#m42cdc9f845\" x=\"244.326913\" y=\"196.719785\" style=\"fill: #dd8452; stroke: #333333\"/>\n     <use xlink:href=\"#m42cdc9f845\" x=\"236.045856\" y=\"181.636739\" style=\"fill: #dd8452; stroke: #333333\"/>\n     <use xlink:href=\"#m42cdc9f845\" x=\"140.75172\" y=\"59.808274\" style=\"fill: #dd8452; stroke: #333333\"/>\n     <use xlink:href=\"#m42cdc9f845\" x=\"122.017886\" y=\"89.841028\" style=\"fill: #dd8452; stroke: #333333\"/>\n     <use xlink:href=\"#m42cdc9f845\" x=\"234.094546\" y=\"190.187928\" style=\"fill: #dd8452; stroke: #333333\"/>\n     <use xlink:href=\"#m42cdc9f845\" x=\"253.967803\" y=\"172.473656\" style=\"fill: #dd8452; stroke: #333333\"/>\n     <use xlink:href=\"#m42cdc9f845\" x=\"255.041958\" y=\"165.986425\" style=\"fill: #dd8452; stroke: #333333\"/>\n     <use xlink:href=\"#m42cdc9f845\" x=\"236.668142\" y=\"202.61533\" style=\"fill: #dd8452; stroke: #333333\"/>\n     <use xlink:href=\"#m42cdc9f845\" x=\"234.670332\" y=\"184.723665\" style=\"fill: #dd8452; stroke: #333333\"/>\n     <use xlink:href=\"#m42cdc9f845\" x=\"144.965732\" y=\"61.069595\" style=\"fill: #dd8452; stroke: #333333\"/>\n     <use xlink:href=\"#m42cdc9f845\" x=\"230.487004\" y=\"190.957728\" style=\"fill: #dd8452; stroke: #333333\"/>\n     <use xlink:href=\"#m42cdc9f845\" x=\"232.972278\" y=\"170.429835\" style=\"fill: #dd8452; stroke: #333333\"/>\n     <use xlink:href=\"#m42cdc9f845\" x=\"98.802011\" y=\"75.688925\" style=\"fill: #dd8452; stroke: #333333\"/>\n     <use xlink:href=\"#m42cdc9f845\" x=\"121.939776\" y=\"76.93445\" style=\"fill: #dd8452; stroke: #333333\"/>\n     <use xlink:href=\"#m42cdc9f845\" x=\"251.202243\" y=\"200.884386\" style=\"fill: #dd8452; stroke: #333333\"/>\n     <use xlink:href=\"#m42cdc9f845\" x=\"227.512772\" y=\"185.661099\" style=\"fill: #dd8452; stroke: #333333\"/>\n     <use xlink:href=\"#m42cdc9f845\" x=\"245.043522\" y=\"184.153201\" style=\"fill: #dd8452; stroke: #333333\"/>\n     <use xlink:href=\"#m42cdc9f845\" x=\"116.000815\" y=\"93.673612\" style=\"fill: #dd8452; stroke: #333333\"/>\n    </g>\n   </g>\n   <g id=\"patch_3\">\n    <path d=\"M 66.023594 244.078125 \nL 66.023594 22.318125 \n\" style=\"fill: none; stroke: #ffffff; stroke-width: 1.25; stroke-linejoin: miter; stroke-linecap: square\"/>\n   </g>\n   <g id=\"patch_4\">\n    <path d=\"M 287.783594 244.078125 \nL 287.783594 22.318125 \n\" style=\"fill: none; stroke: #ffffff; stroke-width: 1.25; stroke-linejoin: miter; stroke-linecap: square\"/>\n   </g>\n   <g id=\"patch_5\">\n    <path d=\"M 66.023594 244.078125 \nL 287.783594 244.078125 \n\" style=\"fill: none; stroke: #ffffff; stroke-width: 1.25; stroke-linejoin: miter; stroke-linecap: square\"/>\n   </g>\n   <g id=\"patch_6\">\n    <path d=\"M 66.023594 22.318125 \nL 287.783594 22.318125 \n\" style=\"fill: none; stroke: #ffffff; stroke-width: 1.25; stroke-linejoin: miter; stroke-linecap: square\"/>\n   </g>\n   <g id=\"text_17\">\n    <!-- Dataset samples -->\n    <g style=\"fill: #262626\" transform=\"translate(126.560781 16.318125) scale(0.12 -0.12)\">\n     <defs>\n      <path id=\"DejaVuSans-44\" d=\"M 1259 4147 \nL 1259 519 \nL 2022 519 \nQ 2988 519 3436 956 \nQ 3884 1394 3884 2338 \nQ 3884 3275 3436 3711 \nQ 2988 4147 2022 4147 \nL 1259 4147 \nz\nM 628 4666 \nL 1925 4666 \nQ 3281 4666 3915 4102 \nQ 4550 3538 4550 2338 \nQ 4550 1131 3912 565 \nQ 3275 0 1925 0 \nL 628 0 \nL 628 4666 \nz\n\" transform=\"scale(0.015625)\"/>\n      <path id=\"DejaVuSans-61\" d=\"M 2194 1759 \nQ 1497 1759 1228 1600 \nQ 959 1441 959 1056 \nQ 959 750 1161 570 \nQ 1363 391 1709 391 \nQ 2188 391 2477 730 \nQ 2766 1069 2766 1631 \nL 2766 1759 \nL 2194 1759 \nz\nM 3341 1997 \nL 3341 0 \nL 2766 0 \nL 2766 531 \nQ 2569 213 2275 61 \nQ 1981 -91 1556 -91 \nQ 1019 -91 701 211 \nQ 384 513 384 1019 \nQ 384 1609 779 1909 \nQ 1175 2209 1959 2209 \nL 2766 2209 \nL 2766 2266 \nQ 2766 2663 2505 2880 \nQ 2244 3097 1772 3097 \nQ 1472 3097 1187 3025 \nQ 903 2953 641 2809 \nL 641 3341 \nQ 956 3463 1253 3523 \nQ 1550 3584 1831 3584 \nQ 2591 3584 2966 3190 \nQ 3341 2797 3341 1997 \nz\n\" transform=\"scale(0.015625)\"/>\n      <path id=\"DejaVuSans-74\" d=\"M 1172 4494 \nL 1172 3500 \nL 2356 3500 \nL 2356 3053 \nL 1172 3053 \nL 1172 1153 \nQ 1172 725 1289 603 \nQ 1406 481 1766 481 \nL 2356 481 \nL 2356 0 \nL 1766 0 \nQ 1100 0 847 248 \nQ 594 497 594 1153 \nL 594 3053 \nL 172 3053 \nL 172 3500 \nL 594 3500 \nL 594 4494 \nL 1172 4494 \nz\n\" transform=\"scale(0.015625)\"/>\n      <path id=\"DejaVuSans-73\" d=\"M 2834 3397 \nL 2834 2853 \nQ 2591 2978 2328 3040 \nQ 2066 3103 1784 3103 \nQ 1356 3103 1142 2972 \nQ 928 2841 928 2578 \nQ 928 2378 1081 2264 \nQ 1234 2150 1697 2047 \nL 1894 2003 \nQ 2506 1872 2764 1633 \nQ 3022 1394 3022 966 \nQ 3022 478 2636 193 \nQ 2250 -91 1575 -91 \nQ 1294 -91 989 -36 \nQ 684 19 347 128 \nL 347 722 \nQ 666 556 975 473 \nQ 1284 391 1588 391 \nQ 1994 391 2212 530 \nQ 2431 669 2431 922 \nQ 2431 1156 2273 1281 \nQ 2116 1406 1581 1522 \nL 1381 1569 \nQ 847 1681 609 1914 \nQ 372 2147 372 2553 \nQ 372 3047 722 3315 \nQ 1072 3584 1716 3584 \nQ 2034 3584 2315 3537 \nQ 2597 3491 2834 3397 \nz\n\" transform=\"scale(0.015625)\"/>\n      <path id=\"DejaVuSans-65\" d=\"M 3597 1894 \nL 3597 1613 \nL 953 1613 \nQ 991 1019 1311 708 \nQ 1631 397 2203 397 \nQ 2534 397 2845 478 \nQ 3156 559 3463 722 \nL 3463 178 \nQ 3153 47 2828 -22 \nQ 2503 -91 2169 -91 \nQ 1331 -91 842 396 \nQ 353 884 353 1716 \nQ 353 2575 817 3079 \nQ 1281 3584 2069 3584 \nQ 2775 3584 3186 3129 \nQ 3597 2675 3597 1894 \nz\nM 3022 2063 \nQ 3016 2534 2758 2815 \nQ 2500 3097 2075 3097 \nQ 1594 3097 1305 2825 \nQ 1016 2553 972 2059 \nL 3022 2063 \nz\n\" transform=\"scale(0.015625)\"/>\n      <path id=\"DejaVuSans-20\" transform=\"scale(0.015625)\"/>\n      <path id=\"DejaVuSans-6d\" d=\"M 3328 2828 \nQ 3544 3216 3844 3400 \nQ 4144 3584 4550 3584 \nQ 5097 3584 5394 3201 \nQ 5691 2819 5691 2113 \nL 5691 0 \nL 5113 0 \nL 5113 2094 \nQ 5113 2597 4934 2840 \nQ 4756 3084 4391 3084 \nQ 3944 3084 3684 2787 \nQ 3425 2491 3425 1978 \nL 3425 0 \nL 2847 0 \nL 2847 2094 \nQ 2847 2600 2669 2842 \nQ 2491 3084 2119 3084 \nQ 1678 3084 1418 2786 \nQ 1159 2488 1159 1978 \nL 1159 0 \nL 581 0 \nL 581 3500 \nL 1159 3500 \nL 1159 2956 \nQ 1356 3278 1631 3431 \nQ 1906 3584 2284 3584 \nQ 2666 3584 2933 3390 \nQ 3200 3197 3328 2828 \nz\n\" transform=\"scale(0.015625)\"/>\n      <path id=\"DejaVuSans-70\" d=\"M 1159 525 \nL 1159 -1331 \nL 581 -1331 \nL 581 3500 \nL 1159 3500 \nL 1159 2969 \nQ 1341 3281 1617 3432 \nQ 1894 3584 2278 3584 \nQ 2916 3584 3314 3078 \nQ 3713 2572 3713 1747 \nQ 3713 922 3314 415 \nQ 2916 -91 2278 -91 \nQ 1894 -91 1617 61 \nQ 1341 213 1159 525 \nz\nM 3116 1747 \nQ 3116 2381 2855 2742 \nQ 2594 3103 2138 3103 \nQ 1681 3103 1420 2742 \nQ 1159 2381 1159 1747 \nQ 1159 1113 1420 752 \nQ 1681 391 2138 391 \nQ 2594 391 2855 752 \nQ 3116 1113 3116 1747 \nz\n\" transform=\"scale(0.015625)\"/>\n      <path id=\"DejaVuSans-6c\" d=\"M 603 4863 \nL 1178 4863 \nL 1178 0 \nL 603 0 \nL 603 4863 \nz\n\" transform=\"scale(0.015625)\"/>\n     </defs>\n     <use xlink:href=\"#DejaVuSans-44\"/>\n     <use xlink:href=\"#DejaVuSans-61\" transform=\"translate(77.001953 0)\"/>\n     <use xlink:href=\"#DejaVuSans-74\" transform=\"translate(138.28125 0)\"/>\n     <use xlink:href=\"#DejaVuSans-61\" transform=\"translate(177.490234 0)\"/>\n     <use xlink:href=\"#DejaVuSans-73\" transform=\"translate(238.769531 0)\"/>\n     <use xlink:href=\"#DejaVuSans-65\" transform=\"translate(290.869141 0)\"/>\n     <use xlink:href=\"#DejaVuSans-74\" transform=\"translate(352.392578 0)\"/>\n     <use xlink:href=\"#DejaVuSans-20\" transform=\"translate(391.601562 0)\"/>\n     <use xlink:href=\"#DejaVuSans-73\" transform=\"translate(423.388672 0)\"/>\n     <use xlink:href=\"#DejaVuSans-61\" transform=\"translate(475.488281 0)\"/>\n     <use xlink:href=\"#DejaVuSans-6d\" transform=\"translate(536.767578 0)\"/>\n     <use xlink:href=\"#DejaVuSans-70\" transform=\"translate(634.179688 0)\"/>\n     <use xlink:href=\"#DejaVuSans-6c\" transform=\"translate(697.65625 0)\"/>\n     <use xlink:href=\"#DejaVuSans-65\" transform=\"translate(725.439453 0)\"/>\n     <use xlink:href=\"#DejaVuSans-73\" transform=\"translate(786.962891 0)\"/>\n    </g>\n   </g>\n   <g id=\"legend_1\">\n    <g id=\"patch_7\">\n     <path d=\"M 205.450312 150.994063 \nL 280.083594 150.994063 \nQ 282.283594 150.994063 282.283594 148.794063 \nL 282.283594 117.602188 \nQ 282.283594 115.402188 280.083594 115.402188 \nL 205.450312 115.402188 \nQ 203.250313 115.402188 203.250313 117.602188 \nL 203.250313 148.794063 \nQ 203.250313 150.994063 205.450312 150.994063 \nz\n\" style=\"fill: #eaeaf2; opacity: 0.8; stroke: #cccccc; stroke-linejoin: miter\"/>\n    </g>\n    <g id=\"PathCollection_3\">\n     <g>\n      <use xlink:href=\"#mfda6844202\" x=\"218.650313\" y=\"125.272969\" style=\"fill: #4c72b0; stroke: #333333\"/>\n     </g>\n    </g>\n    <g id=\"text_18\">\n     <!-- Class 0 -->\n     <g style=\"fill: #262626\" transform=\"translate(238.450313 128.160469) scale(0.11 -0.11)\">\n      <defs>\n       <path id=\"DejaVuSans-43\" d=\"M 4122 4306 \nL 4122 3641 \nQ 3803 3938 3442 4084 \nQ 3081 4231 2675 4231 \nQ 1875 4231 1450 3742 \nQ 1025 3253 1025 2328 \nQ 1025 1406 1450 917 \nQ 1875 428 2675 428 \nQ 3081 428 3442 575 \nQ 3803 722 4122 1019 \nL 4122 359 \nQ 3791 134 3420 21 \nQ 3050 -91 2638 -91 \nQ 1578 -91 968 557 \nQ 359 1206 359 2328 \nQ 359 3453 968 4101 \nQ 1578 4750 2638 4750 \nQ 3056 4750 3426 4639 \nQ 3797 4528 4122 4306 \nz\n\" transform=\"scale(0.015625)\"/>\n      </defs>\n      <use xlink:href=\"#DejaVuSans-43\"/>\n      <use xlink:href=\"#DejaVuSans-6c\" transform=\"translate(69.824219 0)\"/>\n      <use xlink:href=\"#DejaVuSans-61\" transform=\"translate(97.607422 0)\"/>\n      <use xlink:href=\"#DejaVuSans-73\" transform=\"translate(158.886719 0)\"/>\n      <use xlink:href=\"#DejaVuSans-73\" transform=\"translate(210.986328 0)\"/>\n      <use xlink:href=\"#DejaVuSans-20\" transform=\"translate(263.085938 0)\"/>\n      <use xlink:href=\"#DejaVuSans-30\" transform=\"translate(294.873047 0)\"/>\n     </g>\n    </g>\n    <g id=\"PathCollection_4\">\n     <g>\n      <use xlink:href=\"#m42cdc9f845\" x=\"218.650313\" y=\"141.418906\" style=\"fill: #dd8452; stroke: #333333\"/>\n     </g>\n    </g>\n    <g id=\"text_19\">\n     <!-- Class 1 -->\n     <g style=\"fill: #262626\" transform=\"translate(238.450313 144.306406) scale(0.11 -0.11)\">\n      <use xlink:href=\"#DejaVuSans-43\"/>\n      <use xlink:href=\"#DejaVuSans-6c\" transform=\"translate(69.824219 0)\"/>\n      <use xlink:href=\"#DejaVuSans-61\" transform=\"translate(97.607422 0)\"/>\n      <use xlink:href=\"#DejaVuSans-73\" transform=\"translate(158.886719 0)\"/>\n      <use xlink:href=\"#DejaVuSans-73\" transform=\"translate(210.986328 0)\"/>\n      <use xlink:href=\"#DejaVuSans-20\" transform=\"translate(263.085938 0)\"/>\n      <use xlink:href=\"#DejaVuSans-31\" transform=\"translate(294.873047 0)\"/>\n     </g>\n    </g>\n   </g>\n  </g>\n </g>\n <defs>\n  <clipPath id=\"pd685d5e1e3\">\n   <rect x=\"66.023594\" y=\"22.318125\" width=\"221.76\" height=\"221.76\"/>\n  </clipPath>\n </defs>\n</svg>\n",
            "application/pdf": "[encoded data removed]"
          },
          "metadata": {}
        }
      ],
      "source": [
        "@torch.no_grad() # Decorator, same effect as \"with torch.no_grad(): ...\" over the whole function.\n",
        "def visualize_classification(model, data, label):\n",
        "    if isinstance(data, torch.Tensor):\n",
        "        data = data.cpu().numpy()\n",
        "    if isinstance(label, torch.Tensor):\n",
        "        label = label.cpu().numpy()\n",
        "    data_0 = data[label == 0]\n",
        "    data_1 = data[label == 1]\n",
        "\n",
        "    fig = plt.figure(figsize=(4,4), dpi=500)\n",
        "    plt.scatter(data_0[:,0], data_0[:,1], edgecolor=\"#333\", label=\"Class 0\")\n",
        "    plt.scatter(data_1[:,0], data_1[:,1], edgecolor=\"#333\", label=\"Class 1\")\n",
        "    plt.title(\"Dataset samples\")\n",
        "    plt.ylabel(r\"$x_2$\")\n",
        "    plt.xlabel(r\"$x_1$\")\n",
        "    plt.legend()\n",
        "\n",
        "    # Let's make use of a lot of operations we have learned above\n",
        "    model.to(device)\n",
        "    c0 = torch.Tensor(to_rgba(\"C0\")).to(device)\n",
        "    c1 = torch.Tensor(to_rgba(\"C1\")).to(device)\n",
        "    x1 = torch.arange(-0.5, 1.5, step=0.01, device=device)\n",
        "    x2 = torch.arange(-0.5, 1.5, step=0.01, device=device)\n",
        "    xx1, xx2 = torch.meshgrid(x1, x2, indexing='ij')  # Meshgrid function as in numpy\n",
        "    model_inputs = torch.stack([xx1, xx2], dim=-1)\n",
        "    preds = model(model_inputs)\n",
        "    preds = torch.sigmoid(preds)\n",
        "    output_image = (1 - preds) * c0[None,None] + preds * c1[None,None]  # Specifying \"None\" in a dimension creates a new one\n",
        "    output_image = output_image.cpu().numpy()  # Convert to numpy array. This only works for tensors on CPU, hence first push to CPU\n",
        "    plt.imshow(output_image, origin='lower', extent=(-0.5, 1.5, -0.5, 1.5))\n",
        "    plt.grid(False)\n",
        "    return fig\n",
        "\n",
        "_ = visualize_classification(model, dataset.data, dataset.label)\n",
        "plt.show()"
      ]
    },
    {
      "cell_type": "markdown",
      "source": [
        "### Optional: Activation Functions"
      ],
      "metadata": {
        "id": "xKdZHI3oSEwH"
      }
    },
    {
      "cell_type": "markdown",
      "source": [
        "After implementing and visualizing the activation functions, we are aiming to gain insights into their effect.\n",
        "We do this by using a simple neural network trained on [FashionMNIST](https://github.com/zalandoresearch/fashion-mnist) and examine various aspects of the model, including the performance and gradient flow."
      ],
      "metadata": {
        "id": "4B37RsfKSX1M"
      }
    },
    {
      "cell_type": "code",
      "source": [
        "import torch\n",
        "import torch.nn as nn\n",
        "import torch.optim as optim\n",
        "from torchvision import datasets, transforms\n",
        "import matplotlib.pyplot as plt"
      ],
      "metadata": {
        "id": "qQKnOKKcSGXN"
      },
      "execution_count": null,
      "outputs": []
    },
    {
      "cell_type": "code",
      "source": [
        "# Transform to normalize the data\n",
        "transform = transforms.Compose([transforms.ToTensor(), transforms.Normalize((0.5,), (0.5,))])\n",
        "\n",
        "# Download and load the training data\n",
        "trainset = datasets.MNIST('', download=True, train=True, transform=transform)\n",
        "trainloader = torch.utils.data.DataLoader(trainset, batch_size=64, shuffle=True)"
      ],
      "metadata": {
        "id": "kSsL-WcWSZwB"
      },
      "execution_count": null,
      "outputs": []
    },
    {
      "cell_type": "code",
      "source": [
        "class SimpleNN(nn.Module):\n",
        "    def __init__(self, activation_func=nn.ReLU()):\n",
        "        super(SimpleNN, self).__init__()\n",
        "        self.linear1 = nn.Linear(784, 128)\n",
        "        self.activation = activation_func\n",
        "        self.linear2 = nn.Linear(128, 64)\n",
        "        self.output = nn.Linear(64, 10)\n",
        "\n",
        "    def forward(self, x):\n",
        "        x = x.view(x.shape[0], -1)\n",
        "        x = self.activation(self.linear1(x))\n",
        "        x = self.activation(self.linear2(x))\n",
        "        x = self.output(x)\n",
        "        return x"
      ],
      "metadata": {
        "id": "HRgl6J1nSb-h"
      },
      "execution_count": null,
      "outputs": []
    },
    {
      "cell_type": "markdown",
      "source": [
        "Train the network on the activation functions, and plot the loss."
      ],
      "metadata": {
        "id": "y_j4k4bMSe7a"
      }
    },
    {
      "cell_type": "code",
      "source": [
        "def train_network(activation_func):\n",
        "    # TODO: initalize the model, set the criterion and optimizer\n",
        "\n",
        "    epochs = 5\n",
        "    loss_history = []\n",
        "\n",
        "    for e in tqdm(range(epochs)):\n",
        "        running_loss = 0\n",
        "        for images, labels in trainloader:\n",
        "            optimizer.zero_grad()\n",
        "\n",
        "            output = model(images)\n",
        "            loss = criterion(output, labels)\n",
        "            loss.backward()\n",
        "            optimizer.step()\n",
        "\n",
        "            running_loss += loss.item()\n",
        "\n",
        "        loss_history.append(running_loss/len(trainloader))\n",
        "\n",
        "    plt.plot(loss_history, label=activation_func.__class__.__name__)\n",
        "\n",
        "# Train and visualize for different activation functions\n",
        "train_network(nn.Sigmoid())\n",
        "train_network(nn.ReLU())\n",
        "train_network(nn.Tanh())\n",
        "\n",
        "plt.title('Training Loss with Different Activation Functions')\n",
        "plt.xlabel('Epochs')\n",
        "plt.ylabel('Loss')\n",
        "plt.legend()\n",
        "plt.show()"
      ],
      "metadata": {
        "id": "kln9eikLSdea"
      },
      "execution_count": null,
      "outputs": []
    },
    {
      "cell_type": "markdown",
      "source": [
        "### Optional: Practice with Gradients"
      ],
      "metadata": {
        "id": "3zslpiyR4DlY"
      }
    },
    {
      "cell_type": "markdown",
      "source": [
        "Recall that a gradient is an operator and retains the dimension of the vector-valued function it is given. Given the function $f(x)=x^2+y^2+3$, compute the gradient of $f$ at the point (1, 2).\n",
        "\n",
        "Answer: (2, 4)"
      ],
      "metadata": {
        "id": "akBCU9Vk-krl"
      }
    },
    {
      "cell_type": "markdown",
      "source": [
        "Gradient Descent Exercise:"
      ],
      "metadata": {
        "id": "A1cEQnYsAQ-I"
      }
    },
    {
      "cell_type": "code",
      "source": [
        "# TODO\n",
        "\n",
        "def f(x):\n",
        "    return\n",
        "\n",
        "def gradient_f(x):\n",
        "    return\n",
        "\n",
        "def gradient_descent(starting_point, learning_rate, num_iterations):\n",
        "    x =\n",
        "    for i in range(num_iterations):\n",
        "      ...\n",
        "    return x\n",
        "\n",
        "# Example usage\n",
        "minimum = gradient_descent(starting_point=0, learning_rate=0.1, num_iterations=100)\n",
        "print(\"Minimum of f(x) found at x =\", minimum)\n"
      ],
      "metadata": {
        "id": "-mtekRrIATiQ"
      },
      "execution_count": null,
      "outputs": []
    },
    {
      "cell_type": "markdown",
      "metadata": {
        "id": "PD-sNap4i5MA"
      },
      "source": [
        "### Optional Dynamic Computation Graph and Backpropagation\n",
        "\n",
        "We can automatically get **gradients/derivatives** of functions that we define.\n",
        "\n",
        "Given an input $\\mathbf{x}$, we define our function by **manipulating** that input, usually by matrix-multiplications with weight matrices and additions with so-called bias vectors. As we manipulate our input, we are automatically creating a **computational graph**. This graph shows how to arrive at our output from our input.\n",
        "\n",
        "The first thing we have to do is to specify which tensors require gradients. By default, when we create a tensor, it does not require gradients."
      ]
    },
    {
      "cell_type": "code",
      "execution_count": null,
      "metadata": {
        "id": "8a8sJiUHi5MA"
      },
      "outputs": [],
      "source": [
        "x = torch.ones((3,))\n",
        "print(x.requires_grad)"
      ]
    },
    {
      "cell_type": "code",
      "execution_count": null,
      "metadata": {
        "id": "uehuuykzi5ME"
      },
      "outputs": [],
      "source": [
        "x.requires_grad_(True)\n",
        "print(x.requires_grad)"
      ]
    },
    {
      "cell_type": "markdown",
      "metadata": {
        "id": "LMHcYBeni5ME"
      },
      "source": [
        "In order to get familiar with the concept of a computation graph, we will create one for the following function:\n",
        "\n",
        "$$y = \\frac{1}{\\ell(x)}\\sum_i \\left[(x_i + 2)^2 + 3\\right],$$\n",
        "\n",
        "where we use $\\ell(x)$ to denote the number of elements in $x$. In other words, we are taking a mean over the operation within the sum. You could imagine that $x$ are our parameters, and we want to optimize (either maximize or minimize) the output $y$. For this, we want to obtain the gradients $\\partial y / \\partial \\mathbf{x}$. For our example, we'll use $\\mathbf{x}=[0,1,2]$ as our input."
      ]
    },
    {
      "cell_type": "code",
      "execution_count": null,
      "metadata": {
        "id": "iXsVYiEPi5ME"
      },
      "outputs": [],
      "source": [
        "x = torch.arange(3, dtype=torch.float32, requires_grad=True) # Only float tensors can have gradients\n",
        "print(\"X\", x)"
      ]
    },
    {
      "cell_type": "markdown",
      "metadata": {
        "id": "6MOxtzV0i5ME"
      },
      "source": [
        "Now let's build the computation graph step by step. Below is a visualization of the graph:\n",
        "$x$ and $2$ are the base-value inputs. $a$ performs the addition $x+2$. $b$ squares $a$, and so on. The graph is a way to represent this formula: nodes are operations and edges represent information flow dependencies.\n",
        "\n",
        "<center style=\"width: 100%\"><img src=\"https://github.com/phlippe/uvadlc_notebooks/blob/master/docs/tutorial_notebooks/tutorial2/pytorch_computation_graph.svg?raw=1\" width=\"200px\"></center>"
      ]
    },
    {
      "cell_type": "code",
      "execution_count": null,
      "metadata": {
        "id": "SJOZwqz9i5ME"
      },
      "outputs": [],
      "source": [
        "# Build the computational graph for our above function.\n",
        "# Ex: m = n * 2 creates a node m that doubles the output value of node n.\n",
        "#TODO\n",
        "a =\n",
        "b =\n",
        "c =\n",
        "y =\n",
        "print(\"Y\", y)"
      ]
    },
    {
      "cell_type": "markdown",
      "metadata": {
        "id": "PzL1_SQoi5ME"
      },
      "source": [
        "We calculate $a$ based on the inputs $x$ and the constant $2$, $b$ is $a$ squared, and so on. We can perform backpropagation on the computation graph by calling the function `backward()` on the last output, which effectively calculates the gradients for each tensor that has the property `requires_grad=True`:"
      ]
    },
    {
      "cell_type": "code",
      "execution_count": null,
      "metadata": {
        "id": "ezt8F0z8i5ME"
      },
      "outputs": [],
      "source": [
        "y.backward()"
      ]
    },
    {
      "cell_type": "markdown",
      "metadata": {
        "id": "02a6OORMi5ME"
      },
      "source": [
        "`x.grad` will now contain the gradient $\\partial y/ \\partial \\mathcal{x}$, and this gradient indicates how a change in $\\mathbf{x}$ will affect output $y$ given the current input $\\mathbf{x}=[0,1,2]$:"
      ]
    },
    {
      "cell_type": "code",
      "execution_count": null,
      "metadata": {
        "id": "f78Wr-U0i5ME"
      },
      "outputs": [],
      "source": [
        "print(x.grad)"
      ]
    }
  ],
  "metadata": {
    "kernelspec": {
      "display_name": "Python 3",
      "name": "python3"
    },
    "language_info": {
      "codemirror_mode": {
        "name": "ipython",
        "version": 3
      },
      "file_extension": ".py",
      "mimetype": "text/x-python",
      "name": "python",
      "nbconvert_exporter": "python",
      "pygments_lexer": "ipython3",
      "version": "3.10.6"
    },
    "colab": {
      "provenance": [],
      "gpuType": "T4",
      "collapsed_sections": [
        "xKdZHI3oSEwH",
        "3zslpiyR4DlY",
        "PD-sNap4i5MA"
      ],
      "include_colab_link": true
    },
    "accelerator": "GPU",
    "widgets": {
      "application/vnd.jupyter.widget-state+json": {
        "6aa1a6fa25734ebb9c7fe21cfefbdd02": {
          "model_module": "@jupyter-widgets/controls",
          "model_name": "HBoxModel",
          "model_module_version": "1.5.0",
          "state": {
            "_dom_classes": [],
            "_model_module": "@jupyter-widgets/controls",
            "_model_module_version": "1.5.0",
            "_model_name": "HBoxModel",
            "_view_count": null,
            "_view_module": "@jupyter-widgets/controls",
            "_view_module_version": "1.5.0",
            "_view_name": "HBoxView",
            "box_style": "",
            "children": [
              "IPY_MODEL_c51a9c5573804980b9fecf0f4b492c7e",
              "IPY_MODEL_02e1273242bc4dc0a91cdce1c4e80b72",
              "IPY_MODEL_d2335c1515cd457c9ed2c1d667d70c34"
            ],
            "layout": "IPY_MODEL_9cae10717af14ee6ade0413fb18ff650"
          }
        },
        "c51a9c5573804980b9fecf0f4b492c7e": {
          "model_module": "@jupyter-widgets/controls",
          "model_name": "HTMLModel",
          "model_module_version": "1.5.0",
          "state": {
            "_dom_classes": [],
            "_model_module": "@jupyter-widgets/controls",
            "_model_module_version": "1.5.0",
            "_model_name": "HTMLModel",
            "_view_count": null,
            "_view_module": "@jupyter-widgets/controls",
            "_view_module_version": "1.5.0",
            "_view_name": "HTMLView",
            "description": "",
            "description_tooltip": null,
            "layout": "IPY_MODEL_d5838413234547c6a12f37e49278c890",
            "placeholder": "​",
            "style": "IPY_MODEL_c848706c22f843bead98091e67d06bd0",
            "value": "100%"
          }
        },
        "02e1273242bc4dc0a91cdce1c4e80b72": {
          "model_module": "@jupyter-widgets/controls",
          "model_name": "FloatProgressModel",
          "model_module_version": "1.5.0",
          "state": {
            "_dom_classes": [],
            "_model_module": "@jupyter-widgets/controls",
            "_model_module_version": "1.5.0",
            "_model_name": "FloatProgressModel",
            "_view_count": null,
            "_view_module": "@jupyter-widgets/controls",
            "_view_module_version": "1.5.0",
            "_view_name": "ProgressView",
            "bar_style": "success",
            "description": "",
            "description_tooltip": null,
            "layout": "IPY_MODEL_62391dad267d4a47b4583c26c476fc46",
            "max": 100,
            "min": 0,
            "orientation": "horizontal",
            "style": "IPY_MODEL_dfb9822a6a404b9ea8caa1078e28f449",
            "value": 100
          }
        },
        "d2335c1515cd457c9ed2c1d667d70c34": {
          "model_module": "@jupyter-widgets/controls",
          "model_name": "HTMLModel",
          "model_module_version": "1.5.0",
          "state": {
            "_dom_classes": [],
            "_model_module": "@jupyter-widgets/controls",
            "_model_module_version": "1.5.0",
            "_model_name": "HTMLModel",
            "_view_count": null,
            "_view_module": "@jupyter-widgets/controls",
            "_view_module_version": "1.5.0",
            "_view_name": "HTMLView",
            "description": "",
            "description_tooltip": null,
            "layout": "IPY_MODEL_0cfea3eb157547e1ae65c994ef587bf8",
            "placeholder": "​",
            "style": "IPY_MODEL_c90d06f3ce724cf99e789f5be22fbcab",
            "value": " 100/100 [00:04&lt;00:00, 20.64it/s]"
          }
        },
        "9cae10717af14ee6ade0413fb18ff650": {
          "model_module": "@jupyter-widgets/base",
          "model_name": "LayoutModel",
          "model_module_version": "1.2.0",
          "state": {
            "_model_module": "@jupyter-widgets/base",
            "_model_module_version": "1.2.0",
            "_model_name": "LayoutModel",
            "_view_count": null,
            "_view_module": "@jupyter-widgets/base",
            "_view_module_version": "1.2.0",
            "_view_name": "LayoutView",
            "align_content": null,
            "align_items": null,
            "align_self": null,
            "border": null,
            "bottom": null,
            "display": null,
            "flex": null,
            "flex_flow": null,
            "grid_area": null,
            "grid_auto_columns": null,
            "grid_auto_flow": null,
            "grid_auto_rows": null,
            "grid_column": null,
            "grid_gap": null,
            "grid_row": null,
            "grid_template_areas": null,
            "grid_template_columns": null,
            "grid_template_rows": null,
            "height": null,
            "justify_content": null,
            "justify_items": null,
            "left": null,
            "margin": null,
            "max_height": null,
            "max_width": null,
            "min_height": null,
            "min_width": null,
            "object_fit": null,
            "object_position": null,
            "order": null,
            "overflow": null,
            "overflow_x": null,
            "overflow_y": null,
            "padding": null,
            "right": null,
            "top": null,
            "visibility": null,
            "width": null
          }
        },
        "d5838413234547c6a12f37e49278c890": {
          "model_module": "@jupyter-widgets/base",
          "model_name": "LayoutModel",
          "model_module_version": "1.2.0",
          "state": {
            "_model_module": "@jupyter-widgets/base",
            "_model_module_version": "1.2.0",
            "_model_name": "LayoutModel",
            "_view_count": null,
            "_view_module": "@jupyter-widgets/base",
            "_view_module_version": "1.2.0",
            "_view_name": "LayoutView",
            "align_content": null,
            "align_items": null,
            "align_self": null,
            "border": null,
            "bottom": null,
            "display": null,
            "flex": null,
            "flex_flow": null,
            "grid_area": null,
            "grid_auto_columns": null,
            "grid_auto_flow": null,
            "grid_auto_rows": null,
            "grid_column": null,
            "grid_gap": null,
            "grid_row": null,
            "grid_template_areas": null,
            "grid_template_columns": null,
            "grid_template_rows": null,
            "height": null,
            "justify_content": null,
            "justify_items": null,
            "left": null,
            "margin": null,
            "max_height": null,
            "max_width": null,
            "min_height": null,
            "min_width": null,
            "object_fit": null,
            "object_position": null,
            "order": null,
            "overflow": null,
            "overflow_x": null,
            "overflow_y": null,
            "padding": null,
            "right": null,
            "top": null,
            "visibility": null,
            "width": null
          }
        },
        "c848706c22f843bead98091e67d06bd0": {
          "model_module": "@jupyter-widgets/controls",
          "model_name": "DescriptionStyleModel",
          "model_module_version": "1.5.0",
          "state": {
            "_model_module": "@jupyter-widgets/controls",
            "_model_module_version": "1.5.0",
            "_model_name": "DescriptionStyleModel",
            "_view_count": null,
            "_view_module": "@jupyter-widgets/base",
            "_view_module_version": "1.2.0",
            "_view_name": "StyleView",
            "description_width": ""
          }
        },
        "62391dad267d4a47b4583c26c476fc46": {
          "model_module": "@jupyter-widgets/base",
          "model_name": "LayoutModel",
          "model_module_version": "1.2.0",
          "state": {
            "_model_module": "@jupyter-widgets/base",
            "_model_module_version": "1.2.0",
            "_model_name": "LayoutModel",
            "_view_count": null,
            "_view_module": "@jupyter-widgets/base",
            "_view_module_version": "1.2.0",
            "_view_name": "LayoutView",
            "align_content": null,
            "align_items": null,
            "align_self": null,
            "border": null,
            "bottom": null,
            "display": null,
            "flex": null,
            "flex_flow": null,
            "grid_area": null,
            "grid_auto_columns": null,
            "grid_auto_flow": null,
            "grid_auto_rows": null,
            "grid_column": null,
            "grid_gap": null,
            "grid_row": null,
            "grid_template_areas": null,
            "grid_template_columns": null,
            "grid_template_rows": null,
            "height": null,
            "justify_content": null,
            "justify_items": null,
            "left": null,
            "margin": null,
            "max_height": null,
            "max_width": null,
            "min_height": null,
            "min_width": null,
            "object_fit": null,
            "object_position": null,
            "order": null,
            "overflow": null,
            "overflow_x": null,
            "overflow_y": null,
            "padding": null,
            "right": null,
            "top": null,
            "visibility": null,
            "width": null
          }
        },
        "dfb9822a6a404b9ea8caa1078e28f449": {
          "model_module": "@jupyter-widgets/controls",
          "model_name": "ProgressStyleModel",
          "model_module_version": "1.5.0",
          "state": {
            "_model_module": "@jupyter-widgets/controls",
            "_model_module_version": "1.5.0",
            "_model_name": "ProgressStyleModel",
            "_view_count": null,
            "_view_module": "@jupyter-widgets/base",
            "_view_module_version": "1.2.0",
            "_view_name": "StyleView",
            "bar_color": null,
            "description_width": ""
          }
        },
        "0cfea3eb157547e1ae65c994ef587bf8": {
          "model_module": "@jupyter-widgets/base",
          "model_name": "LayoutModel",
          "model_module_version": "1.2.0",
          "state": {
            "_model_module": "@jupyter-widgets/base",
            "_model_module_version": "1.2.0",
            "_model_name": "LayoutModel",
            "_view_count": null,
            "_view_module": "@jupyter-widgets/base",
            "_view_module_version": "1.2.0",
            "_view_name": "LayoutView",
            "align_content": null,
            "align_items": null,
            "align_self": null,
            "border": null,
            "bottom": null,
            "display": null,
            "flex": null,
            "flex_flow": null,
            "grid_area": null,
            "grid_auto_columns": null,
            "grid_auto_flow": null,
            "grid_auto_rows": null,
            "grid_column": null,
            "grid_gap": null,
            "grid_row": null,
            "grid_template_areas": null,
            "grid_template_columns": null,
            "grid_template_rows": null,
            "height": null,
            "justify_content": null,
            "justify_items": null,
            "left": null,
            "margin": null,
            "max_height": null,
            "max_width": null,
            "min_height": null,
            "min_width": null,
            "object_fit": null,
            "object_position": null,
            "order": null,
            "overflow": null,
            "overflow_x": null,
            "overflow_y": null,
            "padding": null,
            "right": null,
            "top": null,
            "visibility": null,
            "width": null
          }
        },
        "c90d06f3ce724cf99e789f5be22fbcab": {
          "model_module": "@jupyter-widgets/controls",
          "model_name": "DescriptionStyleModel",
          "model_module_version": "1.5.0",
          "state": {
            "_model_module": "@jupyter-widgets/controls",
            "_model_module_version": "1.5.0",
            "_model_name": "DescriptionStyleModel",
            "_view_count": null,
            "_view_module": "@jupyter-widgets/base",
            "_view_module_version": "1.2.0",
            "_view_name": "StyleView",
            "description_width": ""
          }
        }
      }
    }
  },
  "nbformat": 4,
  "nbformat_minor": 0
}